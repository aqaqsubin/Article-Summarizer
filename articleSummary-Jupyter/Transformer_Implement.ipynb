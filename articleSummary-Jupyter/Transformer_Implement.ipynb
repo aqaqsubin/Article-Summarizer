{
  "nbformat": 4,
  "nbformat_minor": 0,
  "metadata": {
    "colab": {
      "name": "Transformer-Implement.ipynb",
      "provenance": [],
      "collapsed_sections": []
    },
    "kernelspec": {
      "name": "python3",
      "display_name": "Python 3"
    },
    "accelerator": "GPU"
  },
  "cells": [
    {
      "cell_type": "code",
      "metadata": {
        "id": "pjJ1JudwVof4"
      },
      "source": [
        "import numpy as np\n",
        "import tensorflow as tf "
      ],
      "execution_count": 44,
      "outputs": []
    },
    {
      "cell_type": "markdown",
      "metadata": {
        "id": "yzdjxWcyM_Br"
      },
      "source": [
        "### **Positional Encoding**  \n",
        "\n",
        "Transformer는 입력 시퀀스를 병렬적으로 처리하기 때문에, 입력 데이터는 위치정보를 포함하고 있어야 한다.  \n",
        "Positional Encoding은 각 입베딩 벡터에 위치 정보를 더하는 과정이다.  "
      ]
    },
    {
      "cell_type": "code",
      "metadata": {
        "id": "OFdpr3UoVtQF"
      },
      "source": [
        "class PositionalEncoding(tf.keras.layers.Layer):\n",
        "    def __init__(self, N, d_model):\n",
        "        super(PositionalEncoding, self).__init__()\n",
        "        self.pos_encoding = self.get_positional_encoding(N, d_model)\n",
        "    \n",
        "    def get_positional_encoding(self, N, d_model):\n",
        "\n",
        "        def get_pos_formular(pos, i, d_model):\n",
        "            formular = pos / tf.math.pow(10000, 2*i / tf.cast(d_model, tf.float32))\n",
        "            return tf.math.sin(formular) if i%2 is 0 else tf.math.cos(formular)\n",
        "\n",
        "        pos_encoding = [[get_pos_formular(pos, i, d_model) for i in range(d_model)] for pos in range(N)]\n",
        "        pos_encoding = np.array(pos_encoding)\n",
        "\n",
        "        return tf.cast(pos_encoding, tf.float32)\n",
        "\n",
        "    def call(self, inputs):\n",
        "        return inputs + self.pos_encoding"
      ],
      "execution_count": 90,
      "outputs": []
    },
    {
      "cell_type": "markdown",
      "metadata": {
        "id": "J_H8jIomNdFr"
      },
      "source": [
        "아래는 50개의 임베딩 벡터, 각 임베딩 벡터의 차원이 128일 때의 포지셔널 인코딩 행렬을 시각화한 것이다."
      ]
    },
    {
      "cell_type": "code",
      "metadata": {
        "colab": {
          "base_uri": "https://localhost:8080/",
          "height": 283
        },
        "id": "VMQ7cAQgYxnZ",
        "outputId": "9828d546-5d11-4371-dc6e-8f7bbdaab20a"
      },
      "source": [
        "import matplotlib.pyplot as plt\n",
        "\n",
        "pos_encoder = PositionalEncoding(50, 128)\n",
        "\n",
        "plt.pcolormesh(pos_encoder.pos_encoding, cmap='RdBu')\n",
        "plt.xlabel('Depth')\n",
        "plt.xlim((0, 128))\n",
        "plt.ylabel('Position')\n",
        "plt.colorbar()\n",
        "plt.show()"
      ],
      "execution_count": 91,
      "outputs": [
        {
          "output_type": "display_data",
          "data": {
            "image/png": "[encoded data removed]",
            "text/plain": [
              "<Figure size 432x288 with 2 Axes>"
            ]
          },
          "metadata": {
            "tags": [],
            "needs_background": "light"
          }
        }
      ]
    },
    {
      "cell_type": "markdown",
      "metadata": {
        "id": "QemGZa2VN3j2"
      },
      "source": [
        "### **Padding Mask 생성**  \n",
        "softmax 함수에 잘못된 값이 들어가는 경우에, 이 값을 연산에서 제외하기 위해 Padding Mask 단계를 거친다.  \n",
        "mask에 -1e9 값을 곱해 Attention Score 행렬에 더한다."
      ]
    },
    {
      "cell_type": "code",
      "metadata": {
        "id": "eR7pnTHdLC6A"
      },
      "source": [
        "def create_padding_mask(multiple_qk):\n",
        "    mask = tf.cast(tf.math.equal(multiple_qk.numpy(),0), tf.float32)\n",
        "    return mask * -1e9"
      ],
      "execution_count": 46,
      "outputs": []
    },
    {
      "cell_type": "code",
      "metadata": {
        "colab": {
          "base_uri": "https://localhost:8080/"
        },
        "id": "AoJkfOmhMO6q",
        "outputId": "46fbad67-c841-4e01-ff4f-f444e3736ae4"
      },
      "source": [
        "temp_k = tf.constant([[10,0,0],\n",
        "                      [0,10,0],\n",
        "                      [0,0,10],\n",
        "                      [0,0,10]], dtype=tf.float32)  \n",
        "print(create_padding_mask(temp_k))"
      ],
      "execution_count": 115,
      "outputs": [
        {
          "output_type": "stream",
          "text": [
            "tf.Tensor(\n",
            "[[-0.e+00 -1.e+09 -1.e+09]\n",
            " [-1.e+09 -0.e+00 -1.e+09]\n",
            " [-1.e+09 -1.e+09 -0.e+00]\n",
            " [-1.e+09 -1.e+09 -0.e+00]], shape=(4, 3), dtype=float32)\n"
          ],
          "name": "stdout"
        }
      ]
    },
    {
      "cell_type": "markdown",
      "metadata": {
        "id": "Kh5WP0R5PIFV"
      },
      "source": [
        "### **Scaled Dot-product Attention**  \n",
        "Dot-product Attention과 유사하나, k 벡터의 차원 값인 d_k의 루트 값을 나눠 scaling하는 과정이 추가되었다.\n",
        "\n",
        "```\n",
        "Attention(Q, K, V) = softmax(Q*K^T)*V               # Dot-product Attention\n",
        "Attention(Q, K, V) = softmax((Q*K^T)/sqrt(d_k))*V   # Scaled Dot-product Attention\n",
        "```"
      ]
    },
    {
      "cell_type": "code",
      "metadata": {
        "id": "PvHLUf87dsdi"
      },
      "source": [
        "def scaled_dot_product_attention(query, key, value, mask):\n",
        "\n",
        "    print(\"Query type\\t: {type}, Query Shape\\t: {shape}\".format(type=type(query),\n",
        "                                                              shape=query.shape))\n",
        "    print(\"Key type\\t: {type}, Key Shape\\t: {shape}\".format(type=type(key),\n",
        "                                                              shape=key.shape))\n",
        "    print(\"Value type\\t: {type}, Value Shape\\t: {shape}\\n\".format(type=type(value),\n",
        "                                                              shape=value.shape))\n",
        "\n",
        "    # Attention Score : Q * K^T\n",
        "    attention_score_matrix = tf.matmul(query, key, transpose_b=True)\n",
        "    \n",
        "    # Scaling : Divide by sqrt(d_k)\n",
        "    d_k = tf.cast(key.shape[-1], tf.float32)\n",
        "    scaled_matrix = attention_score_matrix / tf.math.sqrt(d_k)\n",
        "\n",
        "    # Padding Mask\n",
        "    padd_mask = mask if mask is not None else create_padding_mask(scaled_matrix)\n",
        "    scaled_matrix += padd_mask\n",
        "\n",
        "    # Softmax fuction\n",
        "    attention_weights = tf.nn.softmax(scaled_matrix, axis=-1)\n",
        "\n",
        "    # Weighted Sum : multiply V matrix\n",
        "    attention_value = tf.matmul(attention_weights, value)\n",
        "\n",
        "    return attention_value, attention_weights"
      ],
      "execution_count": 110,
      "outputs": []
    },
    {
      "cell_type": "markdown",
      "metadata": {
        "id": "CZ_dsk3oQa7C"
      },
      "source": [
        "아래는 `temp_k`, `temp_v`, `temp_q`가 입력으로 주어졌을 때 Attention Value와 Attention Distribution 을 구한 결과이다."
      ]
    },
    {
      "cell_type": "code",
      "metadata": {
        "id": "VWRxzKzRBBts"
      },
      "source": [
        "np.set_printoptions(suppress=True)\n",
        "temp_k = tf.constant([[10,0,0],\n",
        "                      [0,10,0],\n",
        "                      [0,0,10],\n",
        "                      [0,0,10]], dtype=tf.float32)  \n",
        "\n",
        "temp_v = tf.constant([[   1,0],\n",
        "                      [  10,0],\n",
        "                      [ 100,5],\n",
        "                      [1000,6]], dtype=tf.float32)  \n",
        "temp_q = tf.constant([[0, 10, 0]], dtype=tf.float32)  "
      ],
      "execution_count": 111,
      "outputs": []
    },
    {
      "cell_type": "code",
      "metadata": {
        "colab": {
          "base_uri": "https://localhost:8080/"
        },
        "id": "vSTH7_kEBEMm",
        "outputId": "d4263744-3789-4645-b2da-6a076cbe9e34"
      },
      "source": [
        "temp_out, temp_attn = scaled_dot_product_attention(temp_q, temp_k, temp_v, None)\n",
        "print(\"Attention Distribution : {}\".format(temp_attn)) \n",
        "print(\"Attention Value : {}\".format(temp_out))"
      ],
      "execution_count": 112,
      "outputs": [
        {
          "output_type": "stream",
          "text": [
            "Query type\t: <class 'tensorflow.python.framework.ops.EagerTensor'>, Query Shape\t: (1, 3)\n",
            "Key type\t: <class 'tensorflow.python.framework.ops.EagerTensor'>, Key Shape\t: (4, 3)\n",
            "Value type\t: <class 'tensorflow.python.framework.ops.EagerTensor'>, Value Shape\t: (4, 2)\n",
            "\n",
            "Attention Distribution : [[0. 1. 0. 0.]]\n",
            "Attention Value : [[10.  0.]]\n"
          ],
          "name": "stdout"
        }
      ]
    },
    {
      "cell_type": "markdown",
      "metadata": {
        "id": "oj_Z5yUmPcR9"
      },
      "source": [
        "### **Muti-Head Attention**  \n",
        "한번의 Attention을 수행하는 것보다, 여러번의 Attention을 병렬적으로 수행하는 것이 효율적이다.  \n",
        "각 Attention을 수행한 결과로부터 각기 다른 관점의 정보를 수집할 수 있다.  "
      ]
    },
    {
      "cell_type": "code",
      "metadata": {
        "id": "W_Il_a10PbuG"
      },
      "source": [
        "class MultiHeadAttention:\n",
        "    def __init__(self, num_heads, d_model):\n",
        "        self.num_heads = num_heads\n",
        "        self.d_model = d_model\n",
        "        \n",
        "        assert d_model % num_heads == 0, \"depth가 정수 형식이 아닙니다.\"\n",
        "        self.depth = self.d_model // self.num_heads\n",
        "\n",
        "        # Dense 층의 출력 차원은 d_model\n",
        "        self.WQ = tf.keras.layers.Dense(units=self.d_model)\n",
        "        self.WK = tf.keras.layers.Dense(units=self.d_model)\n",
        "        self.WV = tf.keras.layers.Dense(units=self.d_model)\n",
        "        self.WO = tf.keras.layers.Dense(units=self.d_model)\n",
        "\n",
        "    \n",
        "    def get_multi_head_attention(self, query, key, value):\n",
        "\n",
        "        def split_sequences(num_heads, d_model, query, key, value):\n",
        "            Q_list = np.reshape(query, (-1, num_heads, d_model // num_heads))\n",
        "            K_list = np.reshape(key, (-1, num_heads, d_model // num_heads))\n",
        "            V_list = np.reshape(value, (-1, num_heads, d_model // num_heads))\n",
        "\n",
        "            print(\"Q shape : {q}, K shape : {k}, V shape : {v}\\n\".format(q=Q_list.shape, k=K_list.shape, v=V_list.shape))\n",
        "            return Q_list, K_list, V_list\n",
        "            \n",
        "        def get_single_attention(Qi, Ki, Vi):\n",
        "            q_WQ = self.WQ(Qi)\n",
        "            k_WK = self.WK(Ki)\n",
        "            v_WV = self.WV(Vi)\n",
        "        \n",
        "            head, _ = scaled_dot_product_attention(q_WQ, k_WK, v_WV, None)\n",
        "            return head\n",
        "\n",
        "        def concatenate_heads(heads):\n",
        "            return np.concatenate(heads, axis=1)\n",
        "        \n",
        "        Q_list, K_list, V_list = split_sequences(self.num_heads, self.d_model, query, key, value)\n",
        "        heads = [get_single_attention(query, key, value) for num in range(self.num_heads)]\n",
        "        concat_heads = concatenate_heads(heads)\n",
        "\n",
        "        result = self.WO(concat_heads)\n",
        "\n",
        "        return result\n",
        "        \n",
        "        "
      ],
      "execution_count": 116,
      "outputs": []
    },
    {
      "cell_type": "code",
      "metadata": {
        "colab": {
          "base_uri": "https://localhost:8080/"
        },
        "id": "q-UlQGW7j1xv",
        "outputId": "9ca47680-9418-46f7-e964-74b330b356ca"
      },
      "source": [
        "temp_k = tf.constant([[10,0,0,10,0,0,10,0,0,10,0,0,10,0,0,1],\n",
        "                      [0,10,0,0,10,0,0,10,0,0,10,0,0,10,0,1],\n",
        "                      [0,0,10,0,0,10,0,0,10,0,0,10,0,0,10,1],\n",
        "                      [0,0,10,0,0,10,0,0,10,0,0,10,0,0,10,1]], dtype=tf.float32)  \n",
        "\n",
        "temp_v = tf.constant([[   1,0,    1,0],\n",
        "                      [  10,0,   10,0],\n",
        "                      [ 100,5,  100,5],\n",
        "                      [1000,6, 1000,6]], dtype=tf.float32)  \n",
        "\n",
        "temp_q = tf.constant([[0, 10, 0,0, 10, 0,0, 10, 0,0, 10, 0,0, 10, 0,1]], dtype=tf.float32)\n",
        "\n",
        "attention = MultiHeadAttention(4, 16)\n",
        "result =attention.get_multi_head_attention(temp_q, temp_k, temp_v)\n",
        "print(\"Attention Value : {}\".format(result))\n",
        "print(result.shape)"
      ],
      "execution_count": 115,
      "outputs": [
        {
          "output_type": "stream",
          "text": [
            "Q shape : (1, 4, 4), K shape : (4, 4, 4), V shape : (1, 4, 4)\n",
            "Query type\t: <class 'tensorflow.python.framework.ops.EagerTensor'>, Query Shape\t: (1, 16)\n",
            "Key type\t: <class 'tensorflow.python.framework.ops.EagerTensor'>, Key Shape\t: (4, 16)\n",
            "Value type\t: <class 'tensorflow.python.framework.ops.EagerTensor'>, Value Shape\t: (4, 16)\n",
            "\n",
            "Query type\t: <class 'tensorflow.python.framework.ops.EagerTensor'>, Query Shape\t: (1, 16)\n",
            "Key type\t: <class 'tensorflow.python.framework.ops.EagerTensor'>, Key Shape\t: (4, 16)\n",
            "Value type\t: <class 'tensorflow.python.framework.ops.EagerTensor'>, Value Shape\t: (4, 16)\n",
            "\n",
            "Query type\t: <class 'tensorflow.python.framework.ops.EagerTensor'>, Query Shape\t: (1, 16)\n",
            "Key type\t: <class 'tensorflow.python.framework.ops.EagerTensor'>, Key Shape\t: (4, 16)\n",
            "Value type\t: <class 'tensorflow.python.framework.ops.EagerTensor'>, Value Shape\t: (4, 16)\n",
            "\n",
            "Query type\t: <class 'tensorflow.python.framework.ops.EagerTensor'>, Query Shape\t: (1, 16)\n",
            "Key type\t: <class 'tensorflow.python.framework.ops.EagerTensor'>, Key Shape\t: (4, 16)\n",
            "Value type\t: <class 'tensorflow.python.framework.ops.EagerTensor'>, Value Shape\t: (4, 16)\n",
            "\n",
            "Attention Value : [[ 0.6411207   0.03657329  0.3151573  -0.29834282 -0.6507168  -0.95740384\n",
            "  -0.09606072  0.08476022  0.0025757  -0.38226634 -0.23401144 -0.825014\n",
            "   0.12458768 -0.07792288  0.6598563   0.02440001]]\n",
            "(1, 16)\n"
          ],
          "name": "stdout"
        }
      ]
    },
    {
      "cell_type": "code",
      "metadata": {
        "id": "iPT0bJSICuzR"
      },
      "source": [
        ""
      ],
      "execution_count": null,
      "outputs": []
    }
  ]
}