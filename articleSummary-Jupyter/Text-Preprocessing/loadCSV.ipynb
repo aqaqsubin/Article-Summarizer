{
 "cells": [
  {
   "cell_type": "code",
   "execution_count": 2,
   "metadata": {},
   "outputs": [
    {
     "name": "stdout",
     "output_type": "stream",
     "text": [
      "importing Jupyter notebook from /data/ksb/TestDir/articleSummary-Jupyter/Text-Preprocessing/CommonModule/Handle_Dir.ipynb\n",
      "importing Jupyter notebook from /data/ksb/TestDir/articleSummary-Jupyter/Text-Preprocessing/CommonModule/ArticleHandler.ipynb\n"
     ]
    }
   ],
   "source": [
    "import os\n",
    "from shutil import rmtree\n",
    "import csv\n",
    "from glob import iglob\n",
    "\n",
    "import import_ipynb\n",
    "from CommonModule.Handle_Dir import mkdir_p, del_folder\n",
    "from CommonModule.ArticleHandler import Article, ArticleReader"
   ]
  },
  {
   "cell_type": "code",
   "execution_count": 3,
   "metadata": {},
   "outputs": [],
   "source": [
    "ROOT_DIR = \"/data/ksb\"\n",
    "BASE_DIR = os.path.join(ROOT_DIR, os.path.join(\"TestDir\",\"sample_articles\"))\n",
    "ORIGIN_PATH = os.path.join(BASE_DIR,\"Origin-Data\")\n",
    "PREPROCESSED_PATH = os.path.join(BASE_DIR,\"Preprocessed-Data\")\n",
    "PRETTY_PATH = os.path.join(BASE_DIR,\"Pretty-Data\")\n",
    "SWORDS_PATH = os.path.join(BASE_DIR, \"StopWordList.txt\")"
   ]
  },
  {
   "cell_type": "code",
   "execution_count": 4,
   "metadata": {},
   "outputs": [],
   "source": [
    "for idx, dirpath in enumerate(iglob(os.path.join(ORIGIN_PATH, '**/'), recursive=False)):\n",
    "    csv_filename = csv_filepath.split(os.sep)[-2]\n",
    "    \n",
    "    article_list = sorted(os.listdir(dirpath))\n",
    "    if not article_list : continue\n",
    "    \n",
    "    f = open(dirpath[:-1] + \".csv\", 'w', newline=\"\\n\", encoding=\"utf-8\")\n",
    "    wr = csv.writer(f)\n",
    "    \n",
    "    for article_name in article_list:\n",
    "        \n",
    "        reader = ArticleReader(os.path.join(dirpath, article_name))\n",
    "        article = Article(list(filter(None, reader)))\n",
    "        \n",
    "        if not article.content : continue\n",
    "        \n",
    "        contents = list(article.readContent())\n",
    "        wr.writerow([article.title, \"\\t\".join(contents)])\n",
    "            \n",
    "    f.close()"
   ]
  },
  {
   "cell_type": "code",
   "execution_count": 5,
   "metadata": {},
   "outputs": [],
   "source": [
    "del_files = []\n",
    "\n",
    "for idx, csv_filepath in enumerate(iglob(os.path.join(ORIGIN_PATH, '**.csv'), recursive=False)):\n",
    "    csv_filename = csv_filepath.split(os.sep)[-1]\n",
    "    media_name = csv_filename.split('.')[0]\n",
    "            \n",
    "    f = open(csv_filepath, 'r', newline=\"\\n\", encoding=\"utf-8\")\n",
    "    reader = csv.reader(f)\n",
    "    \n",
    "    if not list(reader) :\n",
    "        print(\"0KB -- {}\".format(media_name))\n",
    "        del_files.append({\"csv\" : csv_filepath, \"dir\" : os.path.join(ORIGIN_PATH, media_name)})\n",
    "        continue\n",
    "    \n",
    "    for [title, contents] in reader:\n",
    "        lines = contents.split(\"\\t\")\n",
    "            \n",
    "    f.close()"
   ]
  },
  {
   "cell_type": "code",
   "execution_count": 6,
   "metadata": {},
   "outputs": [
    {
     "data": {
      "text/plain": [
       "[]"
      ]
     },
     "execution_count": 6,
     "metadata": {},
     "output_type": "execute_result"
    }
   ],
   "source": [
    "del_files"
   ]
  },
  {
   "cell_type": "code",
   "execution_count": 7,
   "metadata": {},
   "outputs": [],
   "source": [
    "for files in del_files:\n",
    "    os.remove(files['csv'])\n",
    "    rmtree(files['dir'])"
   ]
  }
 ],
 "metadata": {
  "kernelspec": {
   "display_name": "Python 3",
   "language": "python",
   "name": "python3"
  },
  "language_info": {
   "codemirror_mode": {
    "name": "ipython",
    "version": 3
   },
   "file_extension": ".py",
   "mimetype": "text/x-python",
   "name": "python",
   "nbconvert_exporter": "python",
   "pygments_lexer": "ipython3",
   "version": "3.6.9"
  }
 },
 "nbformat": 4,
 "nbformat_minor": 4
}
