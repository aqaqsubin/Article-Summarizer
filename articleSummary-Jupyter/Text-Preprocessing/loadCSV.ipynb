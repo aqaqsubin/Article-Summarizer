{
 "cells": [
  {
   "cell_type": "code",
   "execution_count": 4,
   "metadata": {},
   "outputs": [],
   "source": [
    "import os\n",
    "from shutil import rmtree\n",
    "import csv\n",
    "from glob import iglob\n",
    "\n",
    "import import_ipynb\n",
    "from CommonModule.Handle_Dir import mkdir_p, del_folder\n",
    "from CommonModule.ArticleHandler import Article, ArticleReader"
   ]
  },
  {
   "cell_type": "code",
   "execution_count": 29,
   "metadata": {},
   "outputs": [],
   "source": [
    "PARENT_DIR = \"..\"\n",
    "BASE_DIR = os.path.join(PARENT_DIR, os.path.join(PARENT_DIR,\"articles\"))\n",
    "ORIGIN_PATH = os.path.join(BASE_DIR,\"Origin-Data\")\n",
    "PREPROCESSED_PATH = os.path.join(BASE_DIR,\"Preprocessed-Data\")\n",
    "PRETTY_PATH = os.path.join(BASE_DIR,\"Pretty-Data\")\n",
    "SWORDS_PATH = os.path.join(BASE_DIR, \"StopWordList.txt\")"
   ]
  },
  {
   "cell_type": "code",
   "execution_count": 41,
   "metadata": {},
   "outputs": [
    {
     "name": "stdout",
     "output_type": "stream",
     "text": [
      "0KB -- 더불어민주당\n",
      "0KB -- 더불어시민당\n",
      "0KB -- 디스패치\n",
      "0KB -- 미래통합당\n",
      "0KB -- 민주평화당\n",
      "0KB -- 민중당\n",
      "0KB -- 새로운보수당\n",
      "0KB -- 열린민주당\n",
      "0KB -- 우리공화당\n"
     ]
    }
   ],
   "source": [
    "del_files = []\n",
    "\n",
    "for idx, csv_filepath in enumerate(iglob(os.path.join(ORIGIN_PATH, '**.csv'), recursive=False)):\n",
    "    csv_filename = csv_filepath.split(os.sep)[-1]\n",
    "    media_name = csv_filename.split('.')[0]\n",
    "            \n",
    "    f = open(csv_filepath, 'r', newline=\"\\n\", encoding=\"utf-8\")\n",
    "    reader = csv.reader(f)\n",
    "    \n",
    "    if not list(reader) :\n",
    "        print(\"0KB -- {}\".format(media_name))\n",
    "        del_files.append({\"csv\" : csv_filepath, \"dir\" : os.path.join(ORIGIN_PATH, media_name)})\n",
    "        continue\n",
    "    \n",
    "    for [title, contents] in reader:\n",
    "        lines = contents.split(\"\\t\")\n",
    "            \n",
    "    f.close()"
   ]
  },
  {
   "cell_type": "code",
   "execution_count": 42,
   "metadata": {},
   "outputs": [],
   "source": [
    "for files in del_files:\n",
    "    os.remove(files['csv'])\n",
    "    rmtree(files['dir'])"
   ]
  }
 ],
 "metadata": {
  "kernelspec": {
   "display_name": "Python 3",
   "language": "python",
   "name": "python3"
  },
  "language_info": {
   "codemirror_mode": {
    "name": "ipython",
    "version": 3
   },
   "file_extension": ".py",
   "mimetype": "text/x-python",
   "name": "python",
   "nbconvert_exporter": "python",
   "pygments_lexer": "ipython3",
   "version": "3.7.6"
  }
 },
 "nbformat": 4,
 "nbformat_minor": 4
}
