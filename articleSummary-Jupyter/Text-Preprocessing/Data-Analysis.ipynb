{
 "cells": [
  {
   "cell_type": "code",
   "execution_count": 1,
   "metadata": {
    "colab": {
     "base_uri": "https://localhost:8080/"
    },
    "executionInfo": {
     "elapsed": 11031,
     "status": "ok",
     "timestamp": 1610755022118,
     "user": {
      "displayName": "김수빈",
      "photoUrl": "",
      "userId": "17754099482493494628"
     },
     "user_tz": -540
    },
    "id": "X_cwe5iCxSDp",
    "outputId": "ae645a99-4108-4327-fd39-02f261a0ce43"
   },
   "outputs": [
    {
     "name": "stderr",
     "output_type": "stream",
     "text": [
      "[nltk_data] Downloading package punkt to\n",
      "[nltk_data]     C:\\Users\\aqaq9\\AppData\\Roaming\\nltk_data...\n",
      "[nltk_data]   Package punkt is already up-to-date!\n"
     ]
    },
    {
     "data": {
      "text/plain": [
       "True"
      ]
     },
     "execution_count": 1,
     "metadata": {},
     "output_type": "execute_result"
    }
   ],
   "source": [
    "# _*_ coding: utf-8 _*_\n",
    "\n",
    "import re\n",
    "import nltk\n",
    "import os\n",
    "from nltk.tokenize import sent_tokenize\n",
    "from nltk.tokenize import RegexpTokenizer\n",
    "from shutil import rmtree\n",
    "from IPython.display import display\n",
    "import pandas as pd\n",
    "\n",
    "nltk.download('punkt')"
   ]
  },
  {
   "cell_type": "code",
   "execution_count": 9,
   "metadata": {
    "executionInfo": {
     "elapsed": 30359,
     "status": "ok",
     "timestamp": 1610755041467,
     "user": {
      "displayName": "김수빈",
      "photoUrl": "",
      "userId": "17754099482493494628"
     },
     "user_tz": -540
    },
    "id": "S94dfh5nx8-c"
   },
   "outputs": [],
   "source": [
    "def mkdir_p(path):\n",
    "    import errno\n",
    "    try:\n",
    "        os.makedirs(path)\n",
    "    except OSError as exc:\n",
    "        if exc.errno == errno.EEXIST and os.path.isdir(path):\n",
    "            pass\n",
    "        else:\n",
    "            raise\n",
    "\n",
    "def del_folder(path):\n",
    "    try:\n",
    "        rmtree(path)\n",
    "    except:\n",
    "        pass\n"
   ]
  },
  {
   "cell_type": "code",
   "execution_count": 10,
   "metadata": {
    "executionInfo": {
     "elapsed": 30350,
     "status": "ok",
     "timestamp": 1610755041467,
     "user": {
      "displayName": "김수빈",
      "photoUrl": "",
      "userId": "17754099482493494628"
     },
     "user_tz": -540
    },
    "id": "sxJDqNbWxam3"
   },
   "outputs": [],
   "source": [
    "BASE_DIR = \"../../sample_articles\"\n",
    "ORIGIN_PATH = os.path.join(BASE_DIR,\"Origin-Data\")\n",
    "PREPROCESSED_PATH = os.path.join(BASE_DIR,\"Preprocessed-Data\")\n",
    "PRETTY_PATH = os.path.join(BASE_DIR,\"Pretty-Data\")\n",
    "SWORDS_PATH = os.path.join(BASE_DIR, \"StopWordList.txt\")"
   ]
  },
  {
   "cell_type": "code",
   "execution_count": 11,
   "metadata": {
    "executionInfo": {
     "elapsed": 658,
     "status": "ok",
     "timestamp": 1610756050036,
     "user": {
      "displayName": "김수빈",
      "photoUrl": "",
      "userId": "17754099482493494628"
     },
     "user_tz": -540
    },
    "id": "JS28HKCmQ0cC"
   },
   "outputs": [],
   "source": [
    "class TextPreprocessor:\n",
    "    def __init__(self):\n",
    "        self.retokenize = RegexpTokenizer(\"[\\w]+\")\n",
    "        self.swords = []\n",
    "        self.tokenizer = {}\n",
    "\n",
    "    def removeDuplicateSpace(self, text):\n",
    "        return re.sub('\\s+', ' ', text)  # 중복 공백, 탭, 개행 제거\n",
    "    \n",
    "    def removeSpecialChar(self, text):\n",
    "        return ' '.join(self.retokenize.tokenize(text))\n",
    "\n",
    "\n",
    "    def loadSwords(self, filename):\n",
    "        self.swords = []\n",
    "        with open(filename, 'r', encoding='utf-8') as f:\n",
    "            swords = f.readlines()\n",
    "            self.swords = [sword.strip() for sword in self.swords]\n",
    "\n",
    "        self.tokenizer = lambda sent: filter(lambda x:x not in self.swords, sent.split())\n",
    "\n",
    "        return self.swords\n",
    "        \n",
    "    def removeSwords(self, text):\n",
    "        return ' '.join([token for token in list(self.tokenizer(text))]) "
   ]
  },
  {
   "cell_type": "code",
   "execution_count": 12,
   "metadata": {
    "executionInfo": {
     "elapsed": 660,
     "status": "ok",
     "timestamp": 1610755060586,
     "user": {
      "displayName": "김수빈",
      "photoUrl": "",
      "userId": "17754099482493494628"
     },
     "user_tz": -540
    },
    "id": "Do4uaXoBxbl_"
   },
   "outputs": [],
   "source": [
    "def saveTextFile(baseDir, media, filename, sentences):\n",
    "\n",
    "    mkdir_p(os.path.join(baseDir, media))\n",
    "    save_path = os.path.join(os.path.join(baseDir, media), filename)\n",
    "\n",
    "    with open(save_path, 'w', encoding='utf-8') as f:\n",
    "        f.write('/n'.join([sentence for sentence in sentences if sentence is not '']))\n"
   ]
  },
  {
   "cell_type": "code",
   "execution_count": 13,
   "metadata": {
    "executionInfo": {
     "elapsed": 647,
     "status": "ok",
     "timestamp": 1610756055360,
     "user": {
      "displayName": "김수빈",
      "photoUrl": "",
      "userId": "17754099482493494628"
     },
     "user_tz": -540
    },
    "id": "2SRyYfWSFpCK"
   },
   "outputs": [],
   "source": [
    "class Article:\n",
    "    def __init__(self, articleInfo):\n",
    "        self.title = articleInfo[0]\n",
    "        self.media = articleInfo[1]\n",
    "        self.content = articleInfo[2:]\n",
    "\n",
    "    def readContent(self):\n",
    "        for line in self.content:\n",
    "            if line is '': continue\n",
    "            yield line            "
   ]
  },
  {
   "cell_type": "code",
   "execution_count": 14,
   "metadata": {
    "executionInfo": {
     "elapsed": 1297,
     "status": "ok",
     "timestamp": 1610756286398,
     "user": {
      "displayName": "김수빈",
      "photoUrl": "",
      "userId": "17754099482493494628"
     },
     "user_tz": -540
    },
    "id": "yssH-2xU8Q5P"
   },
   "outputs": [],
   "source": [
    "class ArticleReader:\n",
    "    def __init__(self, filepath):\n",
    "        self.filepath = filepath\n",
    "        self.rgxSplitter = re.compile('([.!?:-](?:[\"\\']|(?![0-9])))')\n",
    "        self.content = ''\n",
    "\n",
    "    def __iter__(self):\n",
    "        def is_splited_sentence(sentences):\n",
    "            return len(sentences) > 1\n",
    "        \n",
    "        with open(self.filepath, encoding='utf-8') as f:\n",
    "            title = f.readline()[:-1]\n",
    "            yield title\n",
    "            self.content = f.readline()[:-1]\n",
    "\n",
    "            media = f.readline()[:-1]\n",
    "            yield media\n",
    "\n",
    "            self.del_personal_info(media)\n",
    "            docs = self.rgxSplitter.split(self.content)\n",
    "            \n",
    "            if not is_splited_sentence(docs): # 본문이 1줄이며, 위 정규식에 따라 split 되지 않음\n",
    "                yield docs[0]\n",
    "            else :\n",
    "                for s in map(lambda a, b: a + b, docs[::2], docs[1::2]):\n",
    "                    if not s: continue\n",
    "                    yield s\n",
    "\n",
    "    def del_personal_info(self, media):\n",
    "        rmBracket = re.sub('(\\([^)]*\\)|\\[[^]]*\\])', '', self.content)  # 괄호 안 내용 제거\n",
    "        rmMedia = re.sub(media, ' ', rmBracket)  # 언론사명 제거\n",
    "        rmReporter = re.sub('[가-힣]{2,5}\\s?기자', ' ', rmMedia) # 기자 이름 제거\n",
    "        rmEmail = re.sub('[0-9a-zA-Z]([-_\\.]?[0-9a-zA-Z])*@[0-9a-zA-Z]([-_\\.]?[0-9a-zA-Z])*\\.[a-zA-Z]{2,3}', ' ', rmReporter) # 이메일 제거\n",
    "\n",
    "        self.content = rmEmail\n"
   ]
  },
  {
   "cell_type": "code",
   "execution_count": null,
   "metadata": {
    "colab": {
     "base_uri": "https://localhost:8080/"
    },
    "executionInfo": {
     "elapsed": 16841,
     "status": "ok",
     "timestamp": 1610756325623,
     "user": {
      "displayName": "김수빈",
      "photoUrl": "",
      "userId": "17754099482493494628"
     },
     "user_tz": -540
    },
    "id": "dZXr_0LWxY52",
    "outputId": "1f59102c-9394-43c3-ecb8-8679a4981ef1"
   },
   "outputs": [],
   "source": [
    "del_folder(PREPROCESSED_PATH)\n",
    "del_folder(PRETTY_PATH)\n",
    "\n",
    "preprocessor = TextPreprocessor()\n",
    "preprocessor.loadSwords(SWORDS_PATH)\n",
    "\n",
    "if __name__ == '__main__':\n",
    "    \n",
    "    media_list = sorted(os.listdir(ORIGIN_PATH))\n",
    "    article_dist = pd.DataFrame(columns=['Title', 'Media', 'Line length'])\n",
    "    for media_name in media_list:\n",
    "\n",
    "        media_path = os.path.join(ORIGIN_PATH, media_name)\n",
    "        article_list = sorted(os.listdir(media_path))\n",
    "\n",
    "        for article_name in article_list:\n",
    "            reader = ArticleReader(os.path.join(media_path, article_name))\n",
    "\n",
    "            article = Article(list(filter(None, reader)))\n",
    "            \n",
    "            if len(article.content) is 0 : continue # 본문이 없는 경우, 학습 데이터에서 제외함\n",
    "            \n",
    "            dist= {'Title' : article.title, 'Media' : article.media, 'Line length' : len(list(article.readContent())) }\n",
    "            article_dist = article_dist.append(dist, ignore_index=True)"
   ]
  },
  {
   "cell_type": "code",
   "execution_count": null,
   "metadata": {},
   "outputs": [],
   "source": [
    "display(pd.DataFrame(article_dist))"
   ]
  },
  {
   "cell_type": "code",
   "execution_count": null,
   "metadata": {},
   "outputs": [],
   "source": [
    "import seaborn as sns\n",
    "\n",
    "sns.kdeplot(sample_dist['Line length'])\n",
    "plt.title(\"Text Line Count Distribution\")\n",
    "plt.show()"
   ]
  }
 ],
 "metadata": {
  "colab": {
   "authorship_tag": "ABX9TyMnJhI3kxyw2hvIausnF+TX",
   "collapsed_sections": [],
   "name": "Text-preprocessing-python.ipynb",
   "provenance": []
  },
  "kernelspec": {
   "display_name": "Python 3",
   "language": "python",
   "name": "python3"
  },
  "language_info": {
   "codemirror_mode": {
    "name": "ipython",
    "version": 3
   },
   "file_extension": ".py",
   "mimetype": "text/x-python",
   "name": "python",
   "nbconvert_exporter": "python",
   "pygments_lexer": "ipython3",
   "version": "3.7.6"
  }
 },
 "nbformat": 4,
 "nbformat_minor": 1
}
