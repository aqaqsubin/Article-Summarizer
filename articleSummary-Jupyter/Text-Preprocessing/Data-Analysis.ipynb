{
 "cells": [
  {
   "cell_type": "code",
   "execution_count": 1,
   "metadata": {
    "colab": {
     "base_uri": "https://localhost:8080/"
    },
    "executionInfo": {
     "elapsed": 11031,
     "status": "ok",
     "timestamp": 1610755022118,
     "user": {
      "displayName": "김수빈",
      "photoUrl": "",
      "userId": "17754099482493494628"
     },
     "user_tz": -540
    },
    "id": "X_cwe5iCxSDp",
    "outputId": "ae645a99-4108-4327-fd39-02f261a0ce43"
   },
   "outputs": [
    {
     "name": "stderr",
     "output_type": "stream",
     "text": [
      "[nltk_data] Downloading package punkt to\n",
      "[nltk_data]     C:\\Users\\aqaq9\\AppData\\Roaming\\nltk_data...\n",
      "[nltk_data]   Package punkt is already up-to-date!\n"
     ]
    },
    {
     "data": {
      "text/plain": [
       "True"
      ]
     },
     "execution_count": 1,
     "metadata": {},
     "output_type": "execute_result"
    }
   ],
   "source": [
    "# _*_ coding: utf-8 _*_\n",
    "\n",
    "import re\n",
    "import nltk\n",
    "import os\n",
    "from nltk.tokenize import sent_tokenize\n",
    "from nltk.tokenize import RegexpTokenizer\n",
    "from shutil import rmtree\n",
    "from IPython.display import display\n",
    "import pandas as pd\n",
    "\n",
    "nltk.download('punkt')"
   ]
  },
  {
   "cell_type": "code",
   "execution_count": 9,
   "metadata": {
    "executionInfo": {
     "elapsed": 30359,
     "status": "ok",
     "timestamp": 1610755041467,
     "user": {
      "displayName": "김수빈",
      "photoUrl": "",
      "userId": "17754099482493494628"
     },
     "user_tz": -540
    },
    "id": "S94dfh5nx8-c"
   },
   "outputs": [],
   "source": [
    "def mkdir_p(path):\n",
    "    import errno\n",
    "    try:\n",
    "        os.makedirs(path)\n",
    "    except OSError as exc:\n",
    "        if exc.errno == errno.EEXIST and os.path.isdir(path):\n",
    "            pass\n",
    "        else:\n",
    "            raise\n",
    "\n",
    "def del_folder(path):\n",
    "    try:\n",
    "        rmtree(path)\n",
    "    except:\n",
    "        pass\n"
   ]
  },
  {
   "cell_type": "code",
   "execution_count": 10,
   "metadata": {
    "executionInfo": {
     "elapsed": 30350,
     "status": "ok",
     "timestamp": 1610755041467,
     "user": {
      "displayName": "김수빈",
      "photoUrl": "",
      "userId": "17754099482493494628"
     },
     "user_tz": -540
    },
    "id": "sxJDqNbWxam3"
   },
   "outputs": [],
   "source": [
    "BASE_DIR = \"../../sample_articles\"\n",
    "ORIGIN_PATH = os.path.join(BASE_DIR,\"Origin-Data\")\n",
    "PREPROCESSED_PATH = os.path.join(BASE_DIR,\"Preprocessed-Data\")\n",
    "PRETTY_PATH = os.path.join(BASE_DIR,\"Pretty-Data\")\n",
    "SWORDS_PATH = os.path.join(BASE_DIR, \"StopWordList.txt\")"
   ]
  },
  {
   "cell_type": "code",
   "execution_count": 11,
   "metadata": {
    "executionInfo": {
     "elapsed": 658,
     "status": "ok",
     "timestamp": 1610756050036,
     "user": {
      "displayName": "김수빈",
      "photoUrl": "",
      "userId": "17754099482493494628"
     },
     "user_tz": -540
    },
    "id": "JS28HKCmQ0cC"
   },
   "outputs": [],
   "source": [
    "class TextPreprocessor:\n",
    "    def __init__(self):\n",
    "        self.retokenize = RegexpTokenizer(\"[\\w]+\")\n",
    "        self.swords = []\n",
    "        self.tokenizer = {}\n",
    "\n",
    "    def removeDuplicateSpace(self, text):\n",
    "        return re.sub('\\s+', ' ', text)  # 중복 공백, 탭, 개행 제거\n",
    "    \n",
    "    def removeSpecialChar(self, text):\n",
    "        return ' '.join(self.retokenize.tokenize(text))\n",
    "\n",
    "\n",
    "    def loadSwords(self, filename):\n",
    "        self.swords = []\n",
    "        with open(filename, 'r', encoding='utf-8') as f:\n",
    "            swords = f.readlines()\n",
    "            self.swords = [sword.strip() for sword in self.swords]\n",
    "\n",
    "        self.tokenizer = lambda sent: filter(lambda x:x not in self.swords, sent.split())\n",
    "\n",
    "        return self.swords\n",
    "        \n",
    "    def removeSwords(self, text):\n",
    "        return ' '.join([token for token in list(self.tokenizer(text))]) "
   ]
  },
  {
   "cell_type": "code",
   "execution_count": 12,
   "metadata": {
    "executionInfo": {
     "elapsed": 660,
     "status": "ok",
     "timestamp": 1610755060586,
     "user": {
      "displayName": "김수빈",
      "photoUrl": "",
      "userId": "17754099482493494628"
     },
     "user_tz": -540
    },
    "id": "Do4uaXoBxbl_"
   },
   "outputs": [],
   "source": [
    "def saveTextFile(baseDir, media, filename, sentences):\n",
    "\n",
    "    mkdir_p(os.path.join(baseDir, media))\n",
    "    save_path = os.path.join(os.path.join(baseDir, media), filename)\n",
    "\n",
    "    with open(save_path, 'w', encoding='utf-8') as f:\n",
    "        f.write('/n'.join([sentence for sentence in sentences if sentence is not '']))\n"
   ]
  },
  {
   "cell_type": "code",
   "execution_count": 13,
   "metadata": {
    "executionInfo": {
     "elapsed": 647,
     "status": "ok",
     "timestamp": 1610756055360,
     "user": {
      "displayName": "김수빈",
      "photoUrl": "",
      "userId": "17754099482493494628"
     },
     "user_tz": -540
    },
    "id": "2SRyYfWSFpCK"
   },
   "outputs": [],
   "source": [
    "class Article:\n",
    "    def __init__(self, articleInfo):\n",
    "        self.title = articleInfo[0]\n",
    "        self.media = articleInfo[1]\n",
    "        self.content = articleInfo[2:]\n",
    "\n",
    "    def readContent(self):\n",
    "        for line in self.content:\n",
    "            if line is '': continue\n",
    "            yield line            "
   ]
  },
  {
   "cell_type": "code",
   "execution_count": 14,
   "metadata": {
    "executionInfo": {
     "elapsed": 1297,
     "status": "ok",
     "timestamp": 1610756286398,
     "user": {
      "displayName": "김수빈",
      "photoUrl": "",
      "userId": "17754099482493494628"
     },
     "user_tz": -540
    },
    "id": "yssH-2xU8Q5P"
   },
   "outputs": [],
   "source": [
    "class ArticleReader:\n",
    "    def __init__(self, filepath):\n",
    "        self.filepath = filepath\n",
    "        self.rgxSplitter = re.compile('([.!?:-](?:[\"\\']|(?![0-9])))')\n",
    "        self.content = ''\n",
    "\n",
    "    def __iter__(self):\n",
    "        def is_splited_sentence(sentences):\n",
    "            return len(sentences) > 1\n",
    "        \n",
    "        with open(self.filepath, encoding='utf-8') as f:\n",
    "            title = f.readline()[:-1]\n",
    "            yield title\n",
    "            self.content = f.readline()[:-1]\n",
    "\n",
    "            media = f.readline()[:-1]\n",
    "            yield media\n",
    "\n",
    "            self.del_personal_info(media)\n",
    "            docs = self.rgxSplitter.split(self.content)\n",
    "            \n",
    "            if not is_splited_sentence(docs): # 본문이 1줄이며, 위 정규식에 따라 split 되지 않음\n",
    "                yield docs[0]\n",
    "            else :\n",
    "                for s in map(lambda a, b: a + b, docs[::2], docs[1::2]):\n",
    "                    if not s: continue\n",
    "                    yield s\n",
    "\n",
    "    def del_personal_info(self, media):\n",
    "        rmBracket = re.sub('(\\([^)]*\\)|\\[[^]]*\\])', '', self.content)  # 괄호 안 내용 제거\n",
    "        rmMedia = re.sub(media, ' ', rmBracket)  # 언론사명 제거\n",
    "        rmReporter = re.sub('[가-힣]{2,5}\\s?기자', ' ', rmMedia) # 기자 이름 제거\n",
    "        rmEmail = re.sub('[0-9a-zA-Z]([-_\\.]?[0-9a-zA-Z])*@[0-9a-zA-Z]([-_\\.]?[0-9a-zA-Z])*\\.[a-zA-Z]{2,3}', ' ', rmReporter) # 이메일 제거\n",
    "\n",
    "        self.content = rmEmail\n"
   ]
  },
  {
   "cell_type": "code",
   "execution_count": 15,
   "metadata": {
    "colab": {
     "base_uri": "https://localhost:8080/"
    },
    "executionInfo": {
     "elapsed": 16841,
     "status": "ok",
     "timestamp": 1610756325623,
     "user": {
      "displayName": "김수빈",
      "photoUrl": "",
      "userId": "17754099482493494628"
     },
     "user_tz": -540
    },
    "id": "dZXr_0LWxY52",
    "outputId": "1f59102c-9394-43c3-ecb8-8679a4981ef1"
   },
   "outputs": [],
   "source": [
    "del_folder(PREPROCESSED_PATH)\n",
    "del_folder(PRETTY_PATH)\n",
    "\n",
    "preprocessor = TextPreprocessor()\n",
    "preprocessor.loadSwords(SWORDS_PATH)\n",
    "\n",
    "if __name__ == '__main__':\n",
    "    \n",
    "    media_list = sorted(os.listdir(ORIGIN_PATH))\n",
    "    article_dist = pd.DataFrame(columns=['Title', 'Media', 'Line length'])\n",
    "    for media_name in media_list:\n",
    "\n",
    "        media_path = os.path.join(ORIGIN_PATH, media_name)\n",
    "        article_list = sorted(os.listdir(media_path))\n",
    "\n",
    "        for article_name in article_list:\n",
    "            reader = ArticleReader(os.path.join(media_path, article_name))\n",
    "\n",
    "            article = Article(list(filter(None, reader)))\n",
    "            \n",
    "            if len(article.content) is 0 : continue # 본문이 없는 경우, 학습 데이터에서 제외함\n",
    "            \n",
    "            dist= {'Title' : article.title, 'Media' : article.media, 'Line length' : len(list(article.readContent())) }\n",
    "            article_dist = article_dist.append(dist, ignore_index=True)"
   ]
  },
  {
   "cell_type": "code",
   "execution_count": 16,
   "metadata": {},
   "outputs": [
    {
     "data": {
      "text/html": [
       "<div>\n",
       "<style scoped>\n",
       "    .dataframe tbody tr th:only-of-type {\n",
       "        vertical-align: middle;\n",
       "    }\n",
       "\n",
       "    .dataframe tbody tr th {\n",
       "        vertical-align: top;\n",
       "    }\n",
       "\n",
       "    .dataframe thead th {\n",
       "        text-align: right;\n",
       "    }\n",
       "</style>\n",
       "<table border=\"1\" class=\"dataframe\">\n",
       "  <thead>\n",
       "    <tr style=\"text-align: right;\">\n",
       "      <th></th>\n",
       "      <th>Title</th>\n",
       "      <th>Media</th>\n",
       "      <th>Line length</th>\n",
       "    </tr>\n",
       "  </thead>\n",
       "  <tbody>\n",
       "    <tr>\n",
       "      <th>0</th>\n",
       "      <td>Italy Sinkhole</td>\n",
       "      <td>AP연합뉴스</td>\n",
       "      <td>3</td>\n",
       "    </tr>\n",
       "    <tr>\n",
       "      <th>1</th>\n",
       "      <td>연기 자욱한 의사당 안에서 경찰과 대치한 트럼프 지지자들</td>\n",
       "      <td>AP연합뉴스</td>\n",
       "      <td>3</td>\n",
       "    </tr>\n",
       "    <tr>\n",
       "      <th>2</th>\n",
       "      <td>APTOPIX Virus Outbreak Ukraine</td>\n",
       "      <td>AP연합뉴스</td>\n",
       "      <td>6</td>\n",
       "    </tr>\n",
       "    <tr>\n",
       "      <th>3</th>\n",
       "      <td>Paraguay Daily Life</td>\n",
       "      <td>AP연합뉴스</td>\n",
       "      <td>2</td>\n",
       "    </tr>\n",
       "    <tr>\n",
       "      <th>4</th>\n",
       "      <td>반(反)트럼프 시위대 행진에 백악관 주변 순찰하는 미 경찰</td>\n",
       "      <td>AP연합뉴스</td>\n",
       "      <td>2</td>\n",
       "    </tr>\n",
       "    <tr>\n",
       "      <th>...</th>\n",
       "      <td>...</td>\n",
       "      <td>...</td>\n",
       "      <td>...</td>\n",
       "    </tr>\n",
       "    <tr>\n",
       "      <th>99705</th>\n",
       "      <td>[속보] 파주서 \"또\" 확진자 도주, 사랑제일교회 관련 교인…</td>\n",
       "      <td>헬스조선</td>\n",
       "      <td>6</td>\n",
       "    </tr>\n",
       "    <tr>\n",
       "      <th>99706</th>\n",
       "      <td>[속보] 신종 코로나 24번째 확진자 발생, 20대 우한교민 남성</td>\n",
       "      <td>헬스조선</td>\n",
       "      <td>4</td>\n",
       "    </tr>\n",
       "    <tr>\n",
       "      <th>99707</th>\n",
       "      <td>전광훈 코로나 확진, 재확산 우려… 중대본이 제시한 \"지침\"</td>\n",
       "      <td>헬스조선</td>\n",
       "      <td>17</td>\n",
       "    </tr>\n",
       "    <tr>\n",
       "      <th>99708</th>\n",
       "      <td>세계 최초 코로나19 백신 허가한 영국… 우선 접종 대상자는?</td>\n",
       "      <td>헬스조선</td>\n",
       "      <td>28</td>\n",
       "    </tr>\n",
       "    <tr>\n",
       "      <th>99709</th>\n",
       "      <td>몰카 개그맨 징역 5형 구형… 음란물 중독과 관련 있나?</td>\n",
       "      <td>헬스조선</td>\n",
       "      <td>13</td>\n",
       "    </tr>\n",
       "  </tbody>\n",
       "</table>\n",
       "<p>99710 rows × 3 columns</p>\n",
       "</div>"
      ],
      "text/plain": [
       "                                      Title   Media Line length\n",
       "0                            Italy Sinkhole  AP연합뉴스           3\n",
       "1           연기 자욱한 의사당 안에서 경찰과 대치한 트럼프 지지자들  AP연합뉴스           3\n",
       "2            APTOPIX Virus Outbreak Ukraine  AP연합뉴스           6\n",
       "3                       Paraguay Daily Life  AP연합뉴스           2\n",
       "4          반(反)트럼프 시위대 행진에 백악관 주변 순찰하는 미 경찰  AP연합뉴스           2\n",
       "...                                     ...     ...         ...\n",
       "99705    [속보] 파주서 \"또\" 확진자 도주, 사랑제일교회 관련 교인…    헬스조선           6\n",
       "99706  [속보] 신종 코로나 24번째 확진자 발생, 20대 우한교민 남성    헬스조선           4\n",
       "99707     전광훈 코로나 확진, 재확산 우려… 중대본이 제시한 \"지침\"    헬스조선          17\n",
       "99708    세계 최초 코로나19 백신 허가한 영국… 우선 접종 대상자는?    헬스조선          28\n",
       "99709       몰카 개그맨 징역 5형 구형… 음란물 중독과 관련 있나?    헬스조선          13\n",
       "\n",
       "[99710 rows x 3 columns]"
      ]
     },
     "metadata": {},
     "output_type": "display_data"
    }
   ],
   "source": [
    "display(pd.DataFrame(article_dist))"
   ]
  },
  {
   "cell_type": "markdown",
   "metadata": {},
   "source": [
    "아래는 수집된 기사의 문장 수 분포를 그래프로 나타낸 것이다.  \n",
    "대다수의 기사는 60개 이내의 문장 수를 가지는 것을 확인하였다."
   ]
  },
  {
   "cell_type": "code",
   "execution_count": 27,
   "metadata": {},
   "outputs": [
    {
     "data": {
      "image/png": "[encoded data removed]",
      "text/plain": [
       "<Figure size 1008x288 with 1 Axes>"
      ]
     },
     "metadata": {
      "needs_background": "light"
     },
     "output_type": "display_data"
    }
   ],
   "source": [
    "import seaborn as sns\n",
    "import matplotlib.pyplot as plt\n",
    "import numpy as np\n",
    "\n",
    "line_min = np.min(article_dist['Line length'])\n",
    "line_max = np.max(article_dist['Line length'])\n",
    "\n",
    "sns.kdeplot(article_dist['Line length'])\n",
    "\n",
    "plt.rcParams[\"figure.figsize\"] = (14,4)\n",
    "plt.title(\"Text Line Count Distribution\")\n",
    "plt.xticks(np.arange(line_min, line_max, step=int(line_max // 15)), \\\n",
    "           [\"{}\".format(int(x)) for x in np.arange(line_min, line_max, step=int(line_max // 15))])\n",
    "plt.xlabel('Line Count')\n",
    "plt.show()"
   ]
  }
 ],
 "metadata": {
  "colab": {
   "authorship_tag": "ABX9TyMnJhI3kxyw2hvIausnF+TX",
   "collapsed_sections": [],
   "name": "Text-preprocessing-python.ipynb",
   "provenance": []
  },
  "kernelspec": {
   "display_name": "Python 3",
   "language": "python",
   "name": "python3"
  },
  "language_info": {
   "codemirror_mode": {
    "name": "ipython",
    "version": 3
   },
   "file_extension": ".py",
   "mimetype": "text/x-python",
   "name": "python",
   "nbconvert_exporter": "python",
   "pygments_lexer": "ipython3",
   "version": "3.7.6"
  }
 },
 "nbformat": 4,
 "nbformat_minor": 1
}
