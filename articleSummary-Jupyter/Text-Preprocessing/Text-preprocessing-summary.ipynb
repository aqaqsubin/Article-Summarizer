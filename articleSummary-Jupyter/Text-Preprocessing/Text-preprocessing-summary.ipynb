{
 "cells": [
  {
   "cell_type": "code",
   "execution_count": 14,
   "metadata": {
    "colab": {
     "base_uri": "https://localhost:8080/"
    },
    "executionInfo": {
     "elapsed": 11031,
     "status": "ok",
     "timestamp": 1610755022118,
     "user": {
      "displayName": "김수빈",
      "photoUrl": "",
      "userId": "17754099482493494628"
     },
     "user_tz": -540
    },
    "id": "X_cwe5iCxSDp",
    "outputId": "ae645a99-4108-4327-fd39-02f261a0ce43"
   },
   "outputs": [
    {
     "name": "stderr",
     "output_type": "stream",
     "text": [
      "[nltk_data] Downloading package punkt to /root/nltk_data...\n",
      "[nltk_data]   Package punkt is already up-to-date!\n"
     ]
    },
    {
     "data": {
      "text/plain": [
       "True"
      ]
     },
     "execution_count": 14,
     "metadata": {},
     "output_type": "execute_result"
    }
   ],
   "source": [
    "# _*_ coding: utf-8 _*_\n",
    "\n",
    "import re\n",
    "import nltk\n",
    "import os\n",
    "from konlpy.tag import Okt\n",
    "from konlpy.tag import Komoran\n",
    "from nltk.tokenize import sent_tokenize\n",
    "from nltk.tokenize import RegexpTokenizer\n",
    "from shutil import rmtree\n",
    "\n",
    "\n",
    "nltk.download('punkt')\n"
   ]
  },
  {
   "cell_type": "code",
   "execution_count": 15,
   "metadata": {
    "executionInfo": {
     "elapsed": 30359,
     "status": "ok",
     "timestamp": 1610755041467,
     "user": {
      "displayName": "김수빈",
      "photoUrl": "",
      "userId": "17754099482493494628"
     },
     "user_tz": -540
    },
    "id": "S94dfh5nx8-c"
   },
   "outputs": [],
   "source": [
    "def mkdir_p(path):\n",
    "    import errno\n",
    "    try:\n",
    "        os.makedirs(path)\n",
    "    except OSError as exc:\n",
    "        if exc.errno == errno.EEXIST and os.path.isdir(path):\n",
    "            pass\n",
    "        else:\n",
    "            raise\n",
    "\n",
    "def del_folder(path):\n",
    "    try:\n",
    "        rmtree(path)\n",
    "    except:\n",
    "        pass\n"
   ]
  },
  {
   "cell_type": "code",
   "execution_count": 16,
   "metadata": {
    "executionInfo": {
     "elapsed": 30350,
     "status": "ok",
     "timestamp": 1610755041467,
     "user": {
      "displayName": "김수빈",
      "photoUrl": "",
      "userId": "17754099482493494628"
     },
     "user_tz": -540
    },
    "id": "sxJDqNbWxam3"
   },
   "outputs": [],
   "source": [
    "BASE_DIR = \"/data/TestDir/sample_articles\"\n",
    "SUMMARY_PATH = os.path.join(BASE_DIR,\"Summary-Data\")\n",
    "SUMMARY_PREPROCESSED_PATH = os.path.join(BASE_DIR,\"Summary-Preprocessed-Data\")\n",
    "SWORDS_PATH = os.path.join(BASE_DIR, \"StopWordList.txt\")"
   ]
  },
  {
   "cell_type": "code",
   "execution_count": 17,
   "metadata": {
    "executionInfo": {
     "elapsed": 658,
     "status": "ok",
     "timestamp": 1610756050036,
     "user": {
      "displayName": "김수빈",
      "photoUrl": "",
      "userId": "17754099482493494628"
     },
     "user_tz": -540
    },
    "id": "JS28HKCmQ0cC"
   },
   "outputs": [],
   "source": [
    "class TextPreprocessor:\n",
    "    def __init__(self):\n",
    "        self.retokenize = RegexpTokenizer(\"[\\w]+\")\n",
    "        self.swords = []\n",
    "        self.tokenizer = {}\n",
    "        self.tagger = Komoran()\n",
    "\n",
    "    def removeDuplicateSpace(self, text):\n",
    "        return re.sub('\\s+', ' ', text)  # 중복 공백, 탭, 개행 제거\n",
    "    \n",
    "    def removeSpecialChar(self, text):\n",
    "        return ' '.join(self.retokenize.tokenize(text))\n",
    "\n",
    "\n",
    "    def loadSwords(self, filename):\n",
    "        self.swords = []\n",
    "        with open(filename, 'r', encoding='utf-8') as f:\n",
    "            swords = f.readlines()\n",
    "            self.swords = [tag for sword in self.swords for tag in self.tagger.pos(sword.strip()) if tag[1] in ('NNG', 'NNP', 'VV', 'VA')]\n",
    "\n",
    "        self.tokenizer = lambda sent: filter(lambda x:x not in self.swords and x[1] in ('NNG', 'NNP', 'VV', 'VA'), self.tagger.pos(sent))\n",
    "\n",
    "        return self.swords\n",
    "        \n",
    "    def removeSwords(self, text):\n",
    "        return ' '.join([noun for (noun, pos) in list(self.tokenizer(text))]) "
   ]
  },
  {
   "cell_type": "code",
   "execution_count": 18,
   "metadata": {
    "executionInfo": {
     "elapsed": 660,
     "status": "ok",
     "timestamp": 1610755060586,
     "user": {
      "displayName": "김수빈",
      "photoUrl": "",
      "userId": "17754099482493494628"
     },
     "user_tz": -540
    },
    "id": "Do4uaXoBxbl_"
   },
   "outputs": [],
   "source": [
    "def saveTextFile(baseDir, media, filename, sentence):\n",
    "\n",
    "    mkdir_p(os.path.join(baseDir, media))\n",
    "    save_path = os.path.join(os.path.join(baseDir, media), filename)\n",
    "\n",
    "    with open(save_path, 'w', encoding='utf-8') as f:\n",
    "        if sentence is not '':\n",
    "            f.write(sentence)"
   ]
  },
  {
   "cell_type": "code",
   "execution_count": 19,
   "metadata": {
    "executionInfo": {
     "elapsed": 1297,
     "status": "ok",
     "timestamp": 1610756286398,
     "user": {
      "displayName": "김수빈",
      "photoUrl": "",
      "userId": "17754099482493494628"
     },
     "user_tz": -540
    },
    "id": "yssH-2xU8Q5P"
   },
   "outputs": [],
   "source": [
    "class SummaryReader:\n",
    "    def __init__(self, media_name, article_name):\n",
    "        self.filepath = os.path.join(os.path.join(SUMMARY_PATH, media_name),article_name)\n",
    "        self.media_name = media_name\n",
    "        self.rgxSplitter = re.compile('([.!?:-](?:[\"\\']|(?![0-9])))')\n",
    "        self.content = ''\n",
    "\n",
    "    def get_summary(self):\n",
    "        with open(self.filepath, encoding='utf-8') as f:\n",
    "            self.content = f.readline()\n",
    "            self.del_personal_info(self.media_name)\n",
    "            \n",
    "            return self.content\n",
    "\n",
    "    def del_personal_info(self, media):\n",
    "        rmBracket = re.sub('(\\([^)]*\\)|\\[[^]]*\\])', '', self.content)  # 괄호 안 내용 제거\n",
    "        rmMedia = re.sub(media, ' ', rmBracket)  # 언론사명 제거\n",
    "        rmReporter = re.sub('[가-힣]{2,5}\\s?기자', ' ', rmMedia) # 기자 이름 제거\n",
    "        rmEmail = re.sub('[0-9a-zA-Z]([-_\\.]?[0-9a-zA-Z])*@[0-9a-zA-Z]([-_\\.]?[0-9a-zA-Z])*\\.[a-zA-Z]{2,3}', ' ', rmReporter) # 이메일 제거\n",
    "\n",
    "        self.content = rmEmail\n"
   ]
  },
  {
   "cell_type": "code",
   "execution_count": 20,
   "metadata": {
    "colab": {
     "base_uri": "https://localhost:8080/"
    },
    "executionInfo": {
     "elapsed": 16841,
     "status": "ok",
     "timestamp": 1610756325623,
     "user": {
      "displayName": "김수빈",
      "photoUrl": "",
      "userId": "17754099482493494628"
     },
     "user_tz": -540
    },
    "id": "dZXr_0LWxY52",
    "outputId": "1f59102c-9394-43c3-ecb8-8679a4981ef1",
    "scrolled": true
   },
   "outputs": [],
   "source": [
    "del_folder(SUMMARY_PREPROCESSED_PATH)\n",
    "\n",
    "preprocessor = TextPreprocessor()\n",
    "preprocessor.loadSwords(SWORDS_PATH)\n",
    "\n",
    "if __name__ == '__main__':\n",
    "    \n",
    "    media_list = os.listdir(SUMMARY_PATH)\n",
    "\n",
    "    for media_name in media_list:\n",
    "\n",
    "        media_path = os.path.join(SUMMARY_PATH, media_name)\n",
    "        article_list = os.listdir(media_path)\n",
    "\n",
    "        for article_name in article_list:\n",
    "            \n",
    "            reader = SummaryReader(media_name, article_name)\n",
    "            \n",
    "            summary = reader.get_summary()\n",
    "            \n",
    "            cleanLine = preprocessor.removeDuplicateSpace(summary)\n",
    "            cleanLine = preprocessor.removeSpecialChar(cleanLine)\n",
    "                \n",
    "            rmSwordLine = preprocessor.removeSwords(cleanLine)\n",
    "\n",
    "            saveTextFile(SUMMARY_PREPROCESSED_PATH, media_name, article_name, rmSwordLine)"
   ]
  },
  {
   "cell_type": "code",
   "execution_count": null,
   "metadata": {},
   "outputs": [],
   "source": []
  }
 ],
 "metadata": {
  "colab": {
   "authorship_tag": "ABX9TyMnJhI3kxyw2hvIausnF+TX",
   "collapsed_sections": [],
   "name": "Text-preprocessing-python.ipynb",
   "provenance": []
  },
  "kernelspec": {
   "display_name": "Python 3",
   "language": "python",
   "name": "python3"
  },
  "language_info": {
   "codemirror_mode": {
    "name": "ipython",
    "version": 3
   },
   "file_extension": ".py",
   "mimetype": "text/x-python",
   "name": "python",
   "nbconvert_exporter": "python",
   "pygments_lexer": "ipython3",
   "version": "3.6.9"
  }
 },
 "nbformat": 4,
 "nbformat_minor": 1
}
