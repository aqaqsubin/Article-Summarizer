{
 "cells": [
  {
   "cell_type": "markdown",
   "metadata": {
    "id": "j_IVrCG2WTqF"
   },
   "source": [
    "### **필요한 라이브러리 설치**\n",
    "\n",
    "**nltk** \n",
    "- 한글 문장 단위 분할 함수인 sent_tokenize 지원\n",
    "\n",
    "**konlpy**\n",
    "- 한글 형태소 분석기 Okt 지원"
   ]
  },
  {
   "cell_type": "code",
   "execution_count": null,
   "metadata": {
    "colab": {
     "base_uri": "https://localhost:8080/"
    },
    "executionInfo": {
     "elapsed": 5990,
     "status": "ok",
     "timestamp": 1610585290787,
     "user": {
      "displayName": "김수빈",
      "photoUrl": "",
      "userId": "17754099482493494628"
     },
     "user_tz": -540
    },
    "id": "imscIQf2F-Fj",
    "outputId": "204be3c3-adf4-402b-824a-14a505138774"
   },
   "outputs": [
    {
     "name": "stdout",
     "output_type": "stream",
     "text": [
      "Requirement already satisfied: nltk in /usr/local/lib/python3.6/dist-packages (3.2.5)\n",
      "Requirement already satisfied: six in /usr/local/lib/python3.6/dist-packages (from nltk) (1.15.0)\n"
     ]
    }
   ],
   "source": [
    "!pip install nltk"
   ]
  },
  {
   "cell_type": "code",
   "execution_count": 1,
   "metadata": {
    "colab": {
     "base_uri": "https://localhost:8080/"
    },
    "executionInfo": {
     "elapsed": 6809,
     "status": "ok",
     "timestamp": 1610723225803,
     "user": {
      "displayName": "김수빈",
      "photoUrl": "",
      "userId": "17754099482493494628"
     },
     "user_tz": -540
    },
    "id": "JuiwiLxAPPRT",
    "outputId": "4fd886da-c2d9-4389-e38c-53865169262a"
   },
   "outputs": [
    {
     "name": "stdout",
     "output_type": "stream",
     "text": [
      "Collecting konlpy\n",
      "\u001b[?25l  Downloading https://files.pythonhosted.org/packages/85/0e/f385566fec837c0b83f216b2da65db9997b35dd675e107752005b7d392b1/konlpy-0.5.2-py2.py3-none-any.whl (19.4MB)\n",
      "\u001b[K     |████████████████████████████████| 19.4MB 1.3MB/s \n",
      "\u001b[?25hCollecting tweepy>=3.7.0\n",
      "  Downloading https://files.pythonhosted.org/packages/67/c3/6bed87f3b1e5ed2f34bd58bf7978e308c86e255193916be76e5a5ce5dfca/tweepy-3.10.0-py2.py3-none-any.whl\n",
      "Collecting beautifulsoup4==4.6.0\n",
      "\u001b[?25l  Downloading https://files.pythonhosted.org/packages/9e/d4/10f46e5cfac773e22707237bfcd51bbffeaf0a576b0a847ec7ab15bd7ace/beautifulsoup4-4.6.0-py3-none-any.whl (86kB)\n",
      "\u001b[K     |████████████████████████████████| 92kB 8.6MB/s \n",
      "\u001b[?25hRequirement already satisfied: numpy>=1.6 in /usr/local/lib/python3.6/dist-packages (from konlpy) (1.19.5)\n",
      "Collecting JPype1>=0.7.0\n",
      "\u001b[?25l  Downloading https://files.pythonhosted.org/packages/de/af/93f92b38ec1ff3091cd38982ed19cea2800fefb609b5801c41fc43c0781e/JPype1-1.2.1-cp36-cp36m-manylinux2010_x86_64.whl (457kB)\n",
      "\u001b[K     |████████████████████████████████| 460kB 46.5MB/s \n",
      "\u001b[?25hRequirement already satisfied: lxml>=4.1.0 in /usr/local/lib/python3.6/dist-packages (from konlpy) (4.2.6)\n",
      "Collecting colorama\n",
      "  Downloading https://files.pythonhosted.org/packages/44/98/5b86278fbbf250d239ae0ecb724f8572af1c91f4a11edf4d36a206189440/colorama-0.4.4-py2.py3-none-any.whl\n",
      "Requirement already satisfied: six>=1.10.0 in /usr/local/lib/python3.6/dist-packages (from tweepy>=3.7.0->konlpy) (1.15.0)\n",
      "Requirement already satisfied: requests[socks]>=2.11.1 in /usr/local/lib/python3.6/dist-packages (from tweepy>=3.7.0->konlpy) (2.23.0)\n",
      "Requirement already satisfied: requests-oauthlib>=0.7.0 in /usr/local/lib/python3.6/dist-packages (from tweepy>=3.7.0->konlpy) (1.3.0)\n",
      "Requirement already satisfied: typing-extensions; python_version < \"3.8\" in /usr/local/lib/python3.6/dist-packages (from JPype1>=0.7.0->konlpy) (3.7.4.3)\n",
      "Requirement already satisfied: certifi>=2017.4.17 in /usr/local/lib/python3.6/dist-packages (from requests[socks]>=2.11.1->tweepy>=3.7.0->konlpy) (2020.12.5)\n",
      "Requirement already satisfied: chardet<4,>=3.0.2 in /usr/local/lib/python3.6/dist-packages (from requests[socks]>=2.11.1->tweepy>=3.7.0->konlpy) (3.0.4)\n",
      "Requirement already satisfied: idna<3,>=2.5 in /usr/local/lib/python3.6/dist-packages (from requests[socks]>=2.11.1->tweepy>=3.7.0->konlpy) (2.10)\n",
      "Requirement already satisfied: urllib3!=1.25.0,!=1.25.1,<1.26,>=1.21.1 in /usr/local/lib/python3.6/dist-packages (from requests[socks]>=2.11.1->tweepy>=3.7.0->konlpy) (1.24.3)\n",
      "Requirement already satisfied: PySocks!=1.5.7,>=1.5.6; extra == \"socks\" in /usr/local/lib/python3.6/dist-packages (from requests[socks]>=2.11.1->tweepy>=3.7.0->konlpy) (1.7.1)\n",
      "Requirement already satisfied: oauthlib>=3.0.0 in /usr/local/lib/python3.6/dist-packages (from requests-oauthlib>=0.7.0->tweepy>=3.7.0->konlpy) (3.1.0)\n",
      "Installing collected packages: tweepy, beautifulsoup4, JPype1, colorama, konlpy\n",
      "  Found existing installation: tweepy 3.6.0\n",
      "    Uninstalling tweepy-3.6.0:\n",
      "      Successfully uninstalled tweepy-3.6.0\n",
      "  Found existing installation: beautifulsoup4 4.6.3\n",
      "    Uninstalling beautifulsoup4-4.6.3:\n",
      "      Successfully uninstalled beautifulsoup4-4.6.3\n",
      "Successfully installed JPype1-1.2.1 beautifulsoup4-4.6.0 colorama-0.4.4 konlpy-0.5.2 tweepy-3.10.0\n"
     ]
    }
   ],
   "source": [
    "!pip install konlpy"
   ]
  },
  {
   "cell_type": "code",
   "execution_count": 2,
   "metadata": {
    "colab": {
     "base_uri": "https://localhost:8080/"
    },
    "executionInfo": {
     "elapsed": 9343,
     "status": "ok",
     "timestamp": 1610723228346,
     "user": {
      "displayName": "김수빈",
      "photoUrl": "",
      "userId": "17754099482493494628"
     },
     "user_tz": -540
    },
    "id": "96ywc36GV3lB",
    "outputId": "9f4e33b8-4437-41b3-c5e5-6d179f9d35f7"
   },
   "outputs": [
    {
     "name": "stdout",
     "output_type": "stream",
     "text": [
      "[nltk_data] Downloading package punkt to /root/nltk_data...\n",
      "[nltk_data]   Unzipping tokenizers/punkt.zip.\n"
     ]
    },
    {
     "data": {
      "text/plain": [
       "True"
      ]
     },
     "execution_count": 2,
     "metadata": {
      "tags": []
     },
     "output_type": "execute_result"
    }
   ],
   "source": [
    "import re\n",
    "import nltk\n",
    "import os\n",
    "from nltk.tokenize import sent_tokenize\n",
    "from konlpy.tag import Komoran\n",
    "from shutil import rmtree\n",
    "\n",
    "nltk.download('punkt')"
   ]
  },
  {
   "cell_type": "code",
   "execution_count": null,
   "metadata": {
    "colab": {
     "base_uri": "https://localhost:8080/",
     "height": 35
    },
    "executionInfo": {
     "elapsed": 775,
     "status": "ok",
     "timestamp": 1610588433038,
     "user": {
      "displayName": "김수빈",
      "photoUrl": "",
      "userId": "17754099482493494628"
     },
     "user_tz": -540
    },
    "id": "Kl1yuKu9Xf4D",
    "outputId": "8693d9d1-1a95-4134-a437-dff784f52ceb"
   },
   "outputs": [
    {
     "data": {
      "application/vnd.google.colaboratory.intrinsic+json": {
       "type": "string"
      },
      "text/plain": [
       "'김순녀씨는'"
      ]
     },
     "execution_count": 36,
     "metadata": {
      "tags": []
     },
     "output_type": "execute_result"
    }
   ],
   "source": [
    "text1 = \"이명박(남·68·대한민국 국적·출생지 일본)은\"\n",
    "text2 = \"김순녀[26·여·종로구 관철동 18]씨는\"\n",
    "text3 = \"이명박(68) \"\n",
    "\n",
    "re.sub('(\\(|\\[).*(\\)|\\])','',text2)"
   ]
  },
  {
   "cell_type": "markdown",
   "metadata": {
    "id": "jyUxyOahYH9v"
   },
   "source": [
    "구글 드라이브 마운트"
   ]
  },
  {
   "cell_type": "code",
   "execution_count": 3,
   "metadata": {
    "colab": {
     "base_uri": "https://localhost:8080/"
    },
    "executionInfo": {
     "elapsed": 29535,
     "status": "ok",
     "timestamp": 1610723250159,
     "user": {
      "displayName": "김수빈",
      "photoUrl": "",
      "userId": "17754099482493494628"
     },
     "user_tz": -540
    },
    "id": "eX9Qkfa8EBx0",
    "outputId": "f942ac5b-ced4-48ad-9600-c5e973746c19"
   },
   "outputs": [
    {
     "name": "stdout",
     "output_type": "stream",
     "text": [
      "Mounted at /content/gdrive\n"
     ]
    }
   ],
   "source": [
    "from google.colab import drive\n",
    "drive.mount('/content/gdrive')"
   ]
  },
  {
   "cell_type": "markdown",
   "metadata": {
    "id": "Joq0-dwBXOFq"
   },
   "source": [
    "## **Read Article**\n",
    "\n",
    "기사 수집 시, 각 언론사 별로 디렉토리를 구성하여 분류하였다."
   ]
  },
  {
   "cell_type": "code",
   "execution_count": 9,
   "metadata": {
    "colab": {
     "base_uri": "https://localhost:8080/"
    },
    "executionInfo": {
     "elapsed": 557,
     "status": "ok",
     "timestamp": 1610723593072,
     "user": {
      "displayName": "김수빈",
      "photoUrl": "",
      "userId": "17754099482493494628"
     },
     "user_tz": -540
    },
    "id": "0mwbmg6sg-T3",
    "outputId": "4bd6d61f-332f-4a7a-ea99-14b81eeca2cd"
   },
   "outputs": [
    {
     "data": {
      "text/plain": [
       "['한겨레',\n",
       " '파이낸셜뉴스',\n",
       " '중앙일보',\n",
       " '조선일보',\n",
       " '조선비즈',\n",
       " '이데일리',\n",
       " '오마이뉴스',\n",
       " '연합뉴스TV',\n",
       " '연합뉴스',\n",
       " '스포츠서울',\n",
       " '세계일보',\n",
       " '서울신문',\n",
       " '서울경제',\n",
       " '디지털타임스',\n",
       " '동아일보',\n",
       " '더팩트',\n",
       " '뉴시스',\n",
       " '뉴스1',\n",
       " '노컷뉴스',\n",
       " '국민일보',\n",
       " '경향신문',\n",
       " 'YTN',\n",
       " 'TV조선',\n",
       " 'SBS',\n",
       " 'MBN',\n",
       " 'MBC',\n",
       " 'KBS']"
      ]
     },
     "execution_count": 9,
     "metadata": {
      "tags": []
     },
     "output_type": "execute_result"
    }
   ],
   "source": [
    "BASE_DIR = \"/content/gdrive/My Drive/Colab Notebooks/ETRI_Article_Summarizer/Text-preprocessing-Data/articles\"\n",
    "ORIGIN_PATH = os.path.join(BASE_DIR,\"Origin-Data\")\n",
    "PREPROCESSED_PATH = os.path.join(BASE_DIR,\"Preprocessed-Data\")\n",
    "PRETTY_PATH = os.path.join(BASE_DIR,\"Pretty-Data\")\n",
    "SWORDS_PATH = os.path.join(BASE_DIR, \"StopWordList.txt\")\n",
    "\n",
    "media_list = os.listdir(ORIGIN_PATH)\n",
    "media_list"
   ]
  },
  {
   "cell_type": "markdown",
   "metadata": {
    "id": "c9KhjS-mYlb6"
   },
   "source": [
    "텍스트 파일에는 기사 제목과 본문, 언론사 이름이 작성되어있다."
   ]
  },
  {
   "cell_type": "code",
   "execution_count": 10,
   "metadata": {
    "colab": {
     "base_uri": "https://localhost:8080/",
     "height": 989
    },
    "executionInfo": {
     "elapsed": 3299,
     "status": "error",
     "timestamp": 1610723599257,
     "user": {
      "displayName": "김수빈",
      "photoUrl": "",
      "userId": "17754099482493494628"
     },
     "user_tz": -540
    },
    "id": "7kP4k15xE90z",
    "outputId": "d648d89b-0d43-478f-96c3-bc3b07eddd08"
   },
   "outputs": [
    {
     "name": "stdout",
     "output_type": "stream",
     "text": [
      "미 검찰, 흑인에게 7발 총쏜 경찰에 ‘면죄부’…항의 시위 불붙나\n",
      "어린 자식들이 지켜보는 가운데 흑인 아버지의 등에 여러 발의 총격을 가한 미국 백인 경찰들이 불기소 처분을 받았다. 지난해 미국에서 인종차별 시위를 촉발한 주요 사건 중 하나에 검찰이 면죄부를 준 것이다. 사건 발생 지역에서는 이번 결정에 항의하는 시위가 시작됐다.5일(현지시각) 마이클 그래벌리 위스콘신주 커노샤 카운티 지방검사장은 지난해 8월 흑인 남성 제이컵 블레이크에게 총을 쏜 혐의 등으로 체포된 러스틴 셰스키 등 경찰관 3명을 기소하지 않는다고 밝혔다. 검찰은 사건 당시 블레이크가 흉기를 갖고 있었고, 경찰이 이를 버리라고 했지만 그가 따르지 않았다며 “경찰들에게 자기방어 권리가 있었다”고 판단했다.커노샤 경찰인 셰스키는 지난해 8월23일 지역에서 가정폭력이 발생했다는 신고를 받고 출동해, 체포에 불응하던 블레이크의 등 뒤에서 7발의 총격을 가했다. 이 총격으로 블레이크는 하반신을 쓰지 못하게 됐다. 블레이크는 당시 경찰의 체포 요구를 뿌리치고 본인 차 문을 열다가 총격을 받았다. 차 안에는 3살·5살·8살 된 그의 아들 세 명이 타고 있었고, 이 장면을 모두 지켜봤다.미국에서는 지난해 5월 흑인 조지 플로이드가 경찰의 무릎에 8분46초 동안 짓눌린 뒤 사망한 영상이 공개되면서 ‘인종차별’ 반대 시위가 촉발됐고, 석 달 여 뒤 블레이크가 자식들이 지켜보는 가운데 경찰의 총격 7발을 맞는 영상이 공개되면서 시위가 더욱 퍼졌다. 특히 커노샤에서는 이 사건 뒤 항의 시위가 격화되면서 이에 반대하는 자경단이 등장했고, 자경단에 동조하는 10대 소년이 시위대를 향해 총을 쏴 2명이 사망하고 1명이 크게 다치는 사건이 벌어지기도 했다.그래벌리 검사장은 경찰들이 여러 차례 테이저건을 사용해 진압을 시도했으나 블레이크가 저항했다며 “블레이크가 흉기로 무장하고 있었다는 데 반박의 여지가 없다”고 말했다. 그는 “(경찰을 기소하려면) ‘나를 지키기 위해 총을 쐈어야 했다’고 하는 경찰의 주장이 틀렸음을 증명했어야 했다”며 “정부가 자기방어권을 부정할 수는 없다”고 말했다.이번 검찰의 불기소 결정으로 커노샤 등에서 다시 항의 시위가 벌어지고 있다. 시위대 수백 명은 검찰의 불기소 발표 뒤 검찰청 앞에 모여 “검찰 결정을 받아들일 수 없다”며 항의 행진에 나섰다.현재 행진 규모는 크지 않지만, 위스콘신 당국은 긴장한 채 사태의 추이를 지켜보고 있다. 앞서 토니 에버스 위스콘신 주지사는 기소 결정 하루 전인 4일 “만일의 사태에 대비한다”며 주 방위군 소집령을 발령했다. 불기소 때 시위가 격화될 것을 예상해 내린 선제 조처다. 최현준 기자 haojune@hani.co.kr[ⓒ한겨레신문 : 무단전재 및 재배포 금지]\n",
      "한겨레\n",
      "경찰, 동거 중인 60대 여성 살해한 50대男 체포\n",
      "[파이낸셜뉴스]    동거 중이던 여성을 흉기로 살해한 혐의를 받는 50대 남성이 경찰에 붙잡혔다.   서울 서대문경찰서는 살인 혐의로 이모씨(53)를 체포해 조사 중이라고 7일 밝혔다.   이씨는 전날인 6일 오후 4시30분께 자신의 집인 서대문구 홍은동의 한 빌라에서 60대 동거녀 A씨를 흉기로 찔러 살해한 혐의를 받는다.   그는 범행 이후 경찰에 신고해 자수했고, 출동한 경찰관은 오후 5시께 현행범으로 체포했다.   경찰은 범행동기를 조사 중에 있으며 구속영장을 신청할 예정이다.         ※ 저작권자 ⓒ 파이낸셜뉴스. 무단 전재-재배포 금지\n",
      "파이낸셜뉴스\n",
      "지적장애女 강제추행 방송한 BJ..경찰, 긴급체포\n",
      "[파이낸셜뉴스] 온라인 방송에서 지적장애를 앓고 있는 여성의 옷을 벗겨 논란에 휩싸인 BJ땡초가 경찰에 붙잡혔다.   경기남부경찰청 사이버수사대는 6일 BJ땡초를 강제추행 등 혐의로 긴급체포해 조사하고 있다.   A씨는 이달 초 경기도 모처에서 인터넷 방송을 하던 중 지적장애가 있는 20대 여성 A씨를 강제로 추행한 혐의를 받고 있다.   지난 5일 한 온라인 커뮤니티에 ‘BJ땡초 지적장애3급 데리고 방송’이라는 글이 올라오면서 논란이 불거졌다.   글쓴이는 “지적장애를 돈벌이로 이용하는 악질 BJ의 만행을 공론화 시키려 한다”며 “타 플랫폼에 데리고 가서 이른바 벗방을 시켰다”고 폭로했다. 이 과정에서 BJ땡초는 A씨가 거부했음에도 별풍선 환불을 운운하며 협박을 한 것으로 전해졌다.   논란이 확산되자 경찰은 내사에 착수해 BJ땡초의 신원과 소재지를 확인했고 체포했다.   경찰 관계자는 “자세한 혐의는 조사를 더 해봐야 확인할 수 있다”며 “강제추행 외에 추가 범행 여부와 공범 등에 대해서도 엄정히 수사할 방침”이라고 말했다.     #경찰 #지적장애 #BJ땡초 #벗방        ※ 저작권자 ⓒ 파이낸셜뉴스. 무단 전재-재배포 금지\n",
      "파이낸셜뉴스\n",
      "국회서 또 고개숙인 김창룡.. \"경찰 최고 책임자로서 깊은 책임느껴\"\n",
      "[파이낸셜뉴스] 김창룡 경찰청장이 생후 16개월 입양아가 양부모의 학대로 숨진 이른바 '정인이 사건' 관련 전날 대국민사과에 이어 7일 또다시 고개를 숙였다.   김 청장은 이날 오전 국회에서 열린 행정안전위원회 긴급 현안질의에 출석해 \"초동수사와 수사과정에서 미흡했던 부분에 대해 경찰의 최고 책임자로서 깊은 책임감 느낀다\"며 이같이 말했다.   김 청장은 \"엄정하고 철저한 진상조사를 바탕으로 재발방지 대책을 마련해 경찰의 아동학대 대응체계를 전면 쇄신하는 계기로 삼겠다\"고 다짐했다.   그는 \"국민의 생명과 안전, 특히 사회적 약자와 관련된 사건에 대해서는 경찰서장에게 직접 보고하고 지휘관이 직접 관장하도록 해서 책임감을 강화하겠다\"고 했다. 또 \"아동학대 등 약자에 대한 반복신고가 면밀히 모니터링되도록 조기에 피해아동 보호하겠다\"고 말했다.   경찰청은 아동학대 전담부서를 신설하고, 앞으로 모든 아동학대 의심사건에 대해 학대 혐의자의 정신병력과 알코올중독 등 과거이력을 확인하겠다는 방침이다.   김 청장은 \"이번 사건을 계기로 국민 안전을 지키는 경찰의 기본 사명을 다시 한 번 되새기겠다\"고 말했다.       ※ 저작권자 ⓒ 파이낸셜뉴스. 무단 전재-재배포 금지\n",
      "파이낸셜뉴스\n",
      "전주 한 사립고 기간제 교사 \"답안지 조작\" 의혹..경찰 수사\n",
      "[파이낸셜뉴스] 전북 전주의 한 사립고등학교에서 답안지 조작 사건이 발생해 경찰이 수사에 나섰다.   6일 전북경찰청 등에 따르면 전북도교육청은 최근 전주 시내 한 사립고에서 근무하던 기간제 교사 A씨를 업무방해와 사문서 위조죄 등의 혐의로 경찰에 고발했다.   A씨는 지난해 10월 말 이 학교에 다니는 한 학생의 중간고사 OMR 답안지에 기재된 객관식 문제의 오답을 정답으로 고친 혐의를 받고 있다.   이 과정에서 A씨는 동료 교사의 도장을 도용한 것으로 드러났다.   당시 해당 과목 시험 문제 출제자였던 A씨는 자신이 시험기간에 잘못된 정보를 제공하는 바람에 한 학생이 문제를 틀렸다고 항의하자 이 같은 범행을 저질렀다고 주장하고 있다.   사건이 불거지자 A씨는 이 학교에 사직서를 제출했고 몇 주 만에 다른 학교에 재취업한 것으로 알려졌다.   경찰 관계자는 \"고발장을 토대로 구체적인 경위를 파악하고 조만간 관계자 등을 불러 조사할 계획\"이라고 밝혔다.   한편 전주에서는 2019년에도 한 사립 고교의 교무실무사가 특정 학생의 답안지를 조작해 1심에서 징역 3년을 선고받은 바 있다.  #답안지조작        ※ 저작권자 ⓒ 파이낸셜뉴스. 무단 전재-재배포 금지\n",
      "파이낸셜뉴스\n",
      "김창룡 경찰청장 \"현장 경찰관의 학대징후 판단력 키우겠다\"\n",
      "[파이낸셜뉴스] 김창룡 경찰청장은 7일 생후 16개월 입양아가 양부모의 학대로 숨진 이른바 '정인이 사건' 관련 \"현장 경찰관이 (아동학대) 징후를 정확히 판단할 수 있는 역량과 전문성을 키울 수 있도록 노력하겠다\"고 밝혔다.   김 청장은 이날 오전 국회에서 열린 행정안전위원회 긴급 현안질의에서 '아동학대 전담 부서만 만든다고 해결될 일이 아니다'라는 이은주 정의당 의원의 지적에 이같이 답했다.   김 청장은 \"현장에 출동한 경찰관이 학대의 징후를 면밀하게 파악해서 조기에 예방 또는 수사착수 여부가 제일 중요하다고 생각한다\"고 말했다.   전날 경찰은 이번 사건에 대한 지휘책임을 물어 서울 양천경찰서장을 대기발령 조치했다. 그러나 세 차례에 걸친 아동학대 의심 신고에도 경찰이 초동 대응과 수사 과정에서 미흡한 대처를 보인 데 대한 국민적 공분은 이어지고 있다.         ※ 저작권자 ⓒ 파이낸셜뉴스. 무단 전재-재배포 금지\n",
      "파이낸셜뉴스\n",
      "미 경찰, 의회 의사당 건물 탈환...20명 검거\n",
      "미국 경찰이 6일(현지시간) 의회 의사당에 난입한 약 20명을 검거했으며 현재 건물을 탈환했다고 CNN이 보도했다.   이날 약 20명여명이 플라스틱 수갑으로 채워진채 경찰 차량에 탑승하는 장면이 목격됐다고 CNN은 전했다.       ※ 저작권자 ⓒ 파이낸셜뉴스. 무단 전재-재배포 금지\n",
      "파이낸셜뉴스\n",
      "정인이 멍이 몽고반점인줄...경찰청장 \"보호자 말 너무 믿었다\"\n",
      "김창룡 경찰청장이 양부모의 학대로 숨진 ‘정인이 사건’과 관련 경찰의 책임론을 인정하고 전날 대국민사과에 이어 7일에도 다시 한번 고개를 숙였다.        김 청장은 이날 국회 행정안전위원회 긴급 현안질의에 출석해 “경찰의 최고 책임자로 깊은 책임감을 느낀다”고 다시 한번 사과했다. 그는 “1차로 현장 출동하는 경찰과 공무원 등이 전문성과 책임성을 가지고 사전 징후라도 파악해야 하는데, 아직 미흡한 면이 있다”며 “이를 개선하겠다”고 밝혔다.        여야 의원들은 아동학대에 대한 경찰관들의 미흡한 초동 대응과 수사를 한 목소리로 질타했다. 김민철 더불어민주당 의원은 경찰이 정인 양의 몸에 있던 양부모의 학대로 생긴 멍과 몽고반점을 구분하지 못해 내사를 종결한 점을 언급하며 “몽고반점과 멍을 구분 못한다는 것이 말이 되냐”고 지적했다. 이에 대해 김 청장은 “보호자의 주장을 너무 쉽게 믿은 게 아쉬운 부분”이라고 답했다.        김 청장은 김동현 국민의힘 의원이 ‘경찰이 사건을 재수사할 의지가 있느냐’는 질의한 데 대해서는 “현행법 체계에서 경찰이 검찰에 송치한 사건에 대해 특별한 사정이 없는 한 재수사는 어려운 것으로 안다”고 답했다. 그러면서 “이 사건은 검찰이 기소해 재판이 진행 중”이라며 새로운 증거나 사실이 발견되지 않으면 재수사가 어렵다고 덧붙였다.        김 청장은 또 “현장에서 겉으로 드러난 정황만으로 판단하기가 상당히 어려운 측면이 있고, 또 학대가 발생한 지 한참 지난 후 신고가 발생하기 때문에 지난 치료기록을 볼 수 있는 권한도 (경찰이) 가질 수 있도록 세밀하게 (대책을) 강구하겠다”고 밝혔다.        장주영 기자 jang.jooyoung@joongang.co.kr   ▶ ▶ ▶ ⓒ중앙일보(https://joongang.co.kr), 무단 전재 및 재배포 금지\n",
      "중앙일보\n",
      "경찰청장 \"정인이 사건 수사 미흡\" 사과...양천서장 대기발령 [전문]\n",
      "경찰이 양부모의 학대로 사망한 ‘정인이 사건’과 관련 부실 수사에 대해 사과하고 재발방지를 약속했다. 사건에 대한 지휘책임을 물어 서울양천경찰서장은 대기발령 조치했다.        김창룡 경찰청장은 6일 사과문을 내고 “학대 피해를 당한 어린아이의 생명을 보호하지 못한 점에 대해 깊은 사죄의 말씀을 드린다”고 밝혔다. 그러면서 “초동 대응과 수사 과정에서의 미흡했던 부분들에 대해서도 경찰 최고 책임자로서 깊은 책임감을 느낀다”고 덧붙였다.        이번 사건을 계기로 경찰의 아동학대 대응체계를 전면적으로 쇄신하는 계기로 삼겠다고도 했다. 김 청장은 “아동학대 조기발견 및 보호ㆍ지원과 학대수사 업무가 유기적으로 이루어질 수 있도록 경찰청에 아동학대 전담부서를 신설하고, 국가수사본부와 시ㆍ도 자치경찰 간 협력체계를 공고히 구축해 나가겠다”고 약속했다.       그는 “모든 아동학대 의심사건에 대해 학대혐의자의 정신병력ㆍ알코올 중독과 피해아동의 과거 진료기록을 반드시 확인하고 사회적 약자에 대한 전문성과 인권감수성을 바탕으로 학대 범죄에 대해 엄정하게 수사하겠다”고 밝혔다. 이어 “국가수사본부를 중심으로 경찰청 관련기능이 모두 참여하는 TF를 구성하여 재발방지대책을 강력하게 추진해 나가겠다”고 덧붙였다.        이번 사건의 지휘책임을 물어 서울양천경찰서장은 6일자로 대기발령 조치했고 여성청소년 분야에 정통한 서정순 서울청 안보수사과장을 후임으로 발령했다. 김 청장은 “사건 담당 관계자에 대해서도 엄정하고 철저한 진상조사를 바탕으로 국민들께서 납득할 수 있도록 책임있는 조치를 취하겠다”고 말했다.        장주영 기자 jang.jooyoung@joongang.co.kr   ▶ ▶ ▶ ⓒ중앙일보(https://joongang.co.kr), 무단 전재 및 재배포 금지\n",
      "중앙일보\n",
      "경찰 간부가 금은방 털었다 \"CCTV 피할 동선도 짜며 치밀\"\n",
      "현직 경찰관이 금은방에서 수천만 원 상당의 귀금속을 훔쳤다가 붙잡혔다.        광주 남부경찰서는 7일 금은방에서 2500만원 상당의 귀금속을 훔친 혐의(특수절도)로 광주 서부경찰서 소속 A 경위를 붙잡아 조사 중이다. 경찰에 따르면 A 경위는 지난달 18일 오전 4시쯤 광주시 남구의 한 금은방에 침입해 2500만원 상당의 귀금속을 훔친 혐의를 받고 있다.       경찰에 따르면 A 경위는 범행에 이용한 차량 번호판을 가렸다. 금은방에는 폐쇄회로TV(CCTV)가 설치돼 있었지만, A 경위가 마스크와 모자를 쓰고 얼굴을 가렸기 때문에 신원을 특정하기 어려웠다.       A 경위는 준비한 공구로 금은방 셔터를 자른 뒤 유리 진열장을 부수고 귀금속을 훔쳐 달아났다. 범행 시간은 몇 분도 채 걸리지 않았다. 이 때문에 그는 사설 경비업체가 도착하기 전 현장을 빠져나갈 수 있었다.       경찰은 용의자의 신원을 파악하기 위해 차량 동선이 담긴 CCTV 수색 범위를 계속 확대한 끝에 A 경위를 특정했다. A 경위는 범행 직후 CCTV를 피하기 위해 전남지역 시골로 차를 몰았던 것으로 조사됐다. 경찰은 A 경위가 현직 경찰인 만큼 CCTV를 의식해 치밀한 동선을 짠 것으로 보고 범행 과정을 파악 중이다.       A 경위는 현재 경찰 조사에서 자신의 범행을 모두 인정하고 있다. A 경위는 거액의 빚을 갚기 위해 금은방 털이를 계획한 것으로 조사됐다. 경찰은 A 경위가 훔친 뒤 보관중이던 귀금속을 대부분 회수했다. 경찰은 추가 조사를 거친 뒤 구속영장을 신청할 방침이다.  광주광역시=진창일 기자 jin.changil@joongang.co.kr   ▶ ▶ ▶ ⓒ중앙일보(https://joongang.co.kr), 무단 전재 및 재배포 금지\n",
      "중앙일보\n",
      "마스크 쓰고 턴 뒤, 번호판 가리고 달아났다...그는 현직 경찰\n",
      "지난 달 18일 새벽 광주광역시 남구 월산동의 한 금은방에서 2500만원 상당의 귀금속이 도난당했다. 경찰이 범인을 잡고보니 현직 초급경찰간부였다.금은방 주인의 도난신고를 받은 광주남부경찰서는 바로 전담팀을 조직, 수사에 착수했다. 도난범을 잡은 것은 지난 6일 밤 11시쯤이었다. 광주시내 한 병원이었다. 경찰은 신상을 파악한 뒤 병원을 급습하여 법인을 체포했다.경찰이 도난범 경찰을 검거한 특이한 상황이 발생했다. 계급은 경위로 현직 경찰관이었다. 초급간부였다. 광주서부경찰서 관내 한 파출소에서 근무하면서 도둑을 잡아야할 그가 도둑으로 체포된 순간이었다.범행 일시는 지난달 18일 오전 4시. 그는 마스크와 모자를 쓰고 있었다. 준비해놓은 도구로 금은방의 문을 부수고 침임했다. 그 침입자는 번호판을 가린 차량을 타고 도망갔다. 경찰은 이 차를 주목했다. 관내 도로망 곳곳의 CCTV 등을 확인하며 차량의 꼬리를 따라갔다. 경찰은 차량운전자와 소유자를 특정인으로 지목했다.경찰은 그를 상대로 조사중이다. 광주남부경찰서는 “그가 범행을 인정했다”고 밝혔다. 피해품은 모두 회수했다. 남부서는 “그가 다액의 채무를 범행동기로 진술하고 있고, 관련내용을 명확히 확인중에 있다”고 말했다. 그는 억대의 도박빚을 지고 있을 것으로 알려졌다.현직 경찰로 도둑이 된 그에 대해 수사경찰은 “무관용의 원칙을 바탕으로 엄중하게 대응하겠다”며 “조사를 마치면 구속영장을 신청하겠다”고 말했다. 그에게는 읿반절도보다 무거운 특수절도 혐의가 적용되고 있다.[조홍복 기자 powerbok@chosun.com] [권경안 기자 gakwon@chosun.com] \t\t▶ \t\t▶  \t\t▶\n",
      "조선일보\n"
     ]
    },
    {
     "ename": "KeyboardInterrupt",
     "evalue": "ignored",
     "output_type": "error",
     "traceback": [
      "\u001b[0;31m---------------------------------------------------------------------------\u001b[0m",
      "\u001b[0;31mKeyboardInterrupt\u001b[0m                         Traceback (most recent call last)",
      "\u001b[0;32m<ipython-input-10-1433ba206d5d>\u001b[0m in \u001b[0;36m<module>\u001b[0;34m()\u001b[0m\n\u001b[1;32m      6\u001b[0m     \u001b[0mf\u001b[0m \u001b[0;34m=\u001b[0m \u001b[0mopen\u001b[0m\u001b[0;34m(\u001b[0m\u001b[0mos\u001b[0m\u001b[0;34m.\u001b[0m\u001b[0mpath\u001b[0m\u001b[0;34m.\u001b[0m\u001b[0mjoin\u001b[0m\u001b[0;34m(\u001b[0m\u001b[0mmedia_path\u001b[0m\u001b[0;34m,\u001b[0m \u001b[0marticle\u001b[0m\u001b[0;34m)\u001b[0m\u001b[0;34m,\u001b[0m \u001b[0;34m'r'\u001b[0m\u001b[0;34m)\u001b[0m\u001b[0;34m\u001b[0m\u001b[0;34m\u001b[0m\u001b[0m\n\u001b[1;32m      7\u001b[0m \u001b[0;34m\u001b[0m\u001b[0m\n\u001b[0;32m----> 8\u001b[0;31m     \u001b[0mtitle\u001b[0m \u001b[0;34m=\u001b[0m \u001b[0mf\u001b[0m\u001b[0;34m.\u001b[0m\u001b[0mreadline\u001b[0m\u001b[0;34m(\u001b[0m\u001b[0;34m)\u001b[0m\u001b[0;34m[\u001b[0m\u001b[0;34m:\u001b[0m\u001b[0;34m-\u001b[0m\u001b[0;36m1\u001b[0m\u001b[0;34m]\u001b[0m\u001b[0;34m\u001b[0m\u001b[0;34m\u001b[0m\u001b[0m\n\u001b[0m\u001b[1;32m      9\u001b[0m     \u001b[0mcontent\u001b[0m \u001b[0;34m=\u001b[0m \u001b[0mf\u001b[0m\u001b[0;34m.\u001b[0m\u001b[0mreadline\u001b[0m\u001b[0;34m(\u001b[0m\u001b[0;34m)\u001b[0m\u001b[0;34m[\u001b[0m\u001b[0;34m:\u001b[0m\u001b[0;34m-\u001b[0m\u001b[0;36m1\u001b[0m\u001b[0;34m]\u001b[0m\u001b[0;34m\u001b[0m\u001b[0;34m\u001b[0m\u001b[0m\n\u001b[1;32m     10\u001b[0m     \u001b[0mmedia\u001b[0m \u001b[0;34m=\u001b[0m \u001b[0mf\u001b[0m\u001b[0;34m.\u001b[0m\u001b[0mreadline\u001b[0m\u001b[0;34m(\u001b[0m\u001b[0;34m)\u001b[0m\u001b[0;34m[\u001b[0m\u001b[0;34m:\u001b[0m\u001b[0;34m-\u001b[0m\u001b[0;36m1\u001b[0m\u001b[0;34m]\u001b[0m\u001b[0;34m\u001b[0m\u001b[0;34m\u001b[0m\u001b[0m\n",
      "\u001b[0;32m/usr/lib/python3.6/codecs.py\u001b[0m in \u001b[0;36mdecode\u001b[0;34m(self, input, final)\u001b[0m\n\u001b[1;32m    316\u001b[0m         \u001b[0;32mraise\u001b[0m \u001b[0mNotImplementedError\u001b[0m\u001b[0;34m\u001b[0m\u001b[0;34m\u001b[0m\u001b[0m\n\u001b[1;32m    317\u001b[0m \u001b[0;34m\u001b[0m\u001b[0m\n\u001b[0;32m--> 318\u001b[0;31m     \u001b[0;32mdef\u001b[0m \u001b[0mdecode\u001b[0m\u001b[0;34m(\u001b[0m\u001b[0mself\u001b[0m\u001b[0;34m,\u001b[0m \u001b[0minput\u001b[0m\u001b[0;34m,\u001b[0m \u001b[0mfinal\u001b[0m\u001b[0;34m=\u001b[0m\u001b[0;32mFalse\u001b[0m\u001b[0;34m)\u001b[0m\u001b[0;34m:\u001b[0m\u001b[0;34m\u001b[0m\u001b[0;34m\u001b[0m\u001b[0m\n\u001b[0m\u001b[1;32m    319\u001b[0m         \u001b[0;31m# decode input (taking the buffer into account)\u001b[0m\u001b[0;34m\u001b[0m\u001b[0;34m\u001b[0m\u001b[0;34m\u001b[0m\u001b[0m\n\u001b[1;32m    320\u001b[0m         \u001b[0mdata\u001b[0m \u001b[0;34m=\u001b[0m \u001b[0mself\u001b[0m\u001b[0;34m.\u001b[0m\u001b[0mbuffer\u001b[0m \u001b[0;34m+\u001b[0m \u001b[0minput\u001b[0m\u001b[0;34m\u001b[0m\u001b[0;34m\u001b[0m\u001b[0m\n",
      "\u001b[0;31mKeyboardInterrupt\u001b[0m: "
     ]
    }
   ],
   "source": [
    "for media in media_list:\n",
    "  media_path = os.path.join(ORIGIN_PATH, media)\n",
    "  article_list= os.listdir(media_path)\n",
    "  \n",
    "  for article in article_list :\n",
    "    f = open(os.path.join(media_path, article), 'r')\n",
    "    \n",
    "    title = f.readline()[:-1]\n",
    "    content = f.readline()[:-1]\n",
    "    media = f.readline()[:-1]\n",
    "    \n",
    "    f.close()\n",
    "\n",
    "    print(title)\n",
    "    print(content)\n",
    "    print(media)"
   ]
  },
  {
   "cell_type": "markdown",
   "metadata": {
    "id": "38difAkuYsRf"
   },
   "source": [
    "경향신문 언론사 첫번째 기사를 예시로 텍스트 전처리를 수행한다."
   ]
  },
  {
   "cell_type": "code",
   "execution_count": 11,
   "metadata": {
    "colab": {
     "base_uri": "https://localhost:8080/"
    },
    "executionInfo": {
     "elapsed": 553,
     "status": "ok",
     "timestamp": 1610723601560,
     "user": {
      "displayName": "김수빈",
      "photoUrl": "",
      "userId": "17754099482493494628"
     },
     "user_tz": -540
    },
    "id": "sEr83ZiPAVDZ",
    "outputId": "db61d766-1d8c-4c21-f4b1-01922d5f2d17"
   },
   "outputs": [
    {
     "name": "stdout",
     "output_type": "stream",
     "text": [
      "/content/gdrive/My Drive/Colab Notebooks/ETRI_Article_Summarizer/Text-preprocessing-Data/articles/Origin-Data/중앙일보\n",
      "정인이 멍이 몽고반점인줄...경찰청장 \"보호자 말 너무 믿었다\"\n",
      "김창룡 경찰청장이 양부모의 학대로 숨진 ‘정인이 사건’과 관련 경찰의 책임론을 인정하고 전날 대국민사과에 이어 7일에도 다시 한번 고개를 숙였다.        김 청장은 이날 국회 행정안전위원회 긴급 현안질의에 출석해 “경찰의 최고 책임자로 깊은 책임감을 느낀다”고 다시 한번 사과했다. 그는 “1차로 현장 출동하는 경찰과 공무원 등이 전문성과 책임성을 가지고 사전 징후라도 파악해야 하는데, 아직 미흡한 면이 있다”며 “이를 개선하겠다”고 밝혔다.        여야 의원들은 아동학대에 대한 경찰관들의 미흡한 초동 대응과 수사를 한 목소리로 질타했다. 김민철 더불어민주당 의원은 경찰이 정인 양의 몸에 있던 양부모의 학대로 생긴 멍과 몽고반점을 구분하지 못해 내사를 종결한 점을 언급하며 “몽고반점과 멍을 구분 못한다는 것이 말이 되냐”고 지적했다. 이에 대해 김 청장은 “보호자의 주장을 너무 쉽게 믿은 게 아쉬운 부분”이라고 답했다.        김 청장은 김동현 국민의힘 의원이 ‘경찰이 사건을 재수사할 의지가 있느냐’는 질의한 데 대해서는 “현행법 체계에서 경찰이 검찰에 송치한 사건에 대해 특별한 사정이 없는 한 재수사는 어려운 것으로 안다”고 답했다. 그러면서 “이 사건은 검찰이 기소해 재판이 진행 중”이라며 새로운 증거나 사실이 발견되지 않으면 재수사가 어렵다고 덧붙였다.        김 청장은 또 “현장에서 겉으로 드러난 정황만으로 판단하기가 상당히 어려운 측면이 있고, 또 학대가 발생한 지 한참 지난 후 신고가 발생하기 때문에 지난 치료기록을 볼 수 있는 권한도 (경찰이) 가질 수 있도록 세밀하게 (대책을) 강구하겠다”고 밝혔다.        장주영 기자 jang.jooyoung@joongang.co.kr   ▶ ▶ ▶ ⓒ중앙일보(https://joongang.co.kr), 무단 전재 및 재배포 금지\n",
      "중앙일보\n"
     ]
    }
   ],
   "source": [
    "media = media_list[2]\n",
    "media_path = os.path.join(ORIGIN_PATH, media)\n",
    "article_list= os.listdir(media_path)\n",
    "print(media_path)\n",
    "article = article_list[0]\n",
    "f = open(os.path.join(media_path, article), 'r')\n",
    "    \n",
    "title = f.readline()[:-1]\n",
    "content = f.readline()[:-1]\n",
    "media = f.readline()[:-1]\n",
    "    \n",
    "f.close()\n",
    "\n",
    "print(title)\n",
    "print(content)\n",
    "print(media) "
   ]
  },
  {
   "cell_type": "markdown",
   "metadata": {
    "id": "TiU7qGH8YzKa"
   },
   "source": [
    "정규식을 사용하여 중복된 스페이스, 탭, 개행을 제거한다."
   ]
  },
  {
   "cell_type": "code",
   "execution_count": 12,
   "metadata": {
    "colab": {
     "base_uri": "https://localhost:8080/",
     "height": 216
    },
    "executionInfo": {
     "elapsed": 575,
     "status": "ok",
     "timestamp": 1610723607234,
     "user": {
      "displayName": "김수빈",
      "photoUrl": "",
      "userId": "17754099482493494628"
     },
     "user_tz": -540
    },
    "id": "zMn5QeCMJWEO",
    "outputId": "8a2e35d7-2a4b-44af-e702-29e22f335676"
   },
   "outputs": [
    {
     "data": {
      "application/vnd.google.colaboratory.intrinsic+json": {
       "type": "string"
      },
      "text/plain": [
       "'김창룡 경찰청장이 양부모의 학대로 숨진 ‘정인이 사건’과 관련 경찰의 책임론을 인정하고 전날 대국민사과에 이어 7일에도 다시 한번 고개를 숙였다. 김 청장은 이날 국회 행정안전위원회 긴급 현안질의에 출석해 “경찰의 최고 책임자로 깊은 책임감을 느낀다”고 다시 한번 사과했다. 그는 “1차로 현장 출동하는 경찰과 공무원 등이 전문성과 책임성을 가지고 사전 징후라도 파악해야 하는데, 아직 미흡한 면이 있다”며 “이를 개선하겠다”고 밝혔다. 여야 의원들은 아동학대에 대한 경찰관들의 미흡한 초동 대응과 수사를 한 목소리로 질타했다. 김민철 더불어민주당 의원은 경찰이 정인 양의 몸에 있던 양부모의 학대로 생긴 멍과 몽고반점을 구분하지 못해 내사를 종결한 점을 언급하며 “몽고반점과 멍을 구분 못한다는 것이 말이 되냐”고 지적했다. 이에 대해 김 청장은 “보호자의 주장을 너무 쉽게 믿은 게 아쉬운 부분”이라고 답했다. 김 청장은 김동현 국민의힘 의원이 ‘경찰이 사건을 재수사할 의지가 있느냐’는 질의한 데 대해서는 “현행법 체계에서 경찰이 검찰에 송치한 사건에 대해 특별한 사정이 없는 한 재수사는 어려운 것으로 안다”고 답했다. 그러면서 “이 사건은 검찰이 기소해 재판이 진행 중”이라며 새로운 증거나 사실이 발견되지 않으면 재수사가 어렵다고 덧붙였다. 김 청장은 또 “현장에서 겉으로 드러난 정황만으로 판단하기가 상당히 어려운 측면이 있고, 또 학대가 발생한 지 한참 지난 후 신고가 발생하기 때문에 지난 치료기록을 볼 수 있는 권한도 (경찰이) 가질 수 있도록 세밀하게 (대책을) 강구하겠다”고 밝혔다. 장주영 기자 jang.jooyoung@joongang.co.kr ▶ ▶ ▶ ⓒ중앙일보(https://joongang.co.kr), 무단 전재 및 재배포 금지'"
      ]
     },
     "execution_count": 12,
     "metadata": {
      "tags": []
     },
     "output_type": "execute_result"
    }
   ],
   "source": [
    "rmSpace = re.sub('\\s+', ' ', content)\n",
    "rmSpace"
   ]
  },
  {
   "cell_type": "markdown",
   "metadata": {
    "id": "fKl8iqSpY46m"
   },
   "source": [
    "기사 본문 내용 중 '이모씨(56)'에서 (56)과 같은 나이 표시는 불필요하다 판단하였다.  \n",
    "소괄호 및 대괄호 안에 있는 정보는 인물 정보와 같은 부수적인 내용이므로 삭제하였다."
   ]
  },
  {
   "cell_type": "code",
   "execution_count": 13,
   "metadata": {
    "colab": {
     "base_uri": "https://localhost:8080/",
     "height": 198
    },
    "executionInfo": {
     "elapsed": 634,
     "status": "ok",
     "timestamp": 1610723613901,
     "user": {
      "displayName": "김수빈",
      "photoUrl": "",
      "userId": "17754099482493494628"
     },
     "user_tz": -540
    },
    "id": "WUXDjH8wG55k",
    "outputId": "50b185be-4bab-4503-c0ea-adb20105c0b5"
   },
   "outputs": [
    {
     "data": {
      "application/vnd.google.colaboratory.intrinsic+json": {
       "type": "string"
      },
      "text/plain": [
       "'김창룡 경찰청장이 양부모의 학대로 숨진 ‘정인이 사건’과 관련 경찰의 책임론을 인정하고 전날 대국민사과에 이어 7일에도 다시 한번 고개를 숙였다. 김 청장은 이날 국회 행정안전위원회 긴급 현안질의에 출석해 “경찰의 최고 책임자로 깊은 책임감을 느낀다”고 다시 한번 사과했다. 그는 “1차로 현장 출동하는 경찰과 공무원 등이 전문성과 책임성을 가지고 사전 징후라도 파악해야 하는데, 아직 미흡한 면이 있다”며 “이를 개선하겠다”고 밝혔다. 여야 의원들은 아동학대에 대한 경찰관들의 미흡한 초동 대응과 수사를 한 목소리로 질타했다. 김민철 더불어민주당 의원은 경찰이 정인 양의 몸에 있던 양부모의 학대로 생긴 멍과 몽고반점을 구분하지 못해 내사를 종결한 점을 언급하며 “몽고반점과 멍을 구분 못한다는 것이 말이 되냐”고 지적했다. 이에 대해 김 청장은 “보호자의 주장을 너무 쉽게 믿은 게 아쉬운 부분”이라고 답했다. 김 청장은 김동현 국민의힘 의원이 ‘경찰이 사건을 재수사할 의지가 있느냐’는 질의한 데 대해서는 “현행법 체계에서 경찰이 검찰에 송치한 사건에 대해 특별한 사정이 없는 한 재수사는 어려운 것으로 안다”고 답했다. 그러면서 “이 사건은 검찰이 기소해 재판이 진행 중”이라며 새로운 증거나 사실이 발견되지 않으면 재수사가 어렵다고 덧붙였다. 김 청장은 또 “현장에서 겉으로 드러난 정황만으로 판단하기가 상당히 어려운 측면이 있고, 또 학대가 발생한 지 한참 지난 후 신고가 발생하기 때문에 지난 치료기록을 볼 수 있는 권한도  가질 수 있도록 세밀하게  강구하겠다”고 밝혔다. 장주영 기자 jang.jooyoung@joongang.co.kr ▶ ▶ ▶ ⓒ중앙일보, 무단 전재 및 재배포 금지'"
      ]
     },
     "execution_count": 13,
     "metadata": {
      "tags": []
     },
     "output_type": "execute_result"
    }
   ],
   "source": [
    "rmPersonalInfo = re.sub('(\\([^)]*\\)|\\[[^]]*\\])', '', rmSpace)\n",
    "rmPersonalInfo"
   ]
  },
  {
   "cell_type": "markdown",
   "metadata": {
    "id": "ik42zF9QZXfM"
   },
   "source": [
    "언론사명과 기자 이름은 불필요하다 판단되어 제거하였다.\n",
    "\n",
    "> 기자의 경우, 네이버 기사에서 분류하지 않고 기사 본문에 기입되어 있다.  \n",
    "> 정규식을 사용하여 \"000 기자\", \"000기자\"의 형태를 기자 이름으로 판단하였다.\n",
    "\n"
   ]
  },
  {
   "cell_type": "code",
   "execution_count": 14,
   "metadata": {
    "colab": {
     "base_uri": "https://localhost:8080/",
     "height": 198
    },
    "executionInfo": {
     "elapsed": 609,
     "status": "ok",
     "timestamp": 1610723618531,
     "user": {
      "displayName": "김수빈",
      "photoUrl": "",
      "userId": "17754099482493494628"
     },
     "user_tz": -540
    },
    "id": "HK2UT4L5HWqE",
    "outputId": "88a3335e-2d0d-4425-d73d-1c156cf95406"
   },
   "outputs": [
    {
     "data": {
      "application/vnd.google.colaboratory.intrinsic+json": {
       "type": "string"
      },
      "text/plain": [
       "'김창룡 경찰청장이 양부모의 학대로 숨진 ‘정인이 사건’과 관련 경찰의 책임론을 인정하고 전날 대국민사과에 이어 7일에도 다시 한번 고개를 숙였다. 김 청장은 이날 국회 행정안전위원회 긴급 현안질의에 출석해 “경찰의 최고 책임자로 깊은 책임감을 느낀다”고 다시 한번 사과했다. 그는 “1차로 현장 출동하는 경찰과 공무원 등이 전문성과 책임성을 가지고 사전 징후라도 파악해야 하는데, 아직 미흡한 면이 있다”며 “이를 개선하겠다”고 밝혔다. 여야 의원들은 아동학대에 대한 경찰관들의 미흡한 초동 대응과 수사를 한 목소리로 질타했다. 김민철 더불어민주당 의원은 경찰이 정인 양의 몸에 있던 양부모의 학대로 생긴 멍과 몽고반점을 구분하지 못해 내사를 종결한 점을 언급하며 “몽고반점과 멍을 구분 못한다는 것이 말이 되냐”고 지적했다. 이에 대해 김 청장은 “보호자의 주장을 너무 쉽게 믿은 게 아쉬운 부분”이라고 답했다. 김 청장은 김동현 국민의힘 의원이 ‘경찰이 사건을 재수사할 의지가 있느냐’는 질의한 데 대해서는 “현행법 체계에서 경찰이 검찰에 송치한 사건에 대해 특별한 사정이 없는 한 재수사는 어려운 것으로 안다”고 답했다. 그러면서 “이 사건은 검찰이 기소해 재판이 진행 중”이라며 새로운 증거나 사실이 발견되지 않으면 재수사가 어렵다고 덧붙였다. 김 청장은 또 “현장에서 겉으로 드러난 정황만으로 판단하기가 상당히 어려운 측면이 있고, 또 학대가 발생한 지 한참 지난 후 신고가 발생하기 때문에 지난 치료기록을 볼 수 있는 권한도  가질 수 있도록 세밀하게  강구하겠다”고 밝혔다.   jang.jooyoung@joongang.co.kr ▶ ▶ ▶ ⓒ, 무단 전재 및 재배포 금지'"
      ]
     },
     "execution_count": 14,
     "metadata": {
      "tags": []
     },
     "output_type": "execute_result"
    }
   ],
   "source": [
    "rmReporterName = re.sub('[가-힣]{2,5}\\s?기자', ' ', rmPersonalInfo)\n",
    "rmMedia = rmReporterName.replace(media, '')\n",
    "\n",
    "rmMedia"
   ]
  },
  {
   "cell_type": "markdown",
   "metadata": {
    "id": "dXSxgkXD-WnX"
   },
   "source": [
    "이메일도 삭제한다."
   ]
  },
  {
   "cell_type": "code",
   "execution_count": null,
   "metadata": {
    "colab": {
     "base_uri": "https://localhost:8080/",
     "height": 135
    },
    "executionInfo": {
     "elapsed": 879,
     "status": "ok",
     "timestamp": 1610589445212,
     "user": {
      "displayName": "김수빈",
      "photoUrl": "",
      "userId": "17754099482493494628"
     },
     "user_tz": -540
    },
    "id": "L7uInpXJ-Qy4",
    "outputId": "93dfa94f-039b-42de-e61f-b468ee91f699"
   },
   "outputs": [
    {
     "data": {
      "application/vnd.google.colaboratory.intrinsic+json": {
       "type": "string"
      },
      "text/plain": [
       "' 김창룡 경찰청장이 양천 아동학대 사망 사건 당시 경찰의 미흡한 조치에 대해 공식 사과했다. 초기 수사 부실의 책임을 물어 서울양천경찰서장은 대기발령했다.김 청장은 6일 서울 서대문구 경찰청사에서 사과문을 발표하며 “숨진 정인 양의 명복을 빈다. 학대 피해를 당한 어린아이의 생명을 보호하지 못한 점에 대해 깊은 사죄의 말씀을 드린다”며 “초동 대응과 수사 과정에서의 미흡했던 부분들에 대해서도 경찰의 최고 책임자로서 깊은 책임감을 느낀다”고 밝혔다.지난해 1월 양부모에게 입양됐던 정인양은 지속적으로 학대를 받다가 생후 16개월 만인 10월 13일 양천구 목동 소재의 한 병원에서 사망했다. 경찰은 영아 사망 전 세 차례의 학대 의심 신고를 받았으나 신고 당시 증거가 없다는 이유로 사건을 내사종결하거나 검찰에 불기소 의견으로 송치했다. 최근 한 방송에서 이 사건을 재조명하며 당시 입양기관, 아동보호전문기관, 경찰 등의 조치가 미흡했다는 지적이 나왔다.사건을 담당했던 경찰을 징계해야 한다는 목소리가 높다. 지난 4일 청와대 국민청원에 올라온 ‘아동학대 방조한 양천경찰서장 및 담당경찰관의 파면을 요구합니다’ 청원은 이틀 만인 5일 저녁 기준 동의 수가 20만을 넘었다. 이날 오후 기준 약 25만명이 넘게 동의했다. 이날 시민단체인 서민민생대책위원회는 서울남부지검에 이화섭 양천경찰서장을 직무유기 등의 혐의로 고발했다.김 청장은 “이번 사건에 대한 지휘 책임을 물어 이날 자로 현  서울양천경찰서장을 대기발령 조치했고, 후임으로 여성청소년 분야에 정통한 서울경찰청 총경을 발령했다”며 “사안의 중대성을 고려하여 사건 담당 관계자에 대해서도 엄정하고 철저한 진상조사를 바탕으로 국민들께서 납득할 수 있도록 책임 있는 조치를 취하겠다”고 말했다. 새 양천서장은 서정순 총경이다. 서울특별시경찰청 보안2과장, 서울청 치안지도관, 전남경찰청 여성청소년과장 등을 역임했다.김 청장은 “1·2차 신고가 있었던 초기 단계에서부터 적극적인 수사가 이뤄지지 못한 데 대해 송구스럽게 생각한다”며 “아동 피해자 등 사회적 약자에 대한 반복 신고가 모니터링되도록 아동학대 대응 시스템을 개선해 조기에 피해 아동을 보호할 수 있도록 하겠다”고 했다. 김 청장은 경찰청에 아동학대 전담 부서를 신설하고, 모든 아동학대 의심 사건에 대해 학대 혐의자의 정신병력·알코올 중독과 피해 아동의 과거 진료기록을 반드시 확인하도록 할 것, 국가수사본부를 중심으로 경찰청 관련 기능이 모두 참여하는 태스크포스를 구성해 재발방지 대책을 강력하게 추진할 것 등을 약속했다.경찰은 신고 당시 사건을 담당했던 경찰관에 대한 징계 절차도 진행 중이다. 지난달 2차 신고사건 담당자 2명에게는 경고, 1차 신고사건 담당자 3명에게는 주의 처분이, 학대예방경찰관 감독책임으로 해당 여청계장에게는 경고 및 인사조치, 총괄책임으로 전현직 여청과장에게는 주의 처분이 내려졌다. 3차 신고사건을 처리했던 소속 부서 팀장 3명과 APO 2명에 대한 징계는 이달 중순 이후에 의결될 예정이다.   ©, 무단전재 및 재배포 금지'"
      ]
     },
     "execution_count": 45,
     "metadata": {
      "tags": []
     },
     "output_type": "execute_result"
    }
   ],
   "source": [
    "rmEmail = re.sub('[0-9a-zA-Z]([-_\\.]?[0-9a-zA-Z])*@[0-9a-zA-Z]([-_\\.]?[0-9a-zA-Z])*\\.[a-zA-Z]{2,3}', ' ', rmMedia)\n",
    "\n",
    "rmEmail"
   ]
  },
  {
   "cell_type": "markdown",
   "metadata": {
    "id": "U7UI8QkjZeME"
   },
   "source": [
    "sent_tokenize를 통해 문장 단위로 분할한다."
   ]
  },
  {
   "cell_type": "code",
   "execution_count": null,
   "metadata": {
    "colab": {
     "base_uri": "https://localhost:8080/"
    },
    "executionInfo": {
     "elapsed": 726,
     "status": "ok",
     "timestamp": 1610589463893,
     "user": {
      "displayName": "김수빈",
      "photoUrl": "",
      "userId": "17754099482493494628"
     },
     "user_tz": -540
    },
    "id": "_Q0Tj1jrG-Lw",
    "outputId": "38ac3053-da0f-4e1e-bd16-191bbcff7f3c"
   },
   "outputs": [
    {
     "data": {
      "text/plain": [
       "[' 김창룡 경찰청장이 양천 아동학대 사망 사건 당시 경찰의 미흡한 조치에 대해 공식 사과했다.',\n",
       " '초기 수사 부실의 책임을 물어 서울양천경찰서장은 대기발령했다.김 청장은 6일 서울 서대문구 경찰청사에서 사과문을 발표하며 “숨진 정인 양의 명복을 빈다.',\n",
       " '학대 피해를 당한 어린아이의 생명을 보호하지 못한 점에 대해 깊은 사죄의 말씀을 드린다”며 “초동 대응과 수사 과정에서의 미흡했던 부분들에 대해서도 경찰의 최고 책임자로서 깊은 책임감을 느낀다”고 밝혔다.지난해 1월 양부모에게 입양됐던 정인양은 지속적으로 학대를 받다가 생후 16개월 만인 10월 13일 양천구 목동 소재의 한 병원에서 사망했다.',\n",
       " '경찰은 영아 사망 전 세 차례의 학대 의심 신고를 받았으나 신고 당시 증거가 없다는 이유로 사건을 내사종결하거나 검찰에 불기소 의견으로 송치했다.',\n",
       " '최근 한 방송에서 이 사건을 재조명하며 당시 입양기관, 아동보호전문기관, 경찰 등의 조치가 미흡했다는 지적이 나왔다.사건을 담당했던 경찰을 징계해야 한다는 목소리가 높다.',\n",
       " '지난 4일 청와대 국민청원에 올라온 ‘아동학대 방조한 양천경찰서장 및 담당경찰관의 파면을 요구합니다’ 청원은 이틀 만인 5일 저녁 기준 동의 수가 20만을 넘었다.',\n",
       " '이날 오후 기준 약 25만명이 넘게 동의했다.',\n",
       " '이날 시민단체인 서민민생대책위원회는 서울남부지검에 이화섭 양천경찰서장을 직무유기 등의 혐의로 고발했다.김 청장은 “이번 사건에 대한 지휘 책임을 물어 이날 자로 현  서울양천경찰서장을 대기발령 조치했고, 후임으로 여성청소년 분야에 정통한 서울경찰청 총경을 발령했다”며 “사안의 중대성을 고려하여 사건 담당 관계자에 대해서도 엄정하고 철저한 진상조사를 바탕으로 국민들께서 납득할 수 있도록 책임 있는 조치를 취하겠다”고 말했다.',\n",
       " '새 양천서장은 서정순 총경이다.',\n",
       " '서울특별시경찰청 보안2과장, 서울청 치안지도관, 전남경찰청 여성청소년과장 등을 역임했다.김 청장은 “1·2차 신고가 있었던 초기 단계에서부터 적극적인 수사가 이뤄지지 못한 데 대해 송구스럽게 생각한다”며 “아동 피해자 등 사회적 약자에 대한 반복 신고가 모니터링되도록 아동학대 대응 시스템을 개선해 조기에 피해 아동을 보호할 수 있도록 하겠다”고 했다.',\n",
       " '김 청장은 경찰청에 아동학대 전담 부서를 신설하고, 모든 아동학대 의심 사건에 대해 학대 혐의자의 정신병력·알코올 중독과 피해 아동의 과거 진료기록을 반드시 확인하도록 할 것, 국가수사본부를 중심으로 경찰청 관련 기능이 모두 참여하는 태스크포스를 구성해 재발방지 대책을 강력하게 추진할 것 등을 약속했다.경찰은 신고 당시 사건을 담당했던 경찰관에 대한 징계 절차도 진행 중이다.',\n",
       " '지난달 2차 신고사건 담당자 2명에게는 경고, 1차 신고사건 담당자 3명에게는 주의 처분이, 학대예방경찰관 감독책임으로 해당 여청계장에게는 경고 및 인사조치, 총괄책임으로 전현직 여청과장에게는 주의 처분이 내려졌다.',\n",
       " '3차 신고사건을 처리했던 소속 부서 팀장 3명과 APO 2명에 대한 징계는 이달 중순 이후에 의결될 예정이다.',\n",
       " '©, 무단전재 및 재배포 금지']"
      ]
     },
     "execution_count": 48,
     "metadata": {
      "tags": []
     },
     "output_type": "execute_result"
    }
   ],
   "source": [
    "#문장 단위로 리스트 생성\n",
    "sentences = sent_tokenize(rmEmail)\n",
    "sentences"
   ]
  },
  {
   "cell_type": "markdown",
   "metadata": {
    "id": "MAhGnEerZimX"
   },
   "source": [
    "정규식을 통해 텍스트 내에 포함된 특수 문자를 제거한다."
   ]
  },
  {
   "cell_type": "code",
   "execution_count": null,
   "metadata": {
    "colab": {
     "base_uri": "https://localhost:8080/"
    },
    "executionInfo": {
     "elapsed": 769,
     "status": "ok",
     "timestamp": 1610589473281,
     "user": {
      "displayName": "김수빈",
      "photoUrl": "",
      "userId": "17754099482493494628"
     },
     "user_tz": -540
    },
    "id": "ZyaHsg7MGpnk",
    "outputId": "5b9a4f26-9b14-4d4a-ea44-3cd636dafa67"
   },
   "outputs": [
    {
     "name": "stdout",
     "output_type": "stream",
     "text": [
      "김창룡 경찰청장이 양천 아동학대 사망 사건 당시 경찰의 미흡한 조치에 대해 공식 사과했다\n",
      "초기 수사 부실의 책임을 물어 서울양천경찰서장은 대기발령했다 김 청장은 6일 서울 서대문구 경찰청사에서 사과문을 발표하며 숨진 정인 양의 명복을 빈다\n",
      "학대 피해를 당한 어린아이의 생명을 보호하지 못한 점에 대해 깊은 사죄의 말씀을 드린다 며 초동 대응과 수사 과정에서의 미흡했던 부분들에 대해서도 경찰의 최고 책임자로서 깊은 책임감을 느낀다 고 밝혔다 지난해 1월 양부모에게 입양됐던 정인양은 지속적으로 학대를 받다가 생후 16개월 만인 10월 13일 양천구 목동 소재의 한 병원에서 사망했다\n",
      "경찰은 영아 사망 전 세 차례의 학대 의심 신고를 받았으나 신고 당시 증거가 없다는 이유로 사건을 내사종결하거나 검찰에 불기소 의견으로 송치했다\n",
      "최근 한 방송에서 이 사건을 재조명하며 당시 입양기관 아동보호전문기관 경찰 등의 조치가 미흡했다는 지적이 나왔다 사건을 담당했던 경찰을 징계해야 한다는 목소리가 높다\n",
      "지난 4일 청와대 국민청원에 올라온 아동학대 방조한 양천경찰서장 및 담당경찰관의 파면을 요구합니다 청원은 이틀 만인 5일 저녁 기준 동의 수가 20만을 넘었다\n",
      "이날 오후 기준 약 25만명이 넘게 동의했다\n",
      "이날 시민단체인 서민민생대책위원회는 서울남부지검에 이화섭 양천경찰서장을 직무유기 등의 혐의로 고발했다 김 청장은 이번 사건에 대한 지휘 책임을 물어 이날 자로 현 서울양천경찰서장을 대기발령 조치했고 후임으로 여성청소년 분야에 정통한 서울경찰청 총경을 발령했다 며 사안의 중대성을 고려하여 사건 담당 관계자에 대해서도 엄정하고 철저한 진상조사를 바탕으로 국민들께서 납득할 수 있도록 책임 있는 조치를 취하겠다 고 말했다\n",
      "새 양천서장은 서정순 총경이다\n",
      "서울특별시경찰청 보안2과장 서울청 치안지도관 전남경찰청 여성청소년과장 등을 역임했다 김 청장은 1 2차 신고가 있었던 초기 단계에서부터 적극적인 수사가 이뤄지지 못한 데 대해 송구스럽게 생각한다 며 아동 피해자 등 사회적 약자에 대한 반복 신고가 모니터링되도록 아동학대 대응 시스템을 개선해 조기에 피해 아동을 보호할 수 있도록 하겠다 고 했다\n",
      "김 청장은 경찰청에 아동학대 전담 부서를 신설하고 모든 아동학대 의심 사건에 대해 학대 혐의자의 정신병력 알코올 중독과 피해 아동의 과거 진료기록을 반드시 확인하도록 할 것 국가수사본부를 중심으로 경찰청 관련 기능이 모두 참여하는 태스크포스를 구성해 재발방지 대책을 강력하게 추진할 것 등을 약속했다 경찰은 신고 당시 사건을 담당했던 경찰관에 대한 징계 절차도 진행 중이다\n",
      "지난달 2차 신고사건 담당자 2명에게는 경고 1차 신고사건 담당자 3명에게는 주의 처분이 학대예방경찰관 감독책임으로 해당 여청계장에게는 경고 및 인사조치 총괄책임으로 전현직 여청과장에게는 주의 처분이 내려졌다\n",
      "3차 신고사건을 처리했던 소속 부서 팀장 3명과 APO 2명에 대한 징계는 이달 중순 이후에 의결될 예정이다\n",
      "무단전재 및 재배포 금지\n"
     ]
    }
   ],
   "source": [
    "from nltk.tokenize import RegexpTokenizer\n",
    "\n",
    "retokenize = RegexpTokenizer(\"[\\w]+\") \n",
    "sentences = [' '.join(retokenize.tokenize(sentence)) for sentence in sentences] \n",
    "\n",
    "for sentence in sentences :\n",
    "  print(sentence)"
   ]
  },
  {
   "cell_type": "markdown",
   "metadata": {
    "id": "XZ_tXWGRZqL4"
   },
   "source": [
    "본문 내용을 Okt를 통해 토큰화한 후 이어붙여 특수문자를 제거한다.\n",
    "\n"
   ]
  },
  {
   "cell_type": "code",
   "execution_count": null,
   "metadata": {
    "colab": {
     "base_uri": "https://localhost:8080/",
     "height": 188
    },
    "executionInfo": {
     "elapsed": 905,
     "status": "ok",
     "timestamp": 1610589534780,
     "user": {
      "displayName": "김수빈",
      "photoUrl": "",
      "userId": "17754099482493494628"
     },
     "user_tz": -540
    },
    "id": "VwrT6u6B24ms",
    "outputId": "15fabcf3-35db-4d79-b731-21d1133c4fd2"
   },
   "outputs": [
    {
     "name": "stdout",
     "output_type": "stream",
     "text": [
      " 김창룡 경찰청장이 양천 아동학대 사망 사건 당시 경찰의 미흡한 조치에 대해 공식 사과했다. 초기 수사 부실의 책임을 물어 서울양천경찰서장은 대기발령했다.김 청장은 6일 서울 서대문구 경찰청사에서 사과문을 발표하며 “숨진 정인 양의 명복을 빈다. 학대 피해를 당한 어린아이의 생명을 보호하지 못한 점에 대해 깊은 사죄의 말씀을 드린다”며 “초동 대응과 수사 과정에서의 미흡했던 부분들에 대해서도 경찰의 최고 책임자로서 깊은 책임감을 느낀다”고 밝혔다.지난해 1월 양부모에게 입양됐던 정인양은 지속적으로 학대를 받다가 생후 16개월 만인 10월 13일 양천구 목동 소재의 한 병원에서 사망했다. 경찰은 영아 사망 전 세 차례의 학대 의심 신고를 받았으나 신고 당시 증거가 없다는 이유로 사건을 내사종결하거나 검찰에 불기소 의견으로 송치했다. 최근 한 방송에서 이 사건을 재조명하며 당시 입양기관, 아동보호전문기관, 경찰 등의 조치가 미흡했다는 지적이 나왔다.사건을 담당했던 경찰을 징계해야 한다는 목소리가 높다. 지난 4일 청와대 국민청원에 올라온 ‘아동학대 방조한 양천경찰서장 및 담당경찰관의 파면을 요구합니다’ 청원은 이틀 만인 5일 저녁 기준 동의 수가 20만을 넘었다. 이날 오후 기준 약 25만명이 넘게 동의했다. 이날 시민단체인 서민민생대책위원회는 서울남부지검에 이화섭 양천경찰서장을 직무유기 등의 혐의로 고발했다.김 청장은 “이번 사건에 대한 지휘 책임을 물어 이날 자로 현  서울양천경찰서장을 대기발령 조치했고, 후임으로 여성청소년 분야에 정통한 서울경찰청 총경을 발령했다”며 “사안의 중대성을 고려하여 사건 담당 관계자에 대해서도 엄정하고 철저한 진상조사를 바탕으로 국민들께서 납득할 수 있도록 책임 있는 조치를 취하겠다”고 말했다. 새 양천서장은 서정순 총경이다. 서울특별시경찰청 보안2과장, 서울청 치안지도관, 전남경찰청 여성청소년과장 등을 역임했다.김 청장은 “1·2차 신고가 있었던 초기 단계에서부터 적극적인 수사가 이뤄지지 못한 데 대해 송구스럽게 생각한다”며 “아동 피해자 등 사회적 약자에 대한 반복 신고가 모니터링되도록 아동학대 대응 시스템을 개선해 조기에 피해 아동을 보호할 수 있도록 하겠다”고 했다. 김 청장은 경찰청에 아동학대 전담 부서를 신설하고, 모든 아동학대 의심 사건에 대해 학대 혐의자의 정신병력·알코올 중독과 피해 아동의 과거 진료기록을 반드시 확인하도록 할 것, 국가수사본부를 중심으로 경찰청 관련 기능이 모두 참여하는 태스크포스를 구성해 재발방지 대책을 강력하게 추진할 것 등을 약속했다.경찰은 신고 당시 사건을 담당했던 경찰관에 대한 징계 절차도 진행 중이다. 지난달 2차 신고사건 담당자 2명에게는 경고, 1차 신고사건 담당자 3명에게는 주의 처분이, 학대예방경찰관 감독책임으로 해당 여청계장에게는 경고 및 인사조치, 총괄책임으로 전현직 여청과장에게는 주의 처분이 내려졌다. 3차 신고사건을 처리했던 소속 부서 팀장 3명과 APO 2명에 대한 징계는 이달 중순 이후에 의결될 예정이다.   ©, 무단전재 및 재배포 금지\n",
      "\n"
     ]
    },
    {
     "data": {
      "application/vnd.google.colaboratory.intrinsic+json": {
       "type": "string"
      },
      "text/plain": [
       "'김창룡 경찰청장이 양천 아동학대 사망 사건 당시 경찰의 미흡한 조치에 대해 공식 사과했다 초기 수사 부실의 책임을 물어 서울양천경찰서장은 대기발령했다 김 청장은 6일 서울 서대문구 경찰청사에서 사과문을 발표하며 숨진 정인 양의 명복을 빈다 학대 피해를 당한 어린아이의 생명을 보호하지 못한 점에 대해 깊은 사죄의 말씀을 드린다 며 초동 대응과 수사 과정에서의 미흡했던 부분들에 대해서도 경찰의 최고 책임자로서 깊은 책임감을 느낀다 고 밝혔다 지난해 1월 양부모에게 입양됐던 정인양은 지속적으로 학대를 받다가 생후 16개월 만인 10월 13일 양천구 목동 소재의 한 병원에서 사망했다 경찰은 영아 사망 전 세 차례의 학대 의심 신고를 받았으나 신고 당시 증거가 없다는 이유로 사건을 내사종결하거나 검찰에 불기소 의견으로 송치했다 최근 한 방송에서 이 사건을 재조명하며 당시 입양기관 아동보호전문기관 경찰 등의 조치가 미흡했다는 지적이 나왔다 사건을 담당했던 경찰을 징계해야 한다는 목소리가 높다 지난 4일 청와대 국민청원에 올라온 아동학대 방조한 양천경찰서장 및 담당경찰관의 파면을 요구합니다 청원은 이틀 만인 5일 저녁 기준 동의 수가 20만을 넘었다 이날 오후 기준 약 25만명이 넘게 동의했다 이날 시민단체인 서민민생대책위원회는 서울남부지검에 이화섭 양천경찰서장을 직무유기 등의 혐의로 고발했다 김 청장은 이번 사건에 대한 지휘 책임을 물어 이날 자로 현 서울양천경찰서장을 대기발령 조치했고 후임으로 여성청소년 분야에 정통한 서울경찰청 총경을 발령했다 며 사안의 중대성을 고려하여 사건 담당 관계자에 대해서도 엄정하고 철저한 진상조사를 바탕으로 국민들께서 납득할 수 있도록 책임 있는 조치를 취하겠다 고 말했다 새 양천서장은 서정순 총경이다 서울특별시경찰청 보안2과장 서울청 치안지도관 전남경찰청 여성청소년과장 등을 역임했다 김 청장은 1 2차 신고가 있었던 초기 단계에서부터 적극적인 수사가 이뤄지지 못한 데 대해 송구스럽게 생각한다 며 아동 피해자 등 사회적 약자에 대한 반복 신고가 모니터링되도록 아동학대 대응 시스템을 개선해 조기에 피해 아동을 보호할 수 있도록 하겠다 고 했다 김 청장은 경찰청에 아동학대 전담 부서를 신설하고 모든 아동학대 의심 사건에 대해 학대 혐의자의 정신병력 알코올 중독과 피해 아동의 과거 진료기록을 반드시 확인하도록 할 것 국가수사본부를 중심으로 경찰청 관련 기능이 모두 참여하는 태스크포스를 구성해 재발방지 대책을 강력하게 추진할 것 등을 약속했다 경찰은 신고 당시 사건을 담당했던 경찰관에 대한 징계 절차도 진행 중이다 지난달 2차 신고사건 담당자 2명에게는 경고 1차 신고사건 담당자 3명에게는 주의 처분이 학대예방경찰관 감독책임으로 해당 여청계장에게는 경고 및 인사조치 총괄책임으로 전현직 여청과장에게는 주의 처분이 내려졌다 3차 신고사건을 처리했던 소속 부서 팀장 3명과 APO 2명에 대한 징계는 이달 중순 이후에 의결될 예정이다 무단전재 및 재배포 금지'"
      ]
     },
     "execution_count": 52,
     "metadata": {
      "tags": []
     },
     "output_type": "execute_result"
    }
   ],
   "source": [
    "from konlpy.tag import Okt\n",
    "\n",
    "okt = Okt()\n",
    "\n",
    "print(rmEmail+'\\n')\n",
    "cleanContent = ' '.join(retokenize.tokenize(rmEmail))\n",
    "cleanContent"
   ]
  },
  {
   "cell_type": "markdown",
   "metadata": {
    "id": "oPfvUJQh3GMj"
   },
   "source": [
    "NLTK에서 한글 불용어는 제공해주지 않기 때문에 직접 불용어 리스트를 구성해야한다.  \n",
    "아래 사이트에서 제공하는 한글 불용어 리스트를 사용하였다.  \n",
    "\n",
    "출처 : https://www.ranks.nl/stopwords/korean"
   ]
  },
  {
   "cell_type": "code",
   "execution_count": null,
   "metadata": {
    "colab": {
     "base_uri": "https://localhost:8080/"
    },
    "executionInfo": {
     "elapsed": 5596,
     "status": "ok",
     "timestamp": 1610589691355,
     "user": {
      "displayName": "김수빈",
      "photoUrl": "",
      "userId": "17754099482493494628"
     },
     "user_tz": -540
    },
    "id": "UJc0mqI4SuWc",
    "outputId": "3d2cd3ba-1531-4d09-e8a4-99f1515a0e17"
   },
   "outputs": [
    {
     "data": {
      "text/plain": [
       "[('휴', 'NNP'),\n",
       " ('따르', 'VV'),\n",
       " ('의하', 'VV'),\n",
       " ('을', 'NNG'),\n",
       " ('의', 'NNG'),\n",
       " ('가', 'VV'),\n",
       " ('로', 'NNG'),\n",
       " ('의거', 'NNG'),\n",
       " ('근거', 'NNG'),\n",
       " ('입각', 'NNG'),\n",
       " ('기준', 'NNG'),\n",
       " ('예', 'NNG'),\n",
       " ('예', 'NNG'),\n",
       " ('들', 'VV'),\n",
       " ('예', 'NNG'),\n",
       " ('들', 'VV'),\n",
       " ('소인', 'NNP'),\n",
       " ('소생', 'NNG'),\n",
       " ('지', 'NNG'),\n",
       " ('말', 'NNG'),\n",
       " ('하', 'VV'),\n",
       " ('하지', 'NNP'),\n",
       " ('마라', 'NNP'),\n",
       " ('비기', 'VV'),\n",
       " ('없', 'VA'),\n",
       " ('하', 'VV'),\n",
       " ('안', 'NNG'),\n",
       " ('그치', 'VV'),\n",
       " ('들', 'VV'),\n",
       " ('논하', 'VV'),\n",
       " ('따지', 'VV'),\n",
       " ('덜', 'VV'),\n",
       " ('하', 'VV'),\n",
       " ('낫', 'VA'),\n",
       " ('불문', 'NNG'),\n",
       " ('향하', 'VV'),\n",
       " ('향하', 'VV'),\n",
       " ('향하', 'VV'),\n",
       " ('틈타', 'VV'),\n",
       " ('이용', 'NNG'),\n",
       " ('타', 'VV'),\n",
       " ('오르', 'VV'),\n",
       " ('제외', 'NNG'),\n",
       " ('밖', 'NNG'),\n",
       " ('하', 'VV'),\n",
       " ('하', 'VV'),\n",
       " ('모르', 'VV'),\n",
       " ('기점', 'NNG'),\n",
       " ('하', 'VV'),\n",
       " ('생각', 'NNG'),\n",
       " ('하', 'VV'),\n",
       " ('그렇', 'VA'),\n",
       " ('하', 'VV'),\n",
       " ('일', 'NNG'),\n",
       " ('때', 'NNG'),\n",
       " ('하', 'VV'),\n",
       " ('때', 'NNG'),\n",
       " ('앞', 'NNG'),\n",
       " ('보', 'VV'),\n",
       " ('까', 'VV'),\n",
       " ('하', 'VV'),\n",
       " ('하', 'VV'),\n",
       " ('알', 'VV'),\n",
       " ('하', 'VV'),\n",
       " ('있다', 'NNP'),\n",
       " ('하', 'VV'),\n",
       " ('임', 'NNP'),\n",
       " ('틀림없', 'VA'),\n",
       " ('하', 'VV'),\n",
       " ('하', 'VV'),\n",
       " ('대하', 'VV'),\n",
       " ('대하', 'VV'),\n",
       " ('대하', 'VV'),\n",
       " ('얼마', 'NNG'),\n",
       " ('여', 'NNG'),\n",
       " ('얼마간', 'NNG'),\n",
       " ('다수', 'NNG'),\n",
       " ('얼마', 'NNG'),\n",
       " ('지만', 'NNP'),\n",
       " ('이외', 'NNG'),\n",
       " ('대하', 'VV'),\n",
       " ('말하자면', 'NNP'),\n",
       " ('다음', 'NNG'),\n",
       " ('반대', 'NNG'),\n",
       " ('반대', 'NNG'),\n",
       " ('말하자면', 'NNP'),\n",
       " ('반대', 'NNG'),\n",
       " ('바꾸', 'VV'),\n",
       " ('말', 'NNG'),\n",
       " ('바꾸', 'VV'),\n",
       " ('하', 'VV'),\n",
       " ('그렇', 'VA'),\n",
       " ('까', 'NNP'),\n",
       " ('악', 'NNG'),\n",
       " ('삐걱거리', 'VV'),\n",
       " ('보드', 'NNP'),\n",
       " ('득', 'NNG'),\n",
       " ('꽈', 'NNG'),\n",
       " ('하', 'VV'),\n",
       " ('가', 'VV'),\n",
       " ('여러분', 'NNP'),\n",
       " ('각종', 'NNG'),\n",
       " ('하', 'VV'),\n",
       " ('오', 'VV'),\n",
       " ('과', 'NNG'),\n",
       " ('까닭', 'NNG'),\n",
       " ('하', 'VV'),\n",
       " ('대하', 'VV'),\n",
       " ('관하', 'VV'),\n",
       " ('관하', 'VV'),\n",
       " ('다르', 'VA'),\n",
       " ('생각', 'NNG'),\n",
       " ('대로', 'NNP'),\n",
       " ('진짜', 'NNG'),\n",
       " ('한적', 'NNP'),\n",
       " ('이', 'NNP'),\n",
       " ('있다', 'NNP'),\n",
       " ('하', 'VV'),\n",
       " ('하', 'NNG'),\n",
       " ('하하', 'NNP'),\n",
       " ('허허', 'NNP'),\n",
       " ('아하', 'NNP'),\n",
       " ('오', 'VV'),\n",
       " ('오', 'NNP'),\n",
       " ('하', 'VV'),\n",
       " ('곳', 'NNG'),\n",
       " ('때', 'NNG'),\n",
       " ('어이', 'NNP'),\n",
       " ('흥', 'NNG'),\n",
       " ('휴', 'NNP'),\n",
       " ('허', 'VV'),\n",
       " ('떡', 'NNG'),\n",
       " ('떡', 'NNG'),\n",
       " ('어', 'NNG'),\n",
       " ('기여', 'NNG'),\n",
       " ('차', 'NNG'),\n",
       " ('주', 'NNG'),\n",
       " ('룩', 'NNG'),\n",
       " ('주', 'NNG'),\n",
       " ('룩', 'NNG'),\n",
       " ('바꾸', 'VV'),\n",
       " ('하면', 'NNP'),\n",
       " ('바꾸', 'VV'),\n",
       " ('말', 'NNG'),\n",
       " ('답', 'NNG'),\n",
       " ('따르', 'VV'),\n",
       " ('때', 'NNG'),\n",
       " ('되', 'VV'),\n",
       " ('하', 'VV'),\n",
       " ('하', 'VV'),\n",
       " ('일', 'VV'),\n",
       " ('인제', 'NNP'),\n",
       " ('이제', 'NNG'),\n",
       " ('되', 'VV'),\n",
       " ('되', 'VV'),\n",
       " ('이상', 'NNP'),\n",
       " ('보', 'VV'),\n",
       " ('비추', 'VV'),\n",
       " ('보', 'VV'),\n",
       " ('고려', 'NNG'),\n",
       " ('하', 'VV'),\n",
       " ('되', 'VV'),\n",
       " ('비교', 'NNG'),\n",
       " ('비하', 'VV'),\n",
       " ('시키', 'VV'),\n",
       " ('하', 'VV'),\n",
       " ('하', 'VV'),\n",
       " ('의하', 'VV'),\n",
       " ('열', 'VV'),\n",
       " ('이서', 'NNP'),\n",
       " ('잇따르', 'VV'),\n",
       " ('뒤따르', 'VV'),\n",
       " ('뒤', 'NNG'),\n",
       " ('의지', 'NNG'),\n",
       " ('기대', 'NNG'),\n",
       " ('통하', 'VV'),\n",
       " ('얼마', 'NNG'),\n",
       " ('마음', 'NNG'),\n",
       " ('주저', 'NNG'),\n",
       " ('당장', 'NNG'),\n",
       " ('하', 'VV'),\n",
       " ('밖', 'NNG'),\n",
       " ('안', 'NNG'),\n",
       " ('하', 'VV'),\n",
       " ('되', 'VV'),\n",
       " ('그러', 'VV'),\n",
       " ('그렇', 'VA'),\n",
       " ('말하자면', 'NNP'),\n",
       " ('바꾸', 'VV'),\n",
       " ('말', 'NNG'),\n",
       " ('구체', 'NNG'),\n",
       " ('말하자면', 'NNP'),\n",
       " ('시작', 'NNG'),\n",
       " ('시초', 'NNG'),\n",
       " ('이상', 'NNG'),\n",
       " ('허', 'NNP'),\n",
       " ('하', 'VV'),\n",
       " ('좋', 'VA'),\n",
       " ('하', 'VV'),\n",
       " ('되', 'VV'),\n",
       " ('와르르', 'NNP'),\n",
       " ('동안', 'NNG'),\n",
       " ('이렇', 'VA'),\n",
       " ('하', 'VV'),\n",
       " ('잇', 'VV'),\n",
       " ('까', 'VV'),\n",
       " ('예', 'NNG'),\n",
       " ('하', 'VV'),\n",
       " ('하', 'VV'),\n",
       " ('더불', 'VV'),\n",
       " ('양자', 'NNP'),\n",
       " ('하', 'VV'),\n",
       " ('방면', 'NNG'),\n",
       " ('하', 'VV'),\n",
       " ('하', 'VV'),\n",
       " ('말', 'NNG'),\n",
       " ('없', 'VA'),\n",
       " ('무릅쓰', 'VV'),\n",
       " ('개의', 'NNG'),\n",
       " ('하', 'VV'),\n",
       " ('하', 'VV'),\n",
       " ('낫', 'VA'),\n",
       " ('들', 'VV'),\n",
       " ('갖', 'VV'),\n",
       " ('말', 'NNG'),\n",
       " ('해', 'NNG'),\n",
       " ('라', 'NNG'),\n",
       " ('하', 'VV'),\n",
       " ('그때', 'NNG'),\n",
       " ('그러', 'VV'),\n",
       " ('그때', 'NNG'),\n",
       " ('이르', 'VV'),\n",
       " ('하', 'VV'),\n",
       " ('안다', 'NNP'),\n",
       " ('하', 'VV'),\n",
       " ('힘', 'NNG'),\n",
       " ('있', 'VV'),\n",
       " ('하', 'VV'),\n",
       " ('하', 'VV'),\n",
       " ('하', 'VV'),\n",
       " ('하', 'VV'),\n",
       " ('구토', 'NNG'),\n",
       " ('게우', 'VV'),\n",
       " ('토하', 'VV'),\n",
       " ('옆', 'NNG'),\n",
       " ('사람', 'NNG'),\n",
       " ('의거', 'NNG'),\n",
       " ('근거', 'NNG'),\n",
       " ('의하', 'VV'),\n",
       " ('따르', 'VV'),\n",
       " ('힘입', 'VV'),\n",
       " ('다음', 'NNG'),\n",
       " ('버금', 'NNG'),\n",
       " ('기타', 'NNG'),\n",
       " ('나머지', 'NNG'),\n",
       " ('그중', 'NNG'),\n",
       " ('견지', 'NNG'),\n",
       " ('형식', 'NNG'),\n",
       " ('쓰이', 'VV'),\n",
       " ('입장', 'NNG'),\n",
       " ('위하', 'VV'),\n",
       " ('의하', 'VV'),\n",
       " ('되', 'VV'),\n",
       " ('하', 'VV'),\n",
       " ('시키', 'VV'),\n",
       " ('반대', 'NNG'),\n",
       " ('전후', 'NNP'),\n",
       " ('전자', 'NNG'),\n",
       " ('앞', 'NNG'),\n",
       " ('하', 'VV'),\n",
       " ('다음', 'NNG'),\n",
       " ('그렇', 'VA'),\n",
       " ('남', 'NNG'),\n",
       " ('아물', 'VV'),\n",
       " ('같', 'VA'),\n",
       " ('이렇', 'VA'),\n",
       " ('정도', 'NNP'),\n",
       " ('어떻', 'VA'),\n",
       " ('만일', 'NNG'),\n",
       " ('위', 'NNG'),\n",
       " ('서술', 'NNP'),\n",
       " ('한', 'NNP'),\n",
       " ('인', 'NNG'),\n",
       " ('하', 'VV'),\n",
       " ('만약', 'NNG'),\n",
       " ('아래', 'NNG'),\n",
       " ('조차', 'NNP'),\n",
       " ('하', 'VV'),\n",
       " ('그럼에도 불구하고', 'NNP'),\n",
       " ('까', 'VV'),\n",
       " ('조차', 'NNP'),\n",
       " ('하', 'VV'),\n",
       " ('위하', 'VV'),\n",
       " ('때', 'NNG'),\n",
       " ('시각', 'NNG'),\n",
       " ('시간', 'NNG'),\n",
       " ('동안', 'NNG'),\n",
       " ('어떻', 'VA'),\n",
       " ('예', 'NNG'),\n",
       " ('알', 'VV'),\n",
       " ('아무도', 'NNP'),\n",
       " ('모르', 'VV'),\n",
       " ('모르', 'VV'),\n",
       " ('하', 'VV'),\n",
       " ('김', 'NNP'),\n",
       " ('사', 'NNG'),\n",
       " ('하', 'VV'),\n",
       " ('까닭', 'NNG'),\n",
       " ('이유', 'NNG'),\n",
       " ('타인', 'NNP'),\n",
       " ('위하', 'VV'),\n",
       " ('공동', 'NNG'),\n",
       " ('동시', 'NNG'),\n",
       " ('하', 'VV'),\n",
       " ('위하', 'VV'),\n",
       " ('오호', 'NNP'),\n",
       " ('아하', 'NNP'),\n",
       " ('하기', 'NNP'),\n",
       " ('하', 'VV'),\n",
       " ('낫', 'VA'),\n",
       " ('놀라', 'VV'),\n",
       " ('상대', 'NNG'),\n",
       " ('말하자면', 'NNP'),\n",
       " ('그렇', 'VA'),\n",
       " ('그렇', 'VA'),\n",
       " ('하', 'VV'),\n",
       " ('라면', 'NNP'),\n",
       " ('좋', 'VA'),\n",
       " ('알', 'VV'),\n",
       " ('하', 'VV'),\n",
       " ('어쩌', 'VV'),\n",
       " ('없', 'VA'),\n",
       " ('일반', 'NNG'),\n",
       " ('오', 'VV'),\n",
       " ('이렇', 'VA'),\n",
       " ('되', 'VV'),\n",
       " ('같', 'VA'),\n",
       " ('한마디', 'NNG'),\n",
       " ('항목', 'NNG'),\n",
       " ('근거', 'NNG'),\n",
       " ('하', 'VV'),\n",
       " ('하', 'VV'),\n",
       " ('위하', 'VV'),\n",
       " ('이르', 'VV'),\n",
       " ('되', 'VV'),\n",
       " ('로', 'NNG'),\n",
       " ('인하', 'VV'),\n",
       " ('까닭', 'NNG'),\n",
       " ('이유', 'NNG'),\n",
       " ('인하', 'VV'),\n",
       " ('까닭', 'NNG'),\n",
       " ('알', 'VV'),\n",
       " ('있', 'VV'),\n",
       " ('결론', 'NNG'),\n",
       " ('내', 'VV'),\n",
       " ('있', 'VV'),\n",
       " ('인하', 'VV'),\n",
       " ('있', 'VV'),\n",
       " ('관계', 'NNG'),\n",
       " ('있', 'VV'),\n",
       " ('관련', 'NNG'),\n",
       " ('있', 'VV'),\n",
       " ('연관', 'NNG'),\n",
       " ('대하', 'VV'),\n",
       " ('여부', 'NNG'),\n",
       " ('하', 'VV'),\n",
       " ('하', 'VV'),\n",
       " ('하', 'VV'),\n",
       " ('하', 'VV'),\n",
       " ('운운', 'NNG'),\n",
       " ('하', 'VV'),\n",
       " ('하', 'VV'),\n",
       " ('다시', 'NNP'),\n",
       " ('말', 'NNG'),\n",
       " ('다음', 'NNG'),\n",
       " ('있', 'VV'),\n",
       " ('달리', 'VV'),\n",
       " ('있', 'VV'),\n",
       " ('하', 'VV'),\n",
       " ('하', 'VV'),\n",
       " ('어떻', 'VA'),\n",
       " ('어떻', 'VA'),\n",
       " ('보', 'VV'),\n",
       " ('대로', 'NNP'),\n",
       " ('이번', 'NNG'),\n",
       " ('이렇', 'VA'),\n",
       " ('말', 'NNG'),\n",
       " ('같', 'VA'),\n",
       " ('요', 'NNG'),\n",
       " ('얼마', 'NNG'),\n",
       " ('되', 'VV'),\n",
       " ('정도', 'NNG'),\n",
       " ('이렇', 'VA'),\n",
       " ('많', 'VA'),\n",
       " ('같', 'VA'),\n",
       " ('이때', 'NNG'),\n",
       " ('이렇', 'VA'),\n",
       " ('오', 'VV'),\n",
       " ('같', 'VA'),\n",
       " ('사람', 'NNG'),\n",
       " ('부류', 'NNG'),\n",
       " ('사람', 'NNG'),\n",
       " ('중의', 'NNG'),\n",
       " ('한하', 'VV'),\n",
       " ('하', 'VV'),\n",
       " ('하', 'VV'),\n",
       " ('도착', 'NNG'),\n",
       " ('까', 'VV'),\n",
       " ('미치', 'VV'),\n",
       " ('도달', 'NNG'),\n",
       " ('정도', 'NNG'),\n",
       " ('이르', 'VV'),\n",
       " ('하', 'VV'),\n",
       " ('결과', 'NNG'),\n",
       " ('이르', 'VV'),\n",
       " ('관하', 'VV'),\n",
       " ('여러분', 'NNP'),\n",
       " ('하', 'VV'),\n",
       " ('있', 'VV'),\n",
       " ('후', 'NNG'),\n",
       " ('혼자', 'NNG'),\n",
       " ('집', 'NNG'),\n",
       " ('자신', 'NNG'),\n",
       " ('우', 'NNG'),\n",
       " ('종합', 'NNG'),\n",
       " ('총', 'NNG'),\n",
       " ('보', 'VV'),\n",
       " ('총', 'NNG'),\n",
       " ('말', 'NNG'),\n",
       " ('총', 'NNG'),\n",
       " ('하', 'VV'),\n",
       " ('하', 'VV'),\n",
       " ('둥둥', 'NNP'),\n",
       " ('보', 'VV'),\n",
       " ('보', 'VV'),\n",
       " ('아이', 'NNG'),\n",
       " ('아이', 'NNG'),\n",
       " ('참', 'VV'),\n",
       " ('사', 'NNG'),\n",
       " ('오', 'NNP'),\n",
       " ('치', 'VV'),\n",
       " ('팔', 'VV'),\n",
       " ('구', 'NNG'),\n",
       " ('이천', 'NNP'),\n",
       " ('칠', 'NNG'),\n",
       " ('이천', 'NNP'),\n",
       " ('팔', 'NNP'),\n",
       " ('천구', 'NNP')]"
      ]
     },
     "execution_count": 57,
     "metadata": {
      "tags": []
     },
     "output_type": "execute_result"
    }
   ],
   "source": [
    "SWORDS_FILE_PATH = os.path.join(BASE_DIR, \"StopWordList.txt\")\n",
    "f = open(SWORDS_FILE_PATH, 'r')\n",
    "swords = f.readlines()\n",
    "f.close()\n",
    "\n",
    "tagger = Komoran()\n",
    "swords = [tag for sword in swords for tag in tagger.pos(sword.strip()) if tag[1] in ('NNG', 'NNP', 'VV', 'VA')]\n",
    "swords"
   ]
  },
  {
   "cell_type": "markdown",
   "metadata": {
    "id": "HxrWMLrUbBC8"
   },
   "source": [
    "nouns는 불용어를 제거한 결과이며, sentences는 불용어를 제거하지 않은 리스트다."
   ]
  },
  {
   "cell_type": "code",
   "execution_count": null,
   "metadata": {
    "colab": {
     "base_uri": "https://localhost:8080/"
    },
    "executionInfo": {
     "elapsed": 2221,
     "status": "ok",
     "timestamp": 1610589707116,
     "user": {
      "displayName": "김수빈",
      "photoUrl": "",
      "userId": "17754099482493494628"
     },
     "user_tz": -540
    },
    "id": "aZZ9nepM2x8D",
    "outputId": "487f273c-ab13-4ae3-c047-7d2cbfc7dd70"
   },
   "outputs": [
    {
     "data": {
      "text/plain": [
       "['김창룡 경찰청장 양천 아동학대 사망 사건 당시 경찰 미흡한 조치 대해 공식 사과 했다',\n",
       " '초기 수사 부실 책임 물어 경찰서 대기발령 했다 청장 6일 서울 서대문구 경찰 청사 에서 사과문 발표 하며 숨진 정인 명복 빈다',\n",
       " '학대 피해 당한 어린아이의 생명 보호 하지 대해 깊은 사죄 말씀 드린다 초동 대응 수사 과정 에서의 미흡했던 부분 대해 서도 경찰 최고 책임자 로서 깊은 책임감 느낀다 밝혔다 지난해 1월 양부모 에게 입양 됐던 정인 양은 지속 으로 학대 받다가 생후 16 개월 만인 10월 13일 양천구 목동 소재 병원 에서 사망 했다',\n",
       " '경찰 영아 사망 차례 학대 의심 신고 받았으나 신고 당시 증거 없다는 이유 사건 종결 거나 검찰 불기소 의견 으로 송치 했다',\n",
       " '최근 방송 에서 사건 조명하 당시 입양 기관 아동 보호 전문 기관 경찰 조치 미흡했다는 지적 나왔다 사건 담당 했던 경찰 징계 해야 한다는 목소리 높다',\n",
       " '지난 4일 청와대 국민 청원 올라온 아동학대 방조 경찰서 담당 경찰관 파면 요구 합니다 청원 이틀 만인 5일 저녁 기준 동의 수가 20만 넘었다',\n",
       " '오후 기준 25만 명이 넘게 동의 했다',\n",
       " '시민단체 민민생 대책 위원회 남부 이화 경찰서 직무 유기 혐의 고발 했다 청장 이번 사건 대한 지휘 책임 물어 자로 경찰서 대기발령 조치 했고 후임 으로 여성 청소년 분야 정통한 서울 경찰청 총경 발령 했다 사안 중대 고려 하여 사건 담당 관계자 대해 서도 엄정하고 철저한 진상 조사 바탕 으로 국민 께서 납득 있도록 책임 있는 조치 취하 겠다 했다',\n",
       " '서장 서정 총경 이다',\n",
       " '서울특별시 경찰청 보안 과장 서울 치안 도관 전남 경찰청 여성 청소년 과장 역임 했다 청장 신고 있었던 초기 단계 에서부터 적극 수사 이뤄지지 대해 송구 스럽게 생각 한다 아동 피해자 사회 약자 대한 반복 신고 모니터링 되도록 아동학대 대응 시스템 개선 조기 피해 아동 보호 있도록 하겠다 했다',\n",
       " '청장 경찰청 아동학대 전담 부서 신설 하고 모든 아동학대 의심 사건 대해 학대 혐의 자의 정신병 알코올 중독 피해 아동 과거 진료기록 반드시 확인 하도록 국가수 본부 중심 으로 경찰청 관련 기능 모두 참여 하는 태스크포스 구성 재발 방지 대책 강력하게 추진 약속 했다 경찰 신고 당시 사건 담당 했던 경찰관 대한 징계 절차 진행 중이',\n",
       " '지난달 신고 사건 담당자 에게는 경고 신고 사건 담당자 에게는 주의 처분 학대 예방 경찰관 감독 책임 으로 해당 청계 에게는 경고 인사 조치 총괄 책임 으로 현직 청과 에게는 주의 처분 내려졌다',\n",
       " '신고 사건 처리 했던 소속 부서 명과 APO 대한 징계 중순 이후 의결 예정 이다',\n",
       " '무단 배포 금지']"
      ]
     },
     "execution_count": 58,
     "metadata": {
      "tags": []
     },
     "output_type": "execute_result"
    }
   ],
   "source": [
    "nouns = []\n",
    "for sentence in sentences: \n",
    "  if sentence is not '': \n",
    "    #불용어 리스트에 포함되지 않는지 체크 \n",
    "    nouns.append(' '.join([word for word in okt.morphs(sentence) if word not in swords and len(word) >1]))\n",
    "\n",
    "nouns"
   ]
  },
  {
   "cell_type": "code",
   "execution_count": null,
   "metadata": {
    "colab": {
     "base_uri": "https://localhost:8080/"
    },
    "executionInfo": {
     "elapsed": 1497,
     "status": "ok",
     "timestamp": 1610589713389,
     "user": {
      "displayName": "김수빈",
      "photoUrl": "",
      "userId": "17754099482493494628"
     },
     "user_tz": -540
    },
    "id": "x-RNJfL5Vn-o",
    "outputId": "aecd98ba-124c-4ca1-f32a-5261171d12d3"
   },
   "outputs": [
    {
     "data": {
      "text/plain": [
       "['김창룡 경찰청장이 양천 아동학대 사망 사건 당시 경찰의 미흡한 조치에 대해 공식 사과했다',\n",
       " '초기 수사 부실의 책임을 물어 서울양천경찰서장은 대기발령했다 김 청장은 6일 서울 서대문구 경찰청사에서 사과문을 발표하며 숨진 정인 양의 명복을 빈다',\n",
       " '학대 피해를 당한 어린아이의 생명을 보호하지 못한 점에 대해 깊은 사죄의 말씀을 드린다 며 초동 대응과 수사 과정에서의 미흡했던 부분들에 대해서도 경찰의 최고 책임자로서 깊은 책임감을 느낀다 고 밝혔다 지난해 1월 양부모에게 입양됐던 정인양은 지속적으로 학대를 받다가 생후 16개월 만인 10월 13일 양천구 목동 소재의 한 병원에서 사망했다',\n",
       " '경찰은 영아 사망 전 세 차례의 학대 의심 신고를 받았으나 신고 당시 증거가 없다는 이유로 사건을 내사종결하거나 검찰에 불기소 의견으로 송치했다',\n",
       " '최근 한 방송에서 이 사건을 재조명하며 당시 입양기관 아동보호전문기관 경찰 등의 조치가 미흡했다는 지적이 나왔다 사건을 담당했던 경찰을 징계해야 한다는 목소리가 높다',\n",
       " '지난 4일 청와대 국민청원에 올라온 아동학대 방조한 양천경찰서장 및 담당경찰관의 파면을 요구합니다 청원은 이틀 만인 5일 저녁 기준 동의 수가 20만을 넘었다',\n",
       " '이날 오후 기준 약 25만명이 넘게 동의했다',\n",
       " '이날 시민단체인 서민민생대책위원회는 서울남부지검에 이화섭 양천경찰서장을 직무유기 등의 혐의로 고발했다 김 청장은 이번 사건에 대한 지휘 책임을 물어 이날 자로 현 서울양천경찰서장을 대기발령 조치했고 후임으로 여성청소년 분야에 정통한 서울경찰청 총경을 발령했다 며 사안의 중대성을 고려하여 사건 담당 관계자에 대해서도 엄정하고 철저한 진상조사를 바탕으로 국민들께서 납득할 수 있도록 책임 있는 조치를 취하겠다 고 말했다',\n",
       " '새 양천서장은 서정순 총경이다',\n",
       " '서울특별시경찰청 보안2과장 서울청 치안지도관 전남경찰청 여성청소년과장 등을 역임했다 김 청장은 1 2차 신고가 있었던 초기 단계에서부터 적극적인 수사가 이뤄지지 못한 데 대해 송구스럽게 생각한다 며 아동 피해자 등 사회적 약자에 대한 반복 신고가 모니터링되도록 아동학대 대응 시스템을 개선해 조기에 피해 아동을 보호할 수 있도록 하겠다 고 했다',\n",
       " '김 청장은 경찰청에 아동학대 전담 부서를 신설하고 모든 아동학대 의심 사건에 대해 학대 혐의자의 정신병력 알코올 중독과 피해 아동의 과거 진료기록을 반드시 확인하도록 할 것 국가수사본부를 중심으로 경찰청 관련 기능이 모두 참여하는 태스크포스를 구성해 재발방지 대책을 강력하게 추진할 것 등을 약속했다 경찰은 신고 당시 사건을 담당했던 경찰관에 대한 징계 절차도 진행 중이다',\n",
       " '지난달 2차 신고사건 담당자 2명에게는 경고 1차 신고사건 담당자 3명에게는 주의 처분이 학대예방경찰관 감독책임으로 해당 여청계장에게는 경고 및 인사조치 총괄책임으로 전현직 여청과장에게는 주의 처분이 내려졌다',\n",
       " '3차 신고사건을 처리했던 소속 부서 팀장 3명과 APO 2명에 대한 징계는 이달 중순 이후에 의결될 예정이다',\n",
       " '무단전재 및 재배포 금지']"
      ]
     },
     "execution_count": 59,
     "metadata": {
      "tags": []
     },
     "output_type": "execute_result"
    }
   ],
   "source": [
    "sentences"
   ]
  }
 ],
 "metadata": {
  "colab": {
   "authorship_tag": "ABX9TyNCWK0HcqVA0ooayvP10kAl",
   "collapsed_sections": [],
   "name": "Text-preprocessing.ipynb",
   "provenance": []
  },
  "kernelspec": {
   "display_name": "Python 3",
   "language": "python",
   "name": "python3"
  },
  "language_info": {
   "codemirror_mode": {
    "name": "ipython",
    "version": 3
   },
   "file_extension": ".py",
   "mimetype": "text/x-python",
   "name": "python",
   "nbconvert_exporter": "python",
   "pygments_lexer": "ipython3",
   "version": "3.7.6"
  }
 },
 "nbformat": 4,
 "nbformat_minor": 1
}
