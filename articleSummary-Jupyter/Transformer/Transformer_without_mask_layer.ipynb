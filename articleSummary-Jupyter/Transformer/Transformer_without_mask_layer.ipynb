{
 "cells": [
  {
   "cell_type": "code",
   "execution_count": 1,
   "metadata": {
    "id": "pjJ1JudwVof4"
   },
   "outputs": [],
   "source": [
    "import numpy as np\n",
    "import tensorflow as tf "
   ]
  },
  {
   "cell_type": "markdown",
   "metadata": {
    "id": "yzdjxWcyM_Br"
   },
   "source": [
    "### **Positional Encoding**  \n",
    "\n",
    "Transformer는 입력 시퀀스를 병렬적으로 처리하기 때문에, 입력 데이터는 위치정보를 포함하고 있어야 한다.  \n",
    "Positional Encoding은 각 입베딩 벡터에 위치 정보를 더하는 과정이다.  "
   ]
  },
  {
   "cell_type": "code",
   "execution_count": 3,
   "metadata": {
    "id": "OFdpr3UoVtQF"
   },
   "outputs": [],
   "source": [
    "class PositionalEncoding(tf.keras.layers.Layer):\n",
    "    def __init__(self, N, d_model):\n",
    "        super(PositionalEncoding, self).__init__()\n",
    "        self.pos_encoding = self.get_positional_encoding(N, d_model)\n",
    "    \n",
    "    def get_positional_encoding(self, N, d_model):\n",
    "        \n",
    "        def get_pos_matrix(pos, i, d_model):\n",
    "            pos_matrix = pos / tf.math.pow(10000, i / tf.cast(d_model, tf.float32))\n",
    "            pos_matrix = pos_matrix.numpy()\n",
    "\n",
    "            pos_matrix[:,0::2] = tf.math.sin(pos_matrix[:,0::2])\n",
    "            pos_matrix[:,1::2] = tf.math.cos(pos_matrix[:,1::2])\n",
    "\n",
    "            return pos_matrix\n",
    "\n",
    "        pos_encoding = get_pos_matrix(pos=tf.range(N, dtype=tf.float32)[:, tf.newaxis], i=tf.range(d_model, dtype=tf.float32)[tf.newaxis,:], d_model=d_model)\n",
    "   \n",
    "        print(\"Positional Encoding\", pos_encoding.shape)\n",
    "        return tf.cast(pos_encoding[:,:], tf.float32)\n",
    "\n",
    "    def call(self, inputs):\n",
    "        return inputs + self.pos_encoding"
   ]
  },
  {
   "cell_type": "markdown",
   "metadata": {
    "id": "J_H8jIomNdFr"
   },
   "source": [
    "아래는 50개의 임베딩 벡터, 각 임베딩 벡터의 차원이 128일 때의 포지셔널 인코딩 행렬을 시각화한 것이다."
   ]
  },
  {
   "cell_type": "code",
   "execution_count": 4,
   "metadata": {
    "colab": {
     "base_uri": "https://localhost:8080/",
     "height": 300
    },
    "id": "VMQ7cAQgYxnZ",
    "outputId": "6793b43c-b7f4-4f92-aea2-141581fcad07"
   },
   "outputs": [
    {
     "name": "stdout",
     "output_type": "stream",
     "text": [
      "Positional Encoding (50, 128)\n"
     ]
    },
    {
     "data": {
      "image/png": "[encoded data removed]",
      "text/plain": [
       "<Figure size 432x288 with 2 Axes>"
      ]
     },
     "metadata": {
      "needs_background": "light"
     },
     "output_type": "display_data"
    }
   ],
   "source": [
    "import matplotlib.pyplot as plt\n",
    "\n",
    "pos_encoder = PositionalEncoding(50, 128)\n",
    "\n",
    "plt.pcolormesh(pos_encoder.pos_encoding, cmap='RdBu')\n",
    "plt.xlabel('Depth')\n",
    "plt.xlim((0, 128))\n",
    "plt.ylabel('Position')\n",
    "plt.colorbar()\n",
    "plt.show()"
   ]
  },
  {
   "cell_type": "markdown",
   "metadata": {
    "id": "QemGZa2VN3j2"
   },
   "source": [
    "### **Padding Mask 생성**  \n",
    "softmax 함수에 잘못된 값이 들어가는 경우에, 이 값을 연산에서 제외하기 위해 Padding Mask 단계를 거친다.  \n",
    "mask에 -1e9 값을 곱해 Attention Score 행렬에 더한다.  \n",
    "\n",
    "> 잘못된 값이란, 입력된 문장 행렬에서 <*PAD*>를 의미한다.  \n",
    "> <*PAD*> 값을 의미하는 0을 찾아 마스킹한다."
   ]
  },
  {
   "cell_type": "code",
   "execution_count": 5,
   "metadata": {
    "id": "eR7pnTHdLC6A"
   },
   "outputs": [],
   "source": [
    "def create_padding_mask(multiple_qk):\n",
    "    mask = tf.cast(tf.math.equal(multiple_qk,0), tf.float32)\n",
    "    return mask * -1e9"
   ]
  },
  {
   "cell_type": "code",
   "execution_count": 6,
   "metadata": {
    "colab": {
     "base_uri": "https://localhost:8080/"
    },
    "id": "AoJkfOmhMO6q",
    "outputId": "00ddf6e6-b68a-4922-c5a7-15567d14f589"
   },
   "outputs": [
    {
     "data": {
      "text/plain": [
       "<tf.Tensor: shape=(4, 3, 2), dtype=float32, numpy=\n",
       "array([[[-1.e+09, -0.e+00],\n",
       "        [-0.e+00, -0.e+00],\n",
       "        [-0.e+00, -0.e+00]],\n",
       "\n",
       "       [[-0.e+00, -0.e+00],\n",
       "        [-0.e+00, -0.e+00],\n",
       "        [-0.e+00, -0.e+00]],\n",
       "\n",
       "       [[-0.e+00, -0.e+00],\n",
       "        [-0.e+00, -0.e+00],\n",
       "        [-0.e+00, -0.e+00]],\n",
       "\n",
       "       [[-0.e+00, -0.e+00],\n",
       "        [-0.e+00, -0.e+00],\n",
       "        [-0.e+00, -0.e+00]]], dtype=float32)>"
      ]
     },
     "execution_count": 6,
     "metadata": {},
     "output_type": "execute_result"
    }
   ],
   "source": [
    "temp_k = tf.constant([[[10,0,0],\n",
    "                      [0,10,0],\n",
    "                      [0,0,10],\n",
    "                      [0,0,10]]], dtype=tf.float32) \n",
    "tmp = tf.constant(np.arange(4*3*2).reshape((4,3,2)), dtype=tf.float32) \n",
    "create_padding_mask(tmp)"
   ]
  },
  {
   "cell_type": "markdown",
   "metadata": {
    "id": "Kh5WP0R5PIFV"
   },
   "source": [
    "### **Scaled Dot-product Attention**  \n",
    "Dot-product Attention과 유사하나, k 벡터의 차원 값인 d_k의 루트 값을 나눠 scaling하는 과정이 추가되었다.\n",
    "\n",
    "```\n",
    "Attention(Q, K, V) = softmax(Q*K^T)*V               # Dot-product Attention\n",
    "Attention(Q, K, V) = softmax((Q*K^T)/sqrt(d_k))*V   # Scaled Dot-product Attention\n",
    "```"
   ]
  },
  {
   "cell_type": "markdown",
   "metadata": {
    "id": "MRTr2N_fstpi"
   },
   "source": [
    "Encoder Self Attention  \n",
    "\n",
    "```\n",
    "Q size (batch_size, enc_seq, d_model)  \n",
    "K size (batch_size, enc_seq, d_model)  \n",
    "V size (batch_size, enc_seq, d_model)  \n",
    "```\n",
    "\n",
    "Decoder Self Attention  \n",
    "```\n",
    "Q size (batch_size, dec_seq, d_model)  \n",
    "K size (batch_size, dec_seq, d_model)  \n",
    "V size (batch_size, dec_seq, d_model)  \n",
    "```\n",
    "\n",
    "Decoder Attention  \n",
    "```\n",
    "Q size (batch_size, enc_seq, d_model)  \n",
    "K size (batch_size, dec_seq, d_model)  \n",
    "V size (batch_size, dec_seq, d_model)  \n",
    "```"
   ]
  },
  {
   "cell_type": "code",
   "execution_count": 7,
   "metadata": {
    "id": "PvHLUf87dsdi"
   },
   "outputs": [],
   "source": [
    "def scaled_dot_product_attention(query, key, value, mask_type):\n",
    "\n",
    "    # Attention Score : Q * K^T\n",
    "    attention_score_matrix = tf.matmul(query, key, transpose_b=True)\n",
    "    \n",
    "    # Scaling : Divide by sqrt(d_k)\n",
    "    d_k = tf.cast(key.shape[-1], tf.float32)\n",
    "    scaled_matrix = attention_score_matrix / tf.math.sqrt(d_k)\n",
    "\n",
    "    # Padding Mask or Look-Ahead Mask\n",
    "    if mask_type is 'padding':\n",
    "        scaled_matrix += create_padding_mask(scaled_matrix)\n",
    "    elif mask_type is 'look_ahead':\n",
    "        scaled_matrix += create_look_ahead_mask(scaled_matrix)\n",
    "\n",
    "    # Softmax fuction\n",
    "    attention_weights = tf.nn.softmax(scaled_matrix, axis=-1) \n",
    "\n",
    "    # Weighted Sum : multiply V matrix\n",
    "    attention_value = tf.matmul(attention_weights, value)\n",
    "\n",
    "    return attention_value, attention_weights"
   ]
  },
  {
   "cell_type": "markdown",
   "metadata": {
    "id": "CZ_dsk3oQa7C"
   },
   "source": [
    "아래는 `temp_k`, `temp_v`, `temp_q`가 입력으로 주어졌을 때 Attention Value와 Attention Distribution 을 구한 결과이다."
   ]
  },
  {
   "cell_type": "code",
   "execution_count": 8,
   "metadata": {
    "id": "VWRxzKzRBBts"
   },
   "outputs": [],
   "source": [
    "np.set_printoptions(suppress=True)\n",
    "temp_k = tf.constant([[10,0,0],\n",
    "                      [0,10,0],\n",
    "                      [0,0,10],\n",
    "                      [0,0,10]], dtype=tf.float32)  \n",
    "\n",
    "temp_v = tf.constant([[   1,0],\n",
    "                      [  10,0],\n",
    "                      [ 100,5],\n",
    "                      [1000,6]], dtype=tf.float32)  \n",
    "temp_q = tf.constant([[0, 10, 0]], dtype=tf.float32)  "
   ]
  },
  {
   "cell_type": "code",
   "execution_count": 9,
   "metadata": {
    "colab": {
     "base_uri": "https://localhost:8080/"
    },
    "id": "vSTH7_kEBEMm",
    "outputId": "0a127cb5-ca79-4669-b8a4-eca428571dbc"
   },
   "outputs": [
    {
     "name": "stdout",
     "output_type": "stream",
     "text": [
      "Attention Distribution : [[0. 1. 0. 0.]]\n",
      "Attention Value : [[10.  0.]]\n"
     ]
    }
   ],
   "source": [
    "temp_out, temp_attn = scaled_dot_product_attention(temp_q, temp_k, temp_v, 'padding')\n",
    "print(\"Attention Distribution : {}\".format(temp_attn)) \n",
    "print(\"Attention Value : {}\".format(temp_out))"
   ]
  },
  {
   "cell_type": "markdown",
   "metadata": {
    "id": "oj_Z5yUmPcR9"
   },
   "source": [
    "### **Muti-Head Attention**  \n",
    "한번의 Attention을 수행하는 것보다, 여러번의 Attention을 병렬적으로 수행하는 것이 효율적이다.  \n",
    "각 Attention을 수행한 결과로부터 각기 다른 관점의 정보를 수집할 수 있다.  \n",
    "\n",
    "입력된 `query`, `key`, `value` 행렬 값이 각각 `(1, 1, 16)`, `(1, 4, 16)`, `(1, 4, 16)`이고, `d_model`이 16, `num_heads`가 4이라고 가정하자.  \n",
    "이를 `num_heads`로 분할하여 각각 Attention을 적용하기 위해 입력된 행렬을 다음과 같이 분할한다.\n",
    "\n",
    "```\n",
    "(batch_size, num_heads, 입력 시퀀스 개수, d_model / num_heads)\n",
    "```  \n",
    "```\n",
    "query.shape   # (1, 4, 1, 4)\n",
    "key.shape     # (1, 4, 4, 4)\n",
    "value.shape   # (1, 4, 4, 4)\n",
    "```\n",
    " \n",
    "**batch size**  \n",
    "위 예제에서 batch_size는 1이다.\n",
    "batch size는 모델 훈련에서의 1 batch 당 사용되는 token의 수를 의미한다.\n",
    "\n",
    "위 query, key, value Tensor에 scaled dot-product attention을 적용하면  \n",
    "`q vector=(1, 4)`, `k vector=(4, 4)`, `v vector= (4, 4)`에 대해 4번의 Attention을 각각 적용한 것과 동일하다.\n",
    "\n",
    "이 후에 `num_heads`로 분할되어 있던 행렬을 이어 `(batch_size, 입력 시퀀스 개수, d_model)`로 변환한다. `"
   ]
  },
  {
   "cell_type": "code",
   "execution_count": 10,
   "metadata": {
    "id": "TzymH5FDSehq"
   },
   "outputs": [],
   "source": [
    "def printShape(Q, K, V, status):\n",
    "    print(\"[{status}] Q shape : {q}, K shape : {k}, V shape : {v}\\n\".format(status=status, q=Q.shape, k=K.shape, v=V.shape))"
   ]
  },
  {
   "cell_type": "code",
   "execution_count": 11,
   "metadata": {
    "id": "W_Il_a10PbuG"
   },
   "outputs": [],
   "source": [
    "class MultiHeadAttention:\n",
    "    def __init__(self, num_heads, d_model):\n",
    "        self.num_heads = num_heads\n",
    "        self.d_model = d_model\n",
    "        \n",
    "        assert d_model % num_heads == 0, \"depth가 정수 형식이 아닙니다.\"\n",
    "        self.depth = self.d_model // self.num_heads\n",
    "\n",
    "        # Dense 층의 출력 차원은 d_model\n",
    "        self.WQ = tf.keras.layers.Dense(units=self.d_model)\n",
    "        self.WK = tf.keras.layers.Dense(units=self.d_model)\n",
    "        self.WV = tf.keras.layers.Dense(units=self.d_model)\n",
    "        self.WO = tf.keras.layers.Dense(units=self.d_model)\n",
    "\n",
    "    \n",
    "    def get_attention(self, query, key, value, mask_type=None):\n",
    "\n",
    "        printShape(query, key, value, \"Input\")\n",
    "        \n",
    "        def split_sequences(batch_size, num_heads, d_model, query, key, value):\n",
    "            Q_list = tf.reshape(query, (batch_size, -1, num_heads, d_model // num_heads))\n",
    "            K_list = tf.reshape(key, (batch_size, -1, num_heads, d_model // num_heads))\n",
    "            V_list = tf.reshape(value, (batch_size, -1, num_heads, d_model // num_heads))\n",
    "\n",
    "            return tf.transpose(Q_list, perm=[0, 2, 1, 3]), tf.transpose(K_list, perm=[0, 2, 1, 3]), tf.transpose(V_list, perm=[0, 2, 1, 3])\n",
    "            \n",
    "        # 현재 batch_size는 1이다.\n",
    "        # 모델 훈련에서의 batch 당 token의 수를 의미한다.\n",
    "        batch_size = tf.shape(query)[0]\n",
    "\n",
    "        # Q*W^Q : Dense 층 구성\n",
    "        q_WQ = self.WQ(query)\n",
    "        k_WK = self.WK(key)\n",
    "        v_WV = self.WV(value)\n",
    "        printShape(q_WQ, k_WK, v_WV, \"Dense\")\n",
    "\n",
    "        # num_heads로 입력 행렬 분할\n",
    "        # (batch_size, 입력 시퀀스 개수, d_model) -> (batch_size, num_heads, 입력 시퀀스 개수, d_model/num_heads)\n",
    "        Q_list, K_list, V_list = split_sequences(batch_size, self.num_heads, self.d_model, q_WQ, k_WK, v_WV)\n",
    "        printShape(Q_list, K_list, V_list, \"Splited\")\n",
    "\n",
    "        # Attention value \n",
    "        scaled_attention, _ = scaled_dot_product_attention(Q_list, K_list, V_list, mask_type)\n",
    "        \n",
    "        # head를 연결하기 위한 Tensor shape 조정\n",
    "        # (batch_size, num_heads, 입력 시퀀스 개수, d_model/num_heads) -> (batch_size, 입력 시퀀스 개수, num_heads, d_model/num_heads)\n",
    "        scaled_attention = tf.transpose(scaled_attention, perm=[0, 2, 1, 3])\n",
    "        \n",
    "        # head 연결\n",
    "        # (batch_size, 입력 시퀀스 개수, d_model)\n",
    "        concat_attention = tf.reshape(scaled_attention,(batch_size, -1, self.d_model))\n",
    "\n",
    "        # Multi-Head 최종 결과 값\n",
    "        result = self.WO(concat_attention)\n",
    "\n",
    "        return result\n",
    "        \n",
    "        "
   ]
  },
  {
   "cell_type": "code",
   "execution_count": 12,
   "metadata": {
    "colab": {
     "base_uri": "https://localhost:8080/"
    },
    "id": "q-UlQGW7j1xv",
    "outputId": "75eb4ee7-30f3-40ca-b8c6-ae6332055d4f"
   },
   "outputs": [
    {
     "name": "stdout",
     "output_type": "stream",
     "text": [
      "[Input] Q shape : (1, 16), K shape : (4, 16), V shape : (4, 32)\n",
      "\n",
      "[Dense] Q shape : (1, 16), K shape : (4, 16), V shape : (4, 16)\n",
      "\n",
      "[Splited] Q shape : (1, 4, 1, 4), K shape : (1, 4, 4, 4), V shape : (1, 4, 4, 4)\n",
      "\n",
      "Multi-Head Attention Output : [[[ 177.37006   -87.92567   -22.695236   70.25905    88.93347\n",
      "    134.68817    39.736973 -100.11836    29.40397   -59.812443\n",
      "   -140.02728  -133.20932    95.962395 -209.33994  -136.40182\n",
      "    172.61981 ]]]\n",
      "Attention Output shape : (1, 1, 16)\n"
     ]
    }
   ],
   "source": [
    "temp_k = tf.constant([[10,0,0,10,0,0,10,0,0,10,0,0,10,0,0,1],\n",
    "                      [0,10,0,0,10,0,0,10,0,0,10,0,0,10,0,1],\n",
    "                      [0,0,10,0,0,10,0,0,10,0,0,10,0,0,10,1],\n",
    "                      [0,0,10,0,0,10,0,0,10,0,0,10,0,0,10,1]], dtype=tf.float32)  \n",
    "\n",
    "temp_v = tf.constant([[   1,0,    2,0,    3,0,    4,0,    5,0,    6,0,    7,0,    1,0,    1,0,    1,0,    1,0,    1,0,    1,0,    1,0,    1,0,    1,0],\n",
    "                      [  12,0,   10,0,   10,0,   10,0,   11,0,   10,0,   13,0,   10,0,   10,0,   10,0,   10,0,   10,0,   10,0,   10,0,   10,0,   10,0],\n",
    "                      [ 123,5,  100,5,  100,5,  100,5,  100,5,  100,5,  100,5,  100,5,  100,5,  100,5,  100,5,  100,5,  100,5,  100,5,  100,5,  100,5],\n",
    "                      [1111,6, 1320,6, 1034,6, 1000,6, 1019,6, 1110,6, 1031,6, 1330,6, 1032,6, 1000,6, 1000,6, 1000,6, 1000,6, 1000,6, 1000,6, 1000,6]], dtype=tf.float32)  \n",
    "\n",
    "temp_q = tf.constant([[0, 10, 0,0, 10, 0,0, 10, 0,0, 10, 0,0, 10, 0,1]], dtype=tf.float32)\n",
    "\n",
    "attention = MultiHeadAttention(4, 16)\n",
    "result = attention.get_attention(temp_q, temp_k, temp_v, None)\n",
    "print(\"Multi-Head Attention Output : {}\".format(result))\n",
    "print(\"Attention Output shape : {}\".format(result.shape))"
   ]
  },
  {
   "cell_type": "markdown",
   "metadata": {
    "id": "XAkt3RIi4XyF"
   },
   "source": [
    "### **Encoder**  \n",
    "`class Encoder`는 `layer_num`만큼 인코더 층을 쌓은 객체이다.  \n",
    "각 layer는 keras.Model을 반환하는데, 입력 값으로 `inputs`의 크기를 가지고  \n",
    "출력 값은 `inputs`에 대한 함수 수행 결과를 반환한다.  \n",
    "\n",
    "각 encoder layer에서는 Self-Attention, Feed Forward Network를 수행한다."
   ]
  },
  {
   "cell_type": "code",
   "execution_count": 13,
   "metadata": {
    "id": "jUzsrMluU3Xg"
   },
   "outputs": [],
   "source": [
    "class Encoder:\n",
    "    def __init__(self, N, layer_num, dff, d_model, num_heads, dropout=None):\n",
    "        self.N = N\n",
    "        self.layer_num = layer_num\n",
    "\n",
    "        self.dff = dff\n",
    "        self.d_model = d_model\n",
    "        self.num_heads = num_heads\n",
    "        self.dropout = dropout\n",
    "\n",
    "    def stack_encode_layer(self, layer_name):\n",
    "        \n",
    "        # Input 1개  : 인코더 입력\n",
    "        inputs = tf.keras.Input(shape=(None, self.d_model), name=\"encode_inputs\")\n",
    "\n",
    "        print(layer_name, \"sub-layer 1\")\n",
    "        # encoder의 self attention은 query, key, value가 모두 입력 문장의 단어 벡터를 의미한다.\n",
    "        # query = key = value\n",
    "        query = key = value = inputs\n",
    "        \n",
    "        # Multi-Head Attention\n",
    "        multi_head_attention = MultiHeadAttention(self.num_heads, self.d_model)\n",
    "        attention_value = multi_head_attention.get_attention(query, key, value, mask_type='padding')\n",
    "\n",
    "        attention_value = tf.keras.layers.Dropout(rate=0.1)(attention_value)\n",
    "        # Residual connection\n",
    "        attention_value += inputs\n",
    "        # Normalization\n",
    "        sublayer_output = tf.keras.layers.LayerNormalization(epsilon=1e-6)(attention_value)\n",
    "\n",
    "        print(layer_name, \"sub-layer 2\")\n",
    "        # Feed Forward Network\n",
    "        # 입력과 출력의 크기가 보존되며, FFN의 은닉층 크기는 dff다.\n",
    "        feed_forward_net = tf.keras.layers.Dense(units=self.dff, activation='relu')(sublayer_output)\n",
    "        feed_forward_net = tf.keras.layers.Dense(units=self.d_model)(feed_forward_net)\n",
    "        \n",
    "        feed_forward_net = tf.keras.layers.Dropout(rate=0.1)(feed_forward_net)\n",
    "        # Residual connection\n",
    "        feed_forward_net += sublayer_output\n",
    "        # Normalization\n",
    "        encoder_layer_output = tf.keras.layers.LayerNormalization(epsilon=1e-6)(feed_forward_net)\n",
    "\n",
    "        return tf.keras.Model(inputs=[inputs], outputs=encoder_layer_output, name=layer_name)\n",
    "\n",
    "    def get_encoder(self):\n",
    "\n",
    "        inputs = tf.keras.Input(shape=(None, self.d_model), name=\"encoder_inputs\")\n",
    "\n",
    "        # Positional Encoding\n",
    "        encoder_input = PositionalEncoding(self.N, self.d_model)(inputs)\n",
    "        \n",
    "        # Encoder Layer 쌓기\n",
    "        # layer_num 만큼 encoder layer를 쌓는다\n",
    "        for idx in range(self.layer_num):\n",
    "            encoder_input = encoder_output = self.stack_encode_layer(layer_name=\"encoder_layer_{}\".format(idx))(inputs=[encoder_input])\n",
    "\n",
    "        return tf.keras.Model(inputs=[inputs], outputs=encoder_output, name=\"Encoder\")\n"
   ]
  },
  {
   "cell_type": "markdown",
   "metadata": {
    "id": "Zlon9KzsdvYv"
   },
   "source": [
    "### **Look-Ahead Mask 생성**  \n",
    "Transformer의 디코더는 순차적인 입력이 아니라 문장 행렬로 한꺼번에 입력되기 때문에,  \n",
    "현재 단어를 예측할 때 미래 시점의 단어가 개입되는 문제가 발생한다.  \n",
    "\n",
    "이를 방지하기 위해, 현재보다 이후 시점의 단어는 마스킹하여 미리보기를 방지한다.  \n",
    "또한 <*PAD*> 값을 포함하지 않도록 Pad Masking도 수행한다. "
   ]
  },
  {
   "cell_type": "code",
   "execution_count": 14,
   "metadata": {
    "id": "krbe9IPReg_C"
   },
   "outputs": [],
   "source": [
    "def create_look_ahead_mask(attention_score_matrix):\n",
    "    N = tf.shape(attention_score_matrix)[1]\n",
    "\n",
    "    mask = tf.ones(shape=(N, N), dtype=tf.float32)\n",
    "    #mask = tf.experimental.numpy.triu(mask, 1) \n",
    "    \n",
    "    mask = 1 - tf.linalg.band_part(mask, -1, 0)\n",
    "    mask = mask[tf.newaxis, :, :] * -1e9\n",
    "\n",
    "    pad_mask = create_padding_mask(attention_score_matrix)\n",
    "    return tf.minimum(mask, pad_mask)"
   ]
  },
  {
   "cell_type": "code",
   "execution_count": 15,
   "metadata": {
    "colab": {
     "base_uri": "https://localhost:8080/"
    },
    "id": "pQMXS89DkZmL",
    "outputId": "968d6f0d-bf51-429b-9c78-be16c687fdf4"
   },
   "outputs": [
    {
     "data": {
      "text/plain": [
       "<tf.Tensor: shape=(4, 4, 4), dtype=float32, numpy=\n",
       "array([[[-1.e+09, -1.e+09, -1.e+09, -1.e+09],\n",
       "        [-0.e+00, -0.e+00, -1.e+09, -1.e+09],\n",
       "        [-0.e+00, -0.e+00, -0.e+00, -1.e+09],\n",
       "        [-0.e+00, -0.e+00, -0.e+00, -0.e+00]],\n",
       "\n",
       "       [[-0.e+00, -1.e+09, -1.e+09, -1.e+09],\n",
       "        [-0.e+00, -0.e+00, -1.e+09, -1.e+09],\n",
       "        [-0.e+00, -0.e+00, -0.e+00, -1.e+09],\n",
       "        [-0.e+00, -0.e+00, -0.e+00, -0.e+00]],\n",
       "\n",
       "       [[-0.e+00, -1.e+09, -1.e+09, -1.e+09],\n",
       "        [-0.e+00, -0.e+00, -1.e+09, -1.e+09],\n",
       "        [-0.e+00, -0.e+00, -0.e+00, -1.e+09],\n",
       "        [-0.e+00, -0.e+00, -0.e+00, -0.e+00]],\n",
       "\n",
       "       [[-0.e+00, -1.e+09, -1.e+09, -1.e+09],\n",
       "        [-0.e+00, -0.e+00, -1.e+09, -1.e+09],\n",
       "        [-0.e+00, -0.e+00, -0.e+00, -1.e+09],\n",
       "        [-0.e+00, -0.e+00, -0.e+00, -0.e+00]]], dtype=float32)>"
      ]
     },
     "execution_count": 15,
     "metadata": {},
     "output_type": "execute_result"
    }
   ],
   "source": [
    "tmp = tf.constant(np.arange(4*4*4).reshape(4,4,4))\n",
    "create_look_ahead_mask(tmp)"
   ]
  },
  {
   "cell_type": "markdown",
   "metadata": {
    "id": "XIPePp4o6G2m"
   },
   "source": [
    "### **Decoder**  \n",
    "`class Decoder` 또한 `layer_num`만큼 층을 쌓은 객체이다.  \n",
    "입력 값은 `d_model`의 차원을 가지며, 출력 값으로 `inputs`에 대한 함수 수행 결과를 반환한다.  \n",
    "\n",
    "각 decoder layer에서는 Masked Self-Attention, Encoder-Decoder, Feed Forward Network를 수행한다."
   ]
  },
  {
   "cell_type": "code",
   "execution_count": 16,
   "metadata": {
    "id": "plUZCVk0uor6"
   },
   "outputs": [],
   "source": [
    "class Decoder:\n",
    "    def __init__(self, N, layer_num, dff, d_model, num_heads, dropout=None):\n",
    "        self.N = N\n",
    "        self.layer_num = layer_num\n",
    "\n",
    "        self.dff = dff\n",
    "        self.d_model = d_model\n",
    "        self.num_heads = num_heads\n",
    "        self.dropout = dropout\n",
    "\n",
    "    def stack_decode_layer(self, layer_name):\n",
    "        print(layer_name, \"sub-layer 1\")\n",
    "        \n",
    "        #Input 2개 : 디코더 입력, 인코더 출력\n",
    "        decoder_input = tf.keras.Input(shape=(None, self.d_model), name=\"decoder_layer_input\")\n",
    "        encoder_output = tf.keras.Input(shape=(None, self.d_model), name=\"encoder_output\")\n",
    "\n",
    "        # Masked Multi-Head Self Attention\n",
    "        # 디코더의 Self Attention에서 query, key, value의 출처는 디코더 입력이다.\n",
    "        query = key = value = decoder_input\n",
    "\n",
    "        self_attention = MultiHeadAttention(self.num_heads, self.d_model)\n",
    "        attention_value = self_attention.get_attention(query, key, value, mask_type='look_ahead')\n",
    "\n",
    "        attention_value = tf.keras.layers.Dropout(rate=0.1)(attention_value)\n",
    "        # Residual connection\n",
    "        attention_value += decoder_input\n",
    "        # Normalization\n",
    "        sublayer_output_1 = tf.keras.layers.LayerNormalization(epsilon=1e-6)(attention_value)\n",
    "\n",
    "        # Multi-Head Encoder-Decoder Attention\n",
    "        # 디코더 Encoder-Decoder Attention의 입력 중 Q는 디코더 sub-layer의 출력이고, K,V는 인코더의 출력이다.\n",
    "        key_from_encoder = value_from_encoder = encoder_output\n",
    "        query_from_decoder = sublayer_output_1\n",
    "\n",
    "        print(layer_name, \"sub-layer 2\")\n",
    "        # 두번째 Encoder-Decoder Attention은 padding masking을 수행한다.\n",
    "        encoder_decoder_attention = MultiHeadAttention(self.num_heads, self.d_model)\n",
    "        attention_value = encoder_decoder_attention.get_attention(query_from_decoder, key_from_encoder, value_from_encoder, mask_type='padding')\n",
    "\n",
    "        attention_value = tf.keras.layers.Dropout(rate=0.1)(attention_value)\n",
    "        # Residual connection\n",
    "        attention_value += sublayer_output_1\n",
    "        # Normalization\n",
    "        sublayer_output_2 = tf.keras.layers.LayerNormalization(epsilon=1e-6)(attention_value)\n",
    "\n",
    "        print(layer_name, \"sub-layer 3\")\n",
    "        # Feed Forward Network\n",
    "        # 입력과 출력의 크기가 보존되며, FFN의 은닉층 크기는 dff다.\n",
    "        feed_forward_net = tf.keras.layers.Dense(units=self.dff, activation='relu')(sublayer_output_2)\n",
    "        feed_forward_net = tf.keras.layers.Dense(units=self.d_model)(feed_forward_net)\n",
    "\n",
    "        feed_forward_net = tf.keras.layers.Dropout(rate=0.1)(feed_forward_net)\n",
    "        # Residual connection\n",
    "        feed_forward_net += sublayer_output_2\n",
    "        # Normalization\n",
    "        decoder_layer_output = tf.keras.layers.LayerNormalization(epsilon=1e-6)(feed_forward_net)\n",
    "\n",
    "        return tf.keras.Model(inputs=[decoder_input, encoder_output], outputs=decoder_layer_output, name=layer_name)\n",
    "\n",
    "\n",
    "    def get_decoder(self):\n",
    "        \n",
    "        #Input 4개 : 디코더 입력, 인코더 출력, Look-ahead mask, padding mask\n",
    "        decoder_input = tf.keras.Input(shape=(None, self.d_model), name=\"decoder_inputs\")\n",
    "        encoder_output = tf.keras.Input(shape=(None, self.d_model), name=\"encoder_outputs\")\n",
    "\n",
    "        # Positional Encoding\n",
    "        input = PositionalEncoding(self.N, self.d_model)(decoder_input)\n",
    "        \n",
    "        # Decoder Layer 쌓기\n",
    "        # layer_num 만큼 decoder layer를 쌓는다\n",
    "        for idx in range(self.layer_num):\n",
    "            input = decoder_output = self.stack_decode_layer(layer_name=\"decoder_layer_{}\".format(idx))(inputs=[input, encoder_output])\n",
    "\n",
    "        return tf.keras.Model(inputs=[decoder_input, encoder_output], outputs=decoder_output, name=\"Decoder\")\n"
   ]
  },
  {
   "cell_type": "markdown",
   "metadata": {
    "id": "IhHDp8Go6nVy"
   },
   "source": [
    "### **Transformer**  \n",
    "`class Transformer`는 트랜스포머 모델의 객체이다.  \n",
    "`layer_num` 만큼 인코더와 디코더를 쌓고, 인코더 결과 값을 디코더에 연결한다.  \n",
    "\n",
    "디코더의 출력 값을 통해, 다음 단어를 예측한다.  "
   ]
  },
  {
   "cell_type": "code",
   "execution_count": 17,
   "metadata": {
    "id": "UaatIZbZZFY6"
   },
   "outputs": [],
   "source": [
    "class Transformer:\n",
    "    def __init__(self, vocab_size, layer_num, dff, d_model, num_heads):\n",
    "        self.vocab_size = vocab_size\n",
    "        self.layer_num = layer_num\n",
    "\n",
    "        self.dff = dff\n",
    "        self.d_model = d_model\n",
    "        self.num_heads = num_heads\n",
    "\n",
    "    '''\n",
    "    encoder input : 인코더의 입력은, 요약하지 않은 문장을 토큰화하여 임베딩한 벡터들.\n",
    "    decoder input : 디코더의 입력은 요약된 문장을 토큰화하여 임베딩한 벡터들.\n",
    "    '''\n",
    "    def get_transformer(self):\n",
    "        \n",
    "        #Input 2개 : 인코더 입력, 디코더 입력\n",
    "        encoder_input = tf.keras.Input(shape=(None, self.d_model), name=\"encoder_inputs\")\n",
    "        decoder_input = tf.keras.Input(shape=(None, self.d_model), name=\"decoder_inputs\")\n",
    "\n",
    "        #인코더\n",
    "        encoder = Encoder(self.vocab_size, self.layer_num, self.dff, self.d_model, self.num_heads)\n",
    "        encoder_output = encoder.get_encoder()(inputs=[encoder_input])\n",
    "\n",
    "        #디코더\n",
    "        decoder = Decoder(self.vocab_size, self.layer_num, self.dff, self.d_model, self.num_heads)\n",
    "        decoder_output = decoder.get_decoder()(inputs=[decoder_input, encoder_output])\n",
    "\n",
    "        '''\n",
    "        디코더에서는 인코더의 행렬과 디코더의 입력을 통해 다음 단어를 예측한다.\n",
    "        디코더의 출력은 임베딩 벡터의 개수 vocab size의 크기를 가지며, 확률 값을 가진다.\n",
    "        '''\n",
    "        # 단어 예측을 위한 출력층\n",
    "        output = tf.keras.layers.Dense(units=self.vocab_size, name=\"Output\")(decoder_output)\n",
    "\n",
    "        return tf.keras.Model(inputs=[encoder_input, decoder_input], outputs=output, name=\"Transformer\")\n"
   ]
  },
  {
   "cell_type": "markdown",
   "metadata": {
    "id": "E5E5NQniiogV"
   },
   "source": [
    "```\n",
    "vocab_size  # 입력 시퀀스 길이\n",
    "layer_num   # 인코더/디코더 층\n",
    "dff         # FFN의 셀 개수\n",
    "num_heads   # Multi-head Attention 수행 시 head 개수\n",
    "```"
   ]
  },
  {
   "cell_type": "code",
   "execution_count": 18,
   "metadata": {
    "id": "T6imsMfd8hyw"
   },
   "outputs": [],
   "source": [
    "D_MODEL = 256\n",
    "LAYER_NUM = 6\n",
    "NUM_HEADS = 8\n",
    "DFF = 512\n",
    "VOCAB_SIZE = 100000\n",
    "\n",
    "WARMUP_STEPS = 50\n",
    "EPOCHS = 70"
   ]
  },
  {
   "cell_type": "markdown",
   "metadata": {
    "id": "WiPQhYFn3iY2"
   },
   "source": [
    "### **Learning Rate**  "
   ]
  },
  {
   "cell_type": "code",
   "execution_count": 19,
   "metadata": {
    "id": "vsWa8ZrE4s1K"
   },
   "outputs": [],
   "source": [
    "class LearningRate(tf.keras.callbacks.LearningRateScheduler):\n",
    "    def __init__(self, d_model, warmup_steps):\n",
    "        self.d_model = d_model\n",
    "        self.warmup_steps = warmup_steps\n",
    "    \n",
    "    def __call__(self, step_num):\n",
    "        min_val = tf.math.minimum(step_num ** -0.5,\n",
    "                                  step_num * (self.warmup_steps ** -1.5))\n",
    "        lrate = (self.d_model ** -0.5) * min_val\n",
    "        return lrate"
   ]
  },
  {
   "cell_type": "code",
   "execution_count": 20,
   "metadata": {
    "id": "kK_y0qnl63JE"
   },
   "outputs": [],
   "source": [
    "lrate_scheduler = LearningRate(d_model=D_MODEL, warmup_steps=WARMUP_STEPS)"
   ]
  },
  {
   "cell_type": "markdown",
   "metadata": {
    "id": "_OTfrw833G_P"
   },
   "source": [
    "### **Optimizer** : Adam Optimizer  \n"
   ]
  },
  {
   "cell_type": "code",
   "execution_count": 21,
   "metadata": {
    "id": "MiohcEbl5u1n"
   },
   "outputs": [],
   "source": [
    "beta_1 = 0.9  \n",
    "beta_2 = 0.98\n",
    "epsilon = 10 ** -9\n",
    "\n",
    "optimizer = tf.keras.optimizers.Adam(lrate_scheduler, beta_1=0.9, beta_2=0.98, epsilon=1e-9)"
   ]
  },
  {
   "cell_type": "markdown",
   "metadata": {
    "id": "DTqzPB875yMt"
   },
   "source": [
    "### **Loss Function** : Cross Entropy  \n"
   ]
  },
  {
   "cell_type": "code",
   "execution_count": 22,
   "metadata": {
    "colab": {
     "base_uri": "https://localhost:8080/"
    },
    "id": "h9iBfJdq-aTu",
    "outputId": "dfa80657-0f3d-454b-84a2-b37a4b405b39",
    "scrolled": true
   },
   "outputs": [
    {
     "name": "stdout",
     "output_type": "stream",
     "text": [
      "Positional Encoding (100000, 256)\n",
      "encoder_layer_0 sub-layer 1\n",
      "[Input] Q shape : (None, None, 256), K shape : (None, None, 256), V shape : (None, None, 256)\n",
      "\n",
      "[Dense] Q shape : (None, None, 256), K shape : (None, None, 256), V shape : (None, None, 256)\n",
      "\n",
      "[Splited] Q shape : (None, 8, None, 32), K shape : (None, 8, None, 32), V shape : (None, 8, None, 32)\n",
      "\n",
      "encoder_layer_0 sub-layer 2\n",
      "encoder_layer_1 sub-layer 1\n",
      "[Input] Q shape : (None, None, 256), K shape : (None, None, 256), V shape : (None, None, 256)\n",
      "\n",
      "[Dense] Q shape : (None, None, 256), K shape : (None, None, 256), V shape : (None, None, 256)\n",
      "\n",
      "[Splited] Q shape : (None, 8, None, 32), K shape : (None, 8, None, 32), V shape : (None, 8, None, 32)\n",
      "\n",
      "encoder_layer_1 sub-layer 2\n",
      "encoder_layer_2 sub-layer 1\n",
      "[Input] Q shape : (None, None, 256), K shape : (None, None, 256), V shape : (None, None, 256)\n",
      "\n",
      "[Dense] Q shape : (None, None, 256), K shape : (None, None, 256), V shape : (None, None, 256)\n",
      "\n",
      "[Splited] Q shape : (None, 8, None, 32), K shape : (None, 8, None, 32), V shape : (None, 8, None, 32)\n",
      "\n",
      "encoder_layer_2 sub-layer 2\n",
      "encoder_layer_3 sub-layer 1\n",
      "[Input] Q shape : (None, None, 256), K shape : (None, None, 256), V shape : (None, None, 256)\n",
      "\n",
      "[Dense] Q shape : (None, None, 256), K shape : (None, None, 256), V shape : (None, None, 256)\n",
      "\n",
      "[Splited] Q shape : (None, 8, None, 32), K shape : (None, 8, None, 32), V shape : (None, 8, None, 32)\n",
      "\n",
      "encoder_layer_3 sub-layer 2\n",
      "encoder_layer_4 sub-layer 1\n",
      "[Input] Q shape : (None, None, 256), K shape : (None, None, 256), V shape : (None, None, 256)\n",
      "\n",
      "[Dense] Q shape : (None, None, 256), K shape : (None, None, 256), V shape : (None, None, 256)\n",
      "\n",
      "[Splited] Q shape : (None, 8, None, 32), K shape : (None, 8, None, 32), V shape : (None, 8, None, 32)\n",
      "\n",
      "encoder_layer_4 sub-layer 2\n",
      "encoder_layer_5 sub-layer 1\n",
      "[Input] Q shape : (None, None, 256), K shape : (None, None, 256), V shape : (None, None, 256)\n",
      "\n",
      "[Dense] Q shape : (None, None, 256), K shape : (None, None, 256), V shape : (None, None, 256)\n",
      "\n",
      "[Splited] Q shape : (None, 8, None, 32), K shape : (None, 8, None, 32), V shape : (None, 8, None, 32)\n",
      "\n",
      "encoder_layer_5 sub-layer 2\n",
      "Positional Encoding (100000, 256)\n",
      "decoder_layer_0 sub-layer 1\n",
      "[Input] Q shape : (None, None, 256), K shape : (None, None, 256), V shape : (None, None, 256)\n",
      "\n",
      "[Dense] Q shape : (None, None, 256), K shape : (None, None, 256), V shape : (None, None, 256)\n",
      "\n",
      "[Splited] Q shape : (None, 8, None, 32), K shape : (None, 8, None, 32), V shape : (None, 8, None, 32)\n",
      "\n",
      "decoder_layer_0 sub-layer 2\n",
      "[Input] Q shape : (None, None, 256), K shape : (None, None, 256), V shape : (None, None, 256)\n",
      "\n",
      "[Dense] Q shape : (None, None, 256), K shape : (None, None, 256), V shape : (None, None, 256)\n",
      "\n",
      "[Splited] Q shape : (None, 8, None, 32), K shape : (None, 8, None, 32), V shape : (None, 8, None, 32)\n",
      "\n",
      "decoder_layer_0 sub-layer 3\n",
      "decoder_layer_1 sub-layer 1\n",
      "[Input] Q shape : (None, None, 256), K shape : (None, None, 256), V shape : (None, None, 256)\n",
      "\n",
      "[Dense] Q shape : (None, None, 256), K shape : (None, None, 256), V shape : (None, None, 256)\n",
      "\n",
      "[Splited] Q shape : (None, 8, None, 32), K shape : (None, 8, None, 32), V shape : (None, 8, None, 32)\n",
      "\n",
      "decoder_layer_1 sub-layer 2\n",
      "[Input] Q shape : (None, None, 256), K shape : (None, None, 256), V shape : (None, None, 256)\n",
      "\n",
      "[Dense] Q shape : (None, None, 256), K shape : (None, None, 256), V shape : (None, None, 256)\n",
      "\n",
      "[Splited] Q shape : (None, 8, None, 32), K shape : (None, 8, None, 32), V shape : (None, 8, None, 32)\n",
      "\n",
      "decoder_layer_1 sub-layer 3\n",
      "decoder_layer_2 sub-layer 1\n",
      "[Input] Q shape : (None, None, 256), K shape : (None, None, 256), V shape : (None, None, 256)\n",
      "\n",
      "[Dense] Q shape : (None, None, 256), K shape : (None, None, 256), V shape : (None, None, 256)\n",
      "\n",
      "[Splited] Q shape : (None, 8, None, 32), K shape : (None, 8, None, 32), V shape : (None, 8, None, 32)\n",
      "\n",
      "decoder_layer_2 sub-layer 2\n",
      "[Input] Q shape : (None, None, 256), K shape : (None, None, 256), V shape : (None, None, 256)\n",
      "\n",
      "[Dense] Q shape : (None, None, 256), K shape : (None, None, 256), V shape : (None, None, 256)\n",
      "\n",
      "[Splited] Q shape : (None, 8, None, 32), K shape : (None, 8, None, 32), V shape : (None, 8, None, 32)\n",
      "\n",
      "decoder_layer_2 sub-layer 3\n",
      "decoder_layer_3 sub-layer 1\n",
      "[Input] Q shape : (None, None, 256), K shape : (None, None, 256), V shape : (None, None, 256)\n",
      "\n",
      "[Dense] Q shape : (None, None, 256), K shape : (None, None, 256), V shape : (None, None, 256)\n",
      "\n",
      "[Splited] Q shape : (None, 8, None, 32), K shape : (None, 8, None, 32), V shape : (None, 8, None, 32)\n",
      "\n",
      "decoder_layer_3 sub-layer 2\n",
      "[Input] Q shape : (None, None, 256), K shape : (None, None, 256), V shape : (None, None, 256)\n",
      "\n",
      "[Dense] Q shape : (None, None, 256), K shape : (None, None, 256), V shape : (None, None, 256)\n",
      "\n",
      "[Splited] Q shape : (None, 8, None, 32), K shape : (None, 8, None, 32), V shape : (None, 8, None, 32)\n",
      "\n",
      "decoder_layer_3 sub-layer 3\n",
      "decoder_layer_4 sub-layer 1\n",
      "[Input] Q shape : (None, None, 256), K shape : (None, None, 256), V shape : (None, None, 256)\n",
      "\n",
      "[Dense] Q shape : (None, None, 256), K shape : (None, None, 256), V shape : (None, None, 256)\n",
      "\n",
      "[Splited] Q shape : (None, 8, None, 32), K shape : (None, 8, None, 32), V shape : (None, 8, None, 32)\n",
      "\n",
      "decoder_layer_4 sub-layer 2\n",
      "[Input] Q shape : (None, None, 256), K shape : (None, None, 256), V shape : (None, None, 256)\n",
      "\n",
      "[Dense] Q shape : (None, None, 256), K shape : (None, None, 256), V shape : (None, None, 256)\n",
      "\n",
      "[Splited] Q shape : (None, 8, None, 32), K shape : (None, 8, None, 32), V shape : (None, 8, None, 32)\n",
      "\n",
      "decoder_layer_4 sub-layer 3\n",
      "decoder_layer_5 sub-layer 1\n",
      "[Input] Q shape : (None, None, 256), K shape : (None, None, 256), V shape : (None, None, 256)\n",
      "\n",
      "[Dense] Q shape : (None, None, 256), K shape : (None, None, 256), V shape : (None, None, 256)\n",
      "\n",
      "[Splited] Q shape : (None, 8, None, 32), K shape : (None, 8, None, 32), V shape : (None, 8, None, 32)\n",
      "\n",
      "decoder_layer_5 sub-layer 2\n",
      "[Input] Q shape : (None, None, 256), K shape : (None, None, 256), V shape : (None, None, 256)\n",
      "\n",
      "[Dense] Q shape : (None, None, 256), K shape : (None, None, 256), V shape : (None, None, 256)\n",
      "\n",
      "[Splited] Q shape : (None, 8, None, 32), K shape : (None, 8, None, 32), V shape : (None, 8, None, 32)\n",
      "\n",
      "decoder_layer_5 sub-layer 3\n"
     ]
    }
   ],
   "source": [
    "model = Transformer(\n",
    "    vocab_size=VOCAB_SIZE,\n",
    "    layer_num=LAYER_NUM,\n",
    "    dff=DFF,\n",
    "    d_model=D_MODEL,\n",
    "    num_heads=NUM_HEADS).get_transformer()"
   ]
  },
  {
   "cell_type": "code",
   "execution_count": 23,
   "metadata": {
    "colab": {
     "base_uri": "https://localhost:8080/",
     "height": 422
    },
    "id": "HLDKkcw8AJQr",
    "outputId": "46d9de38-cb19-445a-cbce-b5701789a7d7",
    "scrolled": false
   },
   "outputs": [
    {
     "data": {
      "image/png": "[encoded data removed]",
      "text/plain": [
       "<IPython.core.display.Image object>"
      ]
     },
     "execution_count": 23,
     "metadata": {},
     "output_type": "execute_result"
    }
   ],
   "source": [
    "tf.keras.utils.plot_model(model, to_file='transformer.png', show_shapes=True)"
   ]
  },
  {
   "cell_type": "code",
   "execution_count": 24,
   "metadata": {
    "id": "YCJGdg9j-qOL"
   },
   "outputs": [],
   "source": [
    "model.compile(optimizer=optimizer, loss='categorical_crossentropy', metrics=['accuracy'])"
   ]
  },
  {
   "cell_type": "code",
   "execution_count": 25,
   "metadata": {},
   "outputs": [
    {
     "name": "stdout",
     "output_type": "stream",
     "text": [
      "Model: \"Transformer\"\n",
      "__________________________________________________________________________________________________\n",
      "Layer (type)                    Output Shape         Param #     Connected to                     \n",
      "==================================================================================================\n",
      "encoder_inputs (InputLayer)     [(None, None, 256)]  0                                            \n",
      "__________________________________________________________________________________________________\n",
      "decoder_inputs (InputLayer)     [(None, None, 256)]  0                                            \n",
      "__________________________________________________________________________________________________\n",
      "Encoder (Functional)            (None, 100000, 256)  3162624     encoder_inputs[0][0]             \n",
      "__________________________________________________________________________________________________\n",
      "Decoder (Functional)            (None, 100000, 256)  4744704     decoder_inputs[0][0]             \n",
      "                                                                 Encoder[0][0]                    \n",
      "__________________________________________________________________________________________________\n",
      "Output (Dense)                  (None, 100000, 10000 25700000    Decoder[0][0]                    \n",
      "==================================================================================================\n",
      "Total params: 33,607,328\n",
      "Trainable params: 33,607,328\n",
      "Non-trainable params: 0\n",
      "__________________________________________________________________________________________________\n"
     ]
    }
   ],
   "source": [
    "model.summary()"
   ]
  },
  {
   "cell_type": "markdown",
   "metadata": {
    "id": "4oufUXi8AbHw"
   },
   "source": [
    "### **Load Dataset**  "
   ]
  },
  {
   "cell_type": "code",
   "execution_count": 26,
   "metadata": {},
   "outputs": [],
   "source": [
    "import os\n",
    "\n",
    "BASE_DIR = \"/data/TestDir\"\n",
    "\n",
    "DATA_BASE_DIR = os.path.join(BASE_DIR, 'sample_articles')\n",
    "PREPROCESSED_PATH = os.path.join(DATA_BASE_DIR,\"Preprocessed-Data\")\n",
    "SUMMARY_PREPROCESSED_PATH = os.path.join(DATA_BASE_DIR,\"Summary-Preprocessed-Data\")\n",
    "\n",
    "MODEL_BASE_DIR = os.path.join(BASE_DIR, 'articleSummary-Jupyter')\n",
    "glove_model_path = os.path.join(MODEL_BASE_DIR, 'glove.model')\n",
    "corpus_model_path = os.path.join(MODEL_BASE_DIR, 'corpus.model')"
   ]
  },
  {
   "cell_type": "markdown",
   "metadata": {},
   "source": [
    "임베딩 모델 불러오기"
   ]
  },
  {
   "cell_type": "code",
   "execution_count": 27,
   "metadata": {},
   "outputs": [],
   "source": [
    "from glove import Corpus, Glove\n",
    "\n",
    "glove = Glove.load(glove_model_path)\n",
    "corpus = Corpus.load(corpus_model_path)"
   ]
  },
  {
   "cell_type": "markdown",
   "metadata": {},
   "source": [
    "전처리 된 기사를 통해 토큰화 및 정수 인코딩 수행  \n",
    "\n",
    "```\n",
    "\"국회 정기 국회 마지막 날 정국 전운 감돌 있\"      # 전처리 된 기사\n",
    "\n",
    "[32, 342, 273, 280, 129, 222, 34, 55, 3] # 정수 인코딩 수행한 문장\n",
    "\n",
    "```"
   ]
  },
  {
   "cell_type": "code",
   "execution_count": 28,
   "metadata": {},
   "outputs": [],
   "source": [
    "import re\n",
    "\n",
    "class RawTextReader:\n",
    "    def __init__(self, filepath):\n",
    "        self.filepath = filepath\n",
    "        self.rgxSplitter = re.compile(\"/n\")\n",
    "\n",
    "    def __iter__(self):\n",
    "        for line in open(self.filepath, encoding='utf-8'):\n",
    "            ch = self.rgxSplitter.split(line)\n",
    "            for s in ch:\n",
    "                yield s"
   ]
  },
  {
   "cell_type": "code",
   "execution_count": 44,
   "metadata": {},
   "outputs": [],
   "source": [
    "class IntegerEncoder:\n",
    "    def __init__(self, filepath, corpus):\n",
    "        self.filepath = filepath\n",
    "        self.corpus = corpus\n",
    "    \n",
    "    def get_encoded_vec_matrix(self):\n",
    "        media_list = os.listdir(self.filepath)\n",
    "        \n",
    "        encoded_vec_list = []\n",
    "        for media_name in media_list:\n",
    "    \n",
    "            media_path = os.path.join(self.filepath, media_name)\n",
    "            article_list = os.listdir(media_path)\n",
    "            \n",
    "            for article_name in article_list:\n",
    "                \n",
    "                reader = RawTextReader(os.path.join(media_path, article_name)) \n",
    "                content = list(filter(None, reader))\n",
    "                corpus\n",
    "                vec = np.array([corpus.dictionary[token] for sent in content for token in sent.split() if token in corpus.dictionary])\n",
    "                \n",
    "                encoded_vec_list.append(vec)\n",
    "\n",
    "        return np.array(encoded_vec_list)"
   ]
  },
  {
   "cell_type": "markdown",
   "metadata": {},
   "source": [
    "target data는 train data로부터 추출된 문장이므로, target vocabulary와 train vocabulary는 동일하다.  \n",
    "\n",
    "아래는 PREPROCESSED_PATH 내 텍스트를 이용해 train data 구성하는 내용이다.  \n",
    "\n",
    "\n",
    "```\n",
    "Encoder Input Sequence Number : 기사의 개수 (약 100,000개)\n",
    "Decoder Input Sequence Number : 기사의 요약문 개수 (약 100,000개)\n",
    "\n",
    "D_MODEL : 임베딩 벡터 차원 (256 차원)\n",
    "\n",
    "```"
   ]
  },
  {
   "cell_type": "code",
   "execution_count": 43,
   "metadata": {},
   "outputs": [
    {
     "name": "stderr",
     "output_type": "stream",
     "text": [
      "/usr/local/lib/python3.6/dist-packages/ipykernel_launcher.py:25: VisibleDeprecationWarning: Creating an ndarray from ragged nested sequences (which is a list-or-tuple of lists-or-tuples-or ndarrays with different lengths or shapes) is deprecated. If you meant to do this, you must specify 'dtype=object' when creating the ndarray\n"
     ]
    },
    {
     "data": {
      "text/plain": [
       "(99237,)"
      ]
     },
     "execution_count": 43,
     "metadata": {},
     "output_type": "execute_result"
    }
   ],
   "source": [
    "train_encoder = IntegerEncoder(PREPROCESSED_PATH, corpus)\n",
    "train_encoded_matrix = train_encoder.get_encoded_vec_matrix()\n",
    "train_encoded_matrix.shape"
   ]
  },
  {
   "cell_type": "markdown",
   "metadata": {},
   "source": [
    "SUMMARY_PREPROCESSED_PATH 내 텍스트를 이용해 target data 구성"
   ]
  },
  {
   "cell_type": "code",
   "execution_count": null,
   "metadata": {},
   "outputs": [],
   "source": [
    "target_encoder = IntegerEncoder(SUMMARY_PREPROCESSED_PATH, corpus)\n",
    "target_encoded_matrix = target_encoder.get_encoded_vec_list()"
   ]
  },
  {
   "cell_type": "code",
   "execution_count": null,
   "metadata": {
    "id": "1vPfUMKV-_8E"
   },
   "outputs": [],
   "source": [
    "model.fit(dataset, epochs=EPOCHS)"
   ]
  }
 ],
 "metadata": {
  "accelerator": "GPU",
  "colab": {
   "collapsed_sections": [],
   "name": "Transformer-without-mask-layer.ipynb",
   "provenance": []
  },
  "kernelspec": {
   "display_name": "Python 3",
   "language": "python",
   "name": "python3"
  },
  "language_info": {
   "codemirror_mode": {
    "name": "ipython",
    "version": 3
   },
   "file_extension": ".py",
   "mimetype": "text/x-python",
   "name": "python",
   "nbconvert_exporter": "python",
   "pygments_lexer": "ipython3",
   "version": "3.6.9"
  }
 },
 "nbformat": 4,
 "nbformat_minor": 1
}
