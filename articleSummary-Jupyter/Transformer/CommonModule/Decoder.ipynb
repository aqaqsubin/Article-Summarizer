{
 "cells": [
  {
   "cell_type": "code",
   "execution_count": 1,
   "metadata": {},
   "outputs": [],
   "source": [
    "import os\n",
    "import csv\n",
    "import numpy as np\n",
    "import tensorflow as tf\n",
    "from glob import iglob"
   ]
  },
  {
   "cell_type": "code",
   "execution_count": 2,
   "metadata": {},
   "outputs": [],
   "source": [
    "class Decoder:\n",
    "    def __init__(self, options):\n",
    "        self.model = options['model-type']\n",
    "        self.inv_wv = options['inv_wv']\n",
    "        self.corpus = options['corpus']\n",
    "        \n",
    "        self.inv_glove_dict = {v: k for k, v in self.corpus.dictionary.items()}\n",
    "    \n",
    "    def __glove_decoding(self, idx_list):\n",
    "        return [self.inv_glove_dict[idx] for idx in idx_list \n",
    "                if idx in self.inv_glove_dict]\n",
    "    \n",
    "    def __word2vec_decoding(self, idx_list):\n",
    "        return [self.inv_wv[idx] for idx in idx_list \n",
    "                 if idx in self.inv_wv]\n",
    "    \n",
    "    def decode(self, idx_list=None):\n",
    "        \n",
    "        decoding_vec_list = self.__glove_decoding(idx_list) if self.model is 'GloVe' else self.__word2vec_decoding(idx_list)    \n",
    "        return decoding_vec_list\n",
    "       \n",
    "    \n",
    "class IntegerDecoder:\n",
    "    def __init__(self, options, filepaths=None):\n",
    "        self.filepaths = filepaths\n",
    "        \n",
    "        self.model = options['model-type']\n",
    "        self.inv_wv = options['inv_wv']\n",
    "        self.corpus = options['corpus']\n",
    "        \n",
    "        self.inv_glove_dict = {v: k for k, v in self.corpus.dictionary.items()}\n",
    "    \n",
    "    def __get_token_matrix(self):\n",
    "        token_list =[]\n",
    "        \n",
    "        for path in self.filepaths:\n",
    "            f = open(path, 'r', newline=\"\\n\", encoding=\"utf-8\")\n",
    "            \n",
    "            for [_, title, contents] in csv.reader(f):  \n",
    "                tokens = [token for sent in contents for token in sent.split()]\n",
    "                token_list.append(np.array(tokens))\n",
    "                \n",
    "            f.close()\n",
    "\n",
    "        return token_list\n",
    "    \n",
    "    def __glove_decoding(self, idx_matrix):\n",
    "        return list(map(lambda line: [self.inv_glove_dict[idx] \n",
    "                                      for idx in idx_list if idx in self.inv_glove_dict], idx_matrix))\n",
    "    \n",
    "    def __word2vec_decoding(self, idx_matrix):\n",
    "        return list(map(lambda line: [self.inv_wv[idx] \n",
    "                                      for idx in idx_list if idx in self.inv_wv], idx_matrix))  \n",
    "    \n",
    "    def decode(self, idx_matrix=None):\n",
    "        \n",
    "        idx_matrix = self.__get_token_matrix() if idx_matrix is None else idx_matrix\n",
    "        decoding_vec_list = self.__glove_decoding(idx_matrix) if self.model is 'GloVe' else self.__word2vec_decoding(idx_matrix)    \n",
    "        \n",
    "        return decoding_vec_list   \n",
    "    "
   ]
  },
  {
   "cell_type": "code",
   "execution_count": null,
   "metadata": {},
   "outputs": [],
   "source": []
  }
 ],
 "metadata": {
  "kernelspec": {
   "display_name": "Python 3",
   "language": "python",
   "name": "python3"
  },
  "language_info": {
   "codemirror_mode": {
    "name": "ipython",
    "version": 3
   },
   "file_extension": ".py",
   "mimetype": "text/x-python",
   "name": "python",
   "nbconvert_exporter": "python",
   "pygments_lexer": "ipython3",
   "version": "3.6.9"
  }
 },
 "nbformat": 4,
 "nbformat_minor": 2
}
