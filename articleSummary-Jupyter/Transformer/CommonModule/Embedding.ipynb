{
 "cells": [
  {
   "cell_type": "code",
   "execution_count": null,
   "metadata": {},
   "outputs": [],
   "source": [
    "import csv\n",
    "import os\n",
    "import numpy as np\n",
    "from glob import iglob"
   ]
  },
  {
   "cell_type": "code",
   "execution_count": null,
   "metadata": {},
   "outputs": [],
   "source": [
    "class Embedding:\n",
    "    def __init__(self, filepath, wv=None, corpus=None, model= 'GloVe'):\n",
    "        self.filepath = filepath\n",
    "        self.model = model\n",
    "        self.dictionary = wv if model is 'Word2Vec' else corpus.dictionary\n",
    "    \n",
    "    def get_embedded_list(self):\n",
    "        embedding_vec_list = []\n",
    "        \n",
    "        for idx, proc_path in enumerate(iglob(os.path.join(self.filepath, '**.csv'), recursive=False)):\n",
    "            f = open(proc_path, 'r', newline=\"\\n\", encoding=\"utf-8\")\n",
    "            \n",
    "            for [article_idx, title, contents] in csv.reader(f):  \n",
    "                content = contents.split(\"\\t\")\n",
    "                vec = [self.dictionary[token] \n",
    "                       for sent in content for token in sent.split() if token in self.dictionary]\n",
    "                \n",
    "                embedding_vec_list.append(np.array(vec))\n",
    "\n",
    "        return embedding_vec_list"
   ]
  }
 ],
 "metadata": {
  "kernelspec": {
   "display_name": "Python 3",
   "language": "python",
   "name": "python3"
  },
  "language_info": {
   "codemirror_mode": {
    "name": "ipython",
    "version": 3
   },
   "file_extension": ".py",
   "mimetype": "text/x-python",
   "name": "python",
   "nbconvert_exporter": "python",
   "pygments_lexer": "ipython3",
   "version": "3.6.9"
  }
 },
 "nbformat": 4,
 "nbformat_minor": 2
}
