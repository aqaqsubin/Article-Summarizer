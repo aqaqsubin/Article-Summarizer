{
 "cells": [
  {
   "cell_type": "code",
   "execution_count": null,
   "metadata": {},
   "outputs": [],
   "source": [
    "import csv\n",
    "import os\n",
    "import numpy as np\n",
    "from glob import iglob"
   ]
  },
  {
   "cell_type": "code",
   "execution_count": 3,
   "metadata": {},
   "outputs": [],
   "source": [
    "class Embedding:\n",
    "    def __init__(self, filepath, wv=None, corpus=None, glove=None, model= 'GloVe'):\n",
    "        self.filepath = filepath\n",
    "        self.model = model\n",
    "        self.word2vec_wv = lambda x : wv[x]\n",
    "        self.glove_dict = corpus.dictionary\n",
    "        self.glove_wv= lambda x : glove.word_vectors[corpus.dictionary[x]]\n",
    "        \n",
    "    def __word2vec_embedding(self):\n",
    "        embedding_vec_list = []\n",
    "        \n",
    "        for _, proc_path in enumerate(iglob(os.path.join(self.filepath, '**.csv'), recursive=False)):\n",
    "            f = open(proc_path, 'r', newline=\"\\n\", encoding=\"utf-8\")\n",
    "            \n",
    "            for [article_idx, title, contents] in csv.reader(f):  \n",
    "                content = contents.split(\"\\t\")\n",
    "                \n",
    "                vec = [self.word2vec_wv(token) \n",
    "                       for sent in content for token in sent.split() if token in self.word2vec_wv]\n",
    "                embedding_vec_list.append(np.array(vec))\n",
    "                \n",
    "            f.close()\n",
    "\n",
    "        return embedding_vec_list\n",
    "    \n",
    "    def __glove_embedding(self):\n",
    "        embedding_vec_list = []\n",
    "        \n",
    "        for _, proc_path in enumerate(iglob(os.path.join(self.filepath, '**.csv'), recursive=False)):\n",
    "            f = open(proc_path, 'r', newline=\"\\n\", encoding=\"utf-8\")\n",
    "            \n",
    "            for [article_idx, title, contents] in csv.reader(f):  \n",
    "                content = contents.split(\"\\t\")\n",
    "                \n",
    "                vec = [self.glove_wv(token) \n",
    "                       for sent in content for token in sent.split() if token in self.glove_dict]\n",
    "                embedding_vec_list.append(np.array(vec))\n",
    "                \n",
    "            f.close()\n",
    "                \n",
    "        return embedding_vec_list   \n",
    "    \n",
    "    \n",
    "    def get_embedded_list(self):\n",
    "\n",
    "        embedding_vec_list = self.__glove_embedding() if self.model is 'GloVe' else self.__word2vec_embedding()\n",
    "        return embedding_vec_list\n",
    "    \n",
    "\n",
    "    \n"
   ]
  },
  {
   "cell_type": "code",
   "execution_count": null,
   "metadata": {},
   "outputs": [],
   "source": []
  }
 ],
 "metadata": {
  "kernelspec": {
   "display_name": "Python 3",
   "language": "python",
   "name": "python3"
  },
  "language_info": {
   "codemirror_mode": {
    "name": "ipython",
    "version": 3
   },
   "file_extension": ".py",
   "mimetype": "text/x-python",
   "name": "python",
   "nbconvert_exporter": "python",
   "pygments_lexer": "ipython3",
   "version": "3.6.9"
  }
 },
 "nbformat": 4,
 "nbformat_minor": 2
}
