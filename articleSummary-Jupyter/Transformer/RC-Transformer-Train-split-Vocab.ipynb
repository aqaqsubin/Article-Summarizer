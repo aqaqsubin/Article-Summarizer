{
 "cells": [
  {
   "cell_type": "code",
   "execution_count": 1,
   "metadata": {
    "id": "I9_qYGCjav47"
   },
   "outputs": [
    {
     "name": "stdout",
     "output_type": "stream",
     "text": [
      "importing Jupyter notebook from RC_Transformer_split_vocab.ipynb\n",
      "importing Jupyter notebook from RC_Transformer.ipynb\n",
      "importing Jupyter notebook from /data/ksb/TestSampleDir/articleSummary-Jupyter/Transformer/CommonModule/Handle_Dir.ipynb\n",
      "importing Jupyter notebook from /data/ksb/TestSampleDir/articleSummary-Jupyter/Transformer/CommonModule/Encoder.ipynb\n"
     ]
    }
   ],
   "source": [
    "import import_ipynb\n",
    "from RC_Transformer_split_vocab import transformer\n",
    "from RC_Transformer import CustomSchedule\n",
    "from CommonModule.Handle_Dir import mkdir_p, del_folder\n",
    "from CommonModule.Encoder import IntegerEncoder\n",
    "\n",
    "import re\n",
    "import os\n",
    "import numpy as np\n",
    "from pathlib import Path\n",
    "from glob import iglob\n",
    "import tensorflow as tf\n",
    "import sentencepiece as spm\n",
    "import csv"
   ]
  },
  {
   "cell_type": "code",
   "execution_count": 2,
   "metadata": {},
   "outputs": [],
   "source": [
    "gpus = tf.config.experimental.list_physical_devices('GPU')\n",
    "if gpus:\n",
    "    try:\n",
    "        tf.config.experimental.set_visible_devices(gpus[1], 'GPU')\n",
    "    except RuntimeError as e:\n",
    "        print(e)"
   ]
  },
  {
   "cell_type": "code",
   "execution_count": 3,
   "metadata": {
    "id": "gaHSYvW2a0qq"
   },
   "outputs": [],
   "source": [
    "BASE_DIR = \"/data/ksb\"\n",
    "DATA_BASE_DIR = os.path.join(BASE_DIR, 'articles')\n",
    "SRC_BASE_DIR = os.path.join(BASE_DIR, 'TestSampleDir')\n",
    "\n",
    "PREPROCESSED_PATH = os.path.join(DATA_BASE_DIR,\"Preprocessed-Data\")\n",
    "\n",
    "SUMMARY_PREPROCESSED_PATH = os.path.join(DATA_BASE_DIR,\"Summary-Preprocessed-Data\")\n",
    "\n",
    "WORD_ENCODING_DIR = os.path.join(os.path.join(SRC_BASE_DIR, 'articleSummary-Jupyter'), 'Word-Encoding-Model')\n",
    "MODEL_DIR = os.path.join(os.path.join(SRC_BASE_DIR, 'articleSummary-Jupyter'), 'Transformer-Model')\n"
   ]
  },
  {
   "cell_type": "code",
   "execution_count": 4,
   "metadata": {
    "id": "IdfXolhfa0ud"
   },
   "outputs": [],
   "source": [
    "D_MODEL = 128"
   ]
  },
  {
   "cell_type": "code",
   "execution_count": 5,
   "metadata": {
    "colab": {
     "base_uri": "https://localhost:8080/"
    },
    "id": "0FEh5B1Ua0ys",
    "outputId": "fa4bbfa9-5ef0-456a-8bc8-6e91f13b0952"
   },
   "outputs": [
    {
     "data": {
      "text/plain": [
       "True"
      ]
     },
     "execution_count": 5,
     "metadata": {},
     "output_type": "execute_result"
    }
   ],
   "source": [
    "sp_src = spm.SentencePieceProcessor()\n",
    "model_num = len(list(iglob(os.path.join(WORD_ENCODING_DIR, 'spm-input-*.vocab'), recursive=False))) -1\n",
    "sp_src.Load(os.path.join(WORD_ENCODING_DIR, 'spm-input-{}.model').format(model_num))\n"
   ]
  },
  {
   "cell_type": "code",
   "execution_count": 6,
   "metadata": {},
   "outputs": [
    {
     "data": {
      "text/plain": [
       "True"
      ]
     },
     "execution_count": 6,
     "metadata": {},
     "output_type": "execute_result"
    }
   ],
   "source": [
    "sp_tar = spm.SentencePieceProcessor()\n",
    "model_num = len(list(iglob(os.path.join(WORD_ENCODING_DIR, 'spm-summary-*.vocab'), recursive=False))) -1\n",
    "sp_tar.Load(os.path.join(WORD_ENCODING_DIR, 'spm-summary-{}.model').format(model_num))\n"
   ]
  },
  {
   "cell_type": "code",
   "execution_count": 7,
   "metadata": {
    "id": "5PziRMisa00c"
   },
   "outputs": [],
   "source": [
    "VOCAB_SIZE = 70000"
   ]
  },
  {
   "cell_type": "code",
   "execution_count": null,
   "metadata": {
    "id": "-reZP-XGa02O"
   },
   "outputs": [],
   "source": [
    "options = {\n",
    "    'model-type' : 'Sentence-Piece',\n",
    "    'inv_wv' : None,\n",
    "    'corpus' : None,\n",
    "    'spm' : sp_src\n",
    "}\n",
    "input_encoded_list = IntegerEncoder(options=options, filepaths=list(iglob(os.path.join(PREPROCESSED_PATH, '**.csv'), recursive=False))).encoder()"
   ]
  },
  {
   "cell_type": "code",
   "execution_count": null,
   "metadata": {
    "id": "-reZP-XGa02O"
   },
   "outputs": [],
   "source": [
    "options = {\n",
    "    'model-type' : 'Sentence-Piece',\n",
    "    'inv_wv' : None,\n",
    "    'corpus' : None,\n",
    "    'spm' : sp_tar\n",
    "}\n",
    "output_encoded_list = IntegerEncoder(options=options, filepaths=list(iglob(os.path.join(SUMMARY_PREPROCESSED_PATH, '**.csv'), recursive=False))).encoder()"
   ]
  },
  {
   "cell_type": "code",
   "execution_count": null,
   "metadata": {
    "id": "4BbwAz_da04P"
   },
   "outputs": [],
   "source": [
    "LAYER_NUM = 6\n",
    "NUM_HEADS = 8\n",
    "DFF = 512\n",
    "\n",
    "BATCH_SIZE = 64\n",
    "BUFFER_SIZE = 5000\n",
    "\n",
    "WARMUP_STEPS = 50\n",
    "EPOCHS = 30"
   ]
  },
  {
   "cell_type": "code",
   "execution_count": null,
   "metadata": {},
   "outputs": [],
   "source": [
    "START_TOKEN = [sp_src.bos_id()]\n",
    "END_TOKEN = [sp_src.eos_id()]"
   ]
  },
  {
   "cell_type": "code",
   "execution_count": null,
   "metadata": {
    "colab": {
     "base_uri": "https://localhost:8080/"
    },
    "id": "QGsTrqfca7vH",
    "outputId": "5ff0e8ca-cc01-4df9-fba9-e351376a063d"
   },
   "outputs": [],
   "source": [
    "get_max_length = lambda x : np.max([len(line) for line in x])\n",
    "\n",
    "MAX_LEN = get_max_length(input_encoded_list)\n",
    "MAX_LEN"
   ]
  },
  {
   "cell_type": "code",
   "execution_count": null,
   "metadata": {},
   "outputs": [],
   "source": [
    "input_encoded_list = list(map(lambda list_ : START_TOKEN + list_ + END_TOKEN, input_encoded_list))\n",
    "output_encoded_list = list(map(lambda list_ : START_TOKEN + list_ + END_TOKEN, output_encoded_list))"
   ]
  },
  {
   "cell_type": "code",
   "execution_count": null,
   "metadata": {},
   "outputs": [],
   "source": [
    "MAX_LEN += 2"
   ]
  },
  {
   "cell_type": "code",
   "execution_count": null,
   "metadata": {
    "id": "xknyLdoqa7xn"
   },
   "outputs": [],
   "source": [
    "# Padding\n",
    "input_encoded_matrix = tf.keras.preprocessing.sequence.pad_sequences(\n",
    "    input_encoded_list, maxlen=MAX_LEN, padding='post')\n",
    "summary_encoded_matrix = tf.keras.preprocessing.sequence.pad_sequences(\n",
    "    output_encoded_list, maxlen=MAX_LEN, padding='post')"
   ]
  },
  {
   "cell_type": "code",
   "execution_count": null,
   "metadata": {
    "colab": {
     "base_uri": "https://localhost:8080/"
    },
    "id": "3Uz60H9Xa7zh",
    "outputId": "94f586f1-1e32-401b-ab5a-91871c02014e"
   },
   "outputs": [],
   "source": [
    "print('Contents Shape : {}'.format(input_encoded_matrix.shape))\n",
    "print('Summaries Shape : {}'.format(summary_encoded_matrix.shape))"
   ]
  },
  {
   "cell_type": "code",
   "execution_count": null,
   "metadata": {
    "id": "KyZb5RcIa71h"
   },
   "outputs": [],
   "source": [
    "dataset = tf.data.Dataset.from_tensor_slices((\n",
    "    {\n",
    "        'inputs': input_encoded_matrix, # Encoder Input\n",
    "        'dec_inputs': summary_encoded_matrix[:, :] # Decoder Input\n",
    "    },\n",
    "    {\n",
    "        # Decoder Output, Remove <SOS>\n",
    "        'outputs': summary_encoded_matrix[:, :]  \n",
    "    },\n",
    "))"
   ]
  },
  {
   "cell_type": "code",
   "execution_count": null,
   "metadata": {
    "id": "PDUbZ_hCa73Z"
   },
   "outputs": [],
   "source": [
    "dataset = dataset.cache()\n",
    "dataset = dataset.shuffle(BUFFER_SIZE)\n",
    "dataset = dataset.batch(BATCH_SIZE)\n",
    "dataset = dataset.prefetch(tf.data.experimental.AUTOTUNE)"
   ]
  },
  {
   "cell_type": "code",
   "execution_count": null,
   "metadata": {
    "id": "3TQ9HhRHbAUE"
   },
   "outputs": [],
   "source": [
    "lrate_scheduler = CustomSchedule(d_model=D_MODEL)"
   ]
  },
  {
   "cell_type": "code",
   "execution_count": null,
   "metadata": {
    "id": "pwGjlRRAbAYV"
   },
   "outputs": [],
   "source": [
    "beta_1 = 0.9  \n",
    "beta_2 = 0.98\n",
    "epsilon = 10 ** -9\n",
    "\n",
    "optimizer = tf.keras.optimizers.Adam(lrate_scheduler, beta_1=0.9, beta_2=0.98, epsilon=1e-9)"
   ]
  },
  {
   "cell_type": "code",
   "execution_count": null,
   "metadata": {
    "colab": {
     "base_uri": "https://localhost:8080/"
    },
    "id": "oI-wMmhkbAa4",
    "outputId": "78cb59ef-be68-47dc-9cb8-f260136f8a5b"
   },
   "outputs": [],
   "source": [
    "model = transformer(\n",
    "    vocab_size=VOCAB_SIZE,\n",
    "    num_layers=LAYER_NUM,\n",
    "    dff=DFF,\n",
    "    d_model=D_MODEL,\n",
    "    num_heads=NUM_HEADS,\n",
    "    dropout = 0.3)"
   ]
  },
  {
   "cell_type": "code",
   "execution_count": null,
   "metadata": {
    "id": "kw2DbMUNbAd7"
   },
   "outputs": [],
   "source": [
    "def loss_function(y_true, y_pred):\n",
    "    y_true = tf.reshape(y_true, shape=(-1, MAX_LEN))\n",
    "\n",
    "    loss = tf.keras.losses.SparseCategoricalCrossentropy(\n",
    "      from_logits=True, reduction='none')(y_true, y_pred)\n",
    "\n",
    "    mask = tf.cast(tf.not_equal(y_true, 0), tf.float32)\n",
    "    loss = tf.multiply(loss, mask)\n",
    "\n",
    "    return tf.reduce_mean(loss)"
   ]
  },
  {
   "cell_type": "code",
   "execution_count": null,
   "metadata": {
    "id": "y_NN8VXSeRTi"
   },
   "outputs": [],
   "source": [
    "checkpoint_dirpath = os.path.join(MODEL_DIR, \"RC_Transformer\")\n",
    "\n",
    "mkdir_p(checkpoint_dirpath)\n",
    "model_checkpoint_callback = tf.keras.callbacks.ModelCheckpoint(\n",
    "    filepath=checkpoint_dirpath,\n",
    "    save_weights_only=True,\n",
    "    monitor='loss',\n",
    "    mode='max',\n",
    "    save_best_only=True)"
   ]
  },
  {
   "cell_type": "code",
   "execution_count": null,
   "metadata": {
    "colab": {
     "base_uri": "https://localhost:8080/"
    },
    "id": "Wqg_m9NLbH2_",
    "outputId": "108d397d-ac84-411d-c905-f8beb794b331"
   },
   "outputs": [],
   "source": [
    "from tensorflow.keras.losses import sparse_categorical_crossentropy\n",
    "\n",
    "model.compile(optimizer=optimizer, loss=loss_function)\n",
    "model.summary()"
   ]
  },
  {
   "cell_type": "code",
   "execution_count": null,
   "metadata": {
    "colab": {
     "base_uri": "https://localhost:8080/"
    },
    "id": "QAYKWocIbH5J",
    "outputId": "61a312ae-46fa-4fa0-d325-3ac3ae4debdb"
   },
   "outputs": [],
   "source": [
    "with tf.device('/GPU:1'):\n",
    "    model.fit(dataset, batch_size=BATCH_SIZE, epochs=15, verbose=2, shuffle=True, callbacks=[model_checkpoint_callback])"
   ]
  }
 ],
 "metadata": {
  "accelerator": "GPU",
  "colab": {
   "collapsed_sections": [],
   "name": "RC_Transformer_Train.ipynb",
   "provenance": []
  },
  "kernelspec": {
   "display_name": "Python 3",
   "language": "python",
   "name": "python3"
  },
  "language_info": {
   "codemirror_mode": {
    "name": "ipython",
    "version": 3
   },
   "file_extension": ".py",
   "mimetype": "text/x-python",
   "name": "python",
   "nbconvert_exporter": "python",
   "pygments_lexer": "ipython3",
   "version": "3.6.9"
  }
 },
 "nbformat": 4,
 "nbformat_minor": 1
}
