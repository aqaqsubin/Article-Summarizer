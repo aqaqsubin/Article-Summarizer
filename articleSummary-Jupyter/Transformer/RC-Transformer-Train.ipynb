{
 "cells": [
  {
   "cell_type": "code",
   "execution_count": 115,
   "metadata": {
    "id": "I9_qYGCjav47"
   },
   "outputs": [],
   "source": [
    "import import_ipynb\n",
    "import RC_Transformer\n",
    "from CommonModule.Handle_Dir import mkdir_p, del_folder\n",
    "from CommonModule.Embedding import DocumentEmbedding\n",
    "from CommonModule.Encoder import IntegerEncoder\n",
    "\n",
    "\n",
    "import re\n",
    "import os\n",
    "import numpy as np\n",
    "from pathlib import Path\n",
    "from glob import iglob\n",
    "import tensorflow as tf\n",
    "import sentencepiece as spm\n",
    "import csv"
   ]
  },
  {
   "cell_type": "code",
   "execution_count": 116,
   "metadata": {
    "id": "gaHSYvW2a0qq"
   },
   "outputs": [],
   "source": [
    "BASE_DIR = \"/docker/data/ksb/TestSampleDir\"\n",
    "DATA_BASE_DIR = os.path.join(BASE_DIR, 'articles')\n",
    "\n",
    "PREPROCESSED_PATH = os.path.join(DATA_BASE_DIR,\"Preprocessed-Data\")\n",
    "\n",
    "SUMMARY_PREPROCESSED_PATH = os.path.join(DATA_BASE_DIR,\"Summary-Preprocessed-Data\")\n",
    "\n",
    "WORD_EMBEDDING_DIR = os.path.join(os.path.join(BASE_DIR, 'articleSummary-Jupyter'), 'Word-Embedding-Model')\n",
    "MODEL_DIR = os.path.join(os.path.join(BASE_DIR, 'articleSummary-Jupyter'), 'Transformer-Model')"
   ]
  },
  {
   "cell_type": "code",
   "execution_count": 136,
   "metadata": {
    "id": "IdfXolhfa0ud"
   },
   "outputs": [],
   "source": [
    "D_MODEL = 128"
   ]
  },
  {
   "cell_type": "code",
   "execution_count": 137,
   "metadata": {
    "colab": {
     "base_uri": "https://localhost:8080/"
    },
    "id": "0FEh5B1Ua0ys",
    "outputId": "fa4bbfa9-5ef0-456a-8bc8-6e91f13b0952"
   },
   "outputs": [
    {
     "data": {
      "text/plain": [
       "True"
      ]
     },
     "execution_count": 137,
     "metadata": {
      "tags": []
     },
     "output_type": "execute_result"
    }
   ],
   "source": [
    "sp = spm.SentencePieceProcessor()\n",
    "model_num = len(list(iglob('**.vocab', recursive=False))) -1\n",
    "sp.Load('spm-{}.model'.format(model_num))"
   ]
  },
  {
   "cell_type": "code",
   "execution_count": 138,
   "metadata": {
    "id": "5PziRMisa00c"
   },
   "outputs": [],
   "source": [
    "VOCAB_SIZE = 70000"
   ]
  },
  {
   "cell_type": "code",
   "execution_count": 139,
   "metadata": {
    "id": "-reZP-XGa02O"
   },
   "outputs": [],
   "source": [
    "options = {\n",
    "    'model-type' : 'Sentence-Piece',\n",
    "    'inv_wv' : None,\n",
    "    'corpus' : None,\n",
    "    'spm' : sp\n",
    "}\n",
    "input_encoded_list = IntegerEncoder(options=options, filepaths=list(iglob(os.path.join(PREPROCESSED_PATH, '**.csv'), recursive=False))).encoder()\n",
    "output_encoded_list = IntegerEncoder(options=options, filepaths=list(iglob(os.path.join(SUMMARY_PREPROCESSED_PATH, '**.csv'), recursive=False))).encoder()\n"
   ]
  },
  {
   "cell_type": "code",
   "execution_count": 140,
   "metadata": {
    "id": "4BbwAz_da04P"
   },
   "outputs": [],
   "source": [
    "LAYER_NUM = 6\n",
    "NUM_HEADS = 8\n",
    "DFF = 512\n",
    "\n",
    "BATCH_SIZE = 64\n",
    "BUFFER_SIZE = 5000\n",
    "\n",
    "WARMUP_STEPS = 50\n",
    "EPOCHS = 30"
   ]
  },
  {
   "cell_type": "code",
   "execution_count": 141,
   "metadata": {
    "colab": {
     "base_uri": "https://localhost:8080/"
    },
    "id": "QGsTrqfca7vH",
    "outputId": "5ff0e8ca-cc01-4df9-fba9-e351376a063d"
   },
   "outputs": [
    {
     "data": {
      "text/plain": [
       "250"
      ]
     },
     "execution_count": 141,
     "metadata": {
      "tags": []
     },
     "output_type": "execute_result"
    }
   ],
   "source": [
    "get_max_length = lambda x : np.max([len(line) for line in x])\n",
    "\n",
    "MAX_LEN = get_max_length(input_encoded_list)\n",
    "MAX_LEN"
   ]
  },
  {
   "cell_type": "code",
   "execution_count": 142,
   "metadata": {
    "id": "xknyLdoqa7xn"
   },
   "outputs": [],
   "source": [
    "# Padding\n",
    "input_encoded_matrix = tf.keras.preprocessing.sequence.pad_sequences(\n",
    "    input_encoded_list, maxlen=MAX_LEN, padding='post')\n",
    "summary_encoded_matrix = tf.keras.preprocessing.sequence.pad_sequences(\n",
    "    output_encoded_list, maxlen=MAX_LEN, padding='post')"
   ]
  },
  {
   "cell_type": "code",
   "execution_count": 143,
   "metadata": {
    "colab": {
     "base_uri": "https://localhost:8080/"
    },
    "id": "3Uz60H9Xa7zh",
    "outputId": "94f586f1-1e32-401b-ab5a-91871c02014e"
   },
   "outputs": [
    {
     "name": "stdout",
     "output_type": "stream",
     "text": [
      "Contents Shape : (57632, 250)\n",
      "Summaries Shape : (57632, 250)\n"
     ]
    }
   ],
   "source": [
    "print('Contents Shape : {}'.format(input_encoded_matrix.shape))\n",
    "print('Summaries Shape : {}'.format(summary_encoded_matrix.shape))"
   ]
  },
  {
   "cell_type": "code",
   "execution_count": 144,
   "metadata": {
    "id": "KyZb5RcIa71h"
   },
   "outputs": [],
   "source": [
    "dataset = tf.data.Dataset.from_tensor_slices((\n",
    "    {\n",
    "        'inputs': input_encoded_matrix, # Encoder Input\n",
    "        'dec_inputs': summary_encoded_matrix[:, :] # Decoder Input\n",
    "    },\n",
    "    {\n",
    "        # Decoder Output, Remove <SOS>\n",
    "        'outputs': summary_encoded_matrix[:, :]  \n",
    "    },\n",
    "))"
   ]
  },
  {
   "cell_type": "code",
   "execution_count": 145,
   "metadata": {
    "id": "PDUbZ_hCa73Z"
   },
   "outputs": [],
   "source": [
    "dataset = dataset.cache()\n",
    "dataset = dataset.shuffle(BUFFER_SIZE)\n",
    "dataset = dataset.batch(BATCH_SIZE)\n",
    "dataset = dataset.prefetch(tf.data.experimental.AUTOTUNE)"
   ]
  },
  {
   "cell_type": "code",
   "execution_count": 146,
   "metadata": {
    "id": "3TQ9HhRHbAUE"
   },
   "outputs": [],
   "source": [
    "lrate_scheduler = CustomSchedule(d_model=D_MODEL)"
   ]
  },
  {
   "cell_type": "code",
   "execution_count": 147,
   "metadata": {
    "id": "pwGjlRRAbAYV"
   },
   "outputs": [],
   "source": [
    "beta_1 = 0.9  \n",
    "beta_2 = 0.98\n",
    "epsilon = 10 ** -9\n",
    "\n",
    "optimizer = tf.keras.optimizers.Adam(lrate_scheduler, beta_1=0.9, beta_2=0.98, epsilon=1e-9)"
   ]
  },
  {
   "cell_type": "code",
   "execution_count": 148,
   "metadata": {
    "colab": {
     "base_uri": "https://localhost:8080/"
    },
    "id": "oI-wMmhkbAa4",
    "outputId": "78cb59ef-be68-47dc-9cb8-f260136f8a5b"
   },
   "outputs": [
    {
     "name": "stdout",
     "output_type": "stream",
     "text": [
      "(None, None, 128)\n",
      "(None, None, 128)\n"
     ]
    }
   ],
   "source": [
    "model = transformer(\n",
    "    vocab_size=VOCAB_SIZE,\n",
    "    num_layers=LAYER_NUM,\n",
    "    dff=DFF,\n",
    "    d_model=D_MODEL,\n",
    "    num_heads=NUM_HEADS,\n",
    "    dropout = 0.3)"
   ]
  },
  {
   "cell_type": "code",
   "execution_count": 149,
   "metadata": {
    "id": "kw2DbMUNbAd7"
   },
   "outputs": [],
   "source": [
    "def loss_function(y_true, y_pred):\n",
    "    y_true = tf.reshape(y_true, shape=(-1, MAX_LEN))\n",
    "\n",
    "    loss = tf.keras.losses.SparseCategoricalCrossentropy(\n",
    "      from_logits=True, reduction='none')(y_true, y_pred)\n",
    "\n",
    "    mask = tf.cast(tf.not_equal(y_true, 0), tf.float32)\n",
    "    loss = tf.multiply(loss, mask)\n",
    "\n",
    "    return tf.reduce_mean(loss)"
   ]
  },
  {
   "cell_type": "code",
   "execution_count": 2,
   "metadata": {
    "id": "y_NN8VXSeRTi"
   },
   "outputs": [],
   "source": [
    "checkpoint_dirpath = os.path.join(MODEL_DIR, \"RC_Transformer\")\n",
    "checkpoint_dirpath = \"RC_Transformer\"\n",
    "\n",
    "mkdir_p(checkpoint_dirpath)\n",
    "model_checkpoint_callback = tf.keras.callbacks.ModelCheckpoint(\n",
    "    filepath=checkpoint_dirpath,\n",
    "    save_weights_only=True,\n",
    "    monitor='loss',\n",
    "    mode='max',\n",
    "    save_best_only=True)"
   ]
  },
  {
   "cell_type": "code",
   "execution_count": 155,
   "metadata": {
    "colab": {
     "base_uri": "https://localhost:8080/"
    },
    "id": "Wqg_m9NLbH2_",
    "outputId": "108d397d-ac84-411d-c905-f8beb794b331"
   },
   "outputs": [
    {
     "name": "stdout",
     "output_type": "stream",
     "text": [
      "Model: \"transformer\"\n",
      "__________________________________________________________________________________________________\n",
      "Layer (type)                    Output Shape         Param #     Connected to                     \n",
      "==================================================================================================\n",
      "inputs (InputLayer)             [(None, None)]       0                                            \n",
      "__________________________________________________________________________________________________\n",
      "embedding_33 (Embedding)        (None, None, 128)    8960000     inputs[0][0]                     \n",
      "__________________________________________________________________________________________________\n",
      "tf.math.multiply_46 (TFOpLambda (None, None, 128)    0           embedding_33[0][0]               \n",
      "__________________________________________________________________________________________________\n",
      "positional_encoding_33 (Positio (None, None, 128)    0           tf.math.multiply_46[0][0]        \n",
      "__________________________________________________________________________________________________\n",
      "dropout_301 (Dropout)           (None, None, 128)    0           positional_encoding_33[0][0]     \n",
      "__________________________________________________________________________________________________\n",
      "sequential_64 (Sequential)      (None, None, 128)    231040      dropout_301[0][0]                \n",
      "__________________________________________________________________________________________________\n",
      "sequential_60 (Sequential)      (None, None, 128)    17024       sequential_64[0][0]              \n",
      "__________________________________________________________________________________________________\n",
      "sequential_61 (Sequential)      (None, None, 128)    66816       sequential_64[0][0]              \n",
      "__________________________________________________________________________________________________\n",
      "sequential_62 (Sequential)      (None, None, 128)    116608      sequential_64[0][0]              \n",
      "__________________________________________________________________________________________________\n",
      "tf.concat_16 (TFOpLambda)       (None, None, 384)    0           sequential_60[0][0]              \n",
      "                                                                 sequential_61[0][0]              \n",
      "                                                                 sequential_62[0][0]              \n",
      "__________________________________________________________________________________________________\n",
      "dec_inputs (InputLayer)         [(None, None)]       0                                            \n",
      "__________________________________________________________________________________________________\n",
      "enc_padding_mask (Lambda)       (None, 1, 1, None)   0           inputs[0][0]                     \n",
      "__________________________________________________________________________________________________\n",
      "sequential_63 (Sequential)      (None, None, 128)    49280       tf.concat_16[0][0]               \n",
      "__________________________________________________________________________________________________\n",
      "encoder (Functional)            (None, None, 128)    10149632    inputs[0][0]                     \n",
      "                                                                 enc_padding_mask[0][0]           \n",
      "__________________________________________________________________________________________________\n",
      "tf.math.multiply_47 (TFOpLambda (None, None, 128)    0           sequential_64[0][0]              \n",
      "                                                                 sequential_63[0][0]              \n",
      "__________________________________________________________________________________________________\n",
      "look_ahead_mask (Lambda)        (None, 1, None, None 0           dec_inputs[0][0]                 \n",
      "__________________________________________________________________________________________________\n",
      "dec_padding_mask (Lambda)       (None, 1, 1, None)   0           inputs[0][0]                     \n",
      "__________________________________________________________________________________________________\n",
      "decoder (Functional)            (None, None, 128)    10646656    dec_inputs[0][0]                 \n",
      "                                                                 encoder[0][0]                    \n",
      "                                                                 tf.math.multiply_47[0][0]        \n",
      "                                                                 look_ahead_mask[0][0]            \n",
      "                                                                 dec_padding_mask[0][0]           \n",
      "__________________________________________________________________________________________________\n",
      "outputs (Dense)                 (None, None, 70000)  9030000     decoder[0][0]                    \n",
      "==================================================================================================\n",
      "Total params: 39,267,056\n",
      "Trainable params: 39,265,520\n",
      "Non-trainable params: 1,536\n",
      "__________________________________________________________________________________________________\n"
     ]
    }
   ],
   "source": [
    "from tensorflow.keras.losses import sparse_categorical_crossentropy\n",
    "\n",
    "model.compile(optimizer=optimizer, loss=loss_function)\n",
    "model.summary()"
   ]
  },
  {
   "cell_type": "code",
   "execution_count": null,
   "metadata": {
    "colab": {
     "base_uri": "https://localhost:8080/"
    },
    "id": "QAYKWocIbH5J",
    "outputId": "61a312ae-46fa-4fa0-d325-3ac3ae4debdb"
   },
   "outputs": [
    {
     "name": "stdout",
     "output_type": "stream",
     "text": [
      "Epoch 1/10\n",
      "901/901 - 1163s - loss: 1.0460\n",
      "WARNING:tensorflow:Can save best model only with <function loss_function at 0x7ff4efa5b840> available, skipping.\n",
      "Epoch 2/10\n",
      "901/901 - 1152s - loss: 0.7337\n",
      "WARNING:tensorflow:Can save best model only with <function loss_function at 0x7ff4efa5b840> available, skipping.\n",
      "Epoch 3/10\n",
      "901/901 - 1151s - loss: 0.3987\n",
      "WARNING:tensorflow:Can save best model only with <function loss_function at 0x7ff4efa5b840> available, skipping.\n",
      "Epoch 4/10\n",
      "901/901 - 1151s - loss: 0.1873\n",
      "WARNING:tensorflow:Can save best model only with <function loss_function at 0x7ff4efa5b840> available, skipping.\n",
      "Epoch 5/10\n",
      "901/901 - 1151s - loss: 0.1012\n",
      "WARNING:tensorflow:Can save best model only with <function loss_function at 0x7ff4efa5b840> available, skipping.\n",
      "Epoch 6/10\n",
      "901/901 - 1151s - loss: 0.0750\n",
      "WARNING:tensorflow:Can save best model only with <function loss_function at 0x7ff4efa5b840> available, skipping.\n",
      "Epoch 7/10\n",
      "901/901 - 1150s - loss: 0.0683\n",
      "WARNING:tensorflow:Can save best model only with <function loss_function at 0x7ff4efa5b840> available, skipping.\n",
      "Epoch 8/10\n",
      "901/901 - 1150s - loss: 0.0655\n",
      "WARNING:tensorflow:Can save best model only with <function loss_function at 0x7ff4efa5b840> available, skipping.\n",
      "Epoch 9/10\n",
      "901/901 - 1151s - loss: 0.0632\n",
      "WARNING:tensorflow:Can save best model only with <function loss_function at 0x7ff4efa5b840> available, skipping.\n",
      "Epoch 10/10\n"
     ]
    }
   ],
   "source": [
    "model.fit(dataset, batch_size=BATCH_SIZE, epochs=15, verbose=2, shuffle=True, callbacks=[model_checkpoint_callback])"
   ]
  },
  {
   "cell_type": "code",
   "execution_count": null,
   "metadata": {
    "id": "_dStsEsEfweD"
   },
   "outputs": [],
   "source": []
  }
 ],
 "metadata": {
  "accelerator": "GPU",
  "colab": {
   "collapsed_sections": [],
   "name": "RC_Transformer_Train.ipynb",
   "provenance": []
  },
  "kernelspec": {
   "display_name": "Python 3",
   "language": "python",
   "name": "python3"
  },
  "language_info": {
   "codemirror_mode": {
    "name": "ipython",
    "version": 3
   },
   "file_extension": ".py",
   "mimetype": "text/x-python",
   "name": "python",
   "nbconvert_exporter": "python",
   "pygments_lexer": "ipython3",
   "version": "3.7.6"
  }
 },
 "nbformat": 4,
 "nbformat_minor": 1
}
