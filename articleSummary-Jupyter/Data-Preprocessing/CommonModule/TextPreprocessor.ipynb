{
 "cells": [
  {
   "cell_type": "code",
   "execution_count": null,
   "metadata": {},
   "outputs": [],
   "source": [
    "import re\n",
    "from konlpy.tag import Komoran\n",
    "from nltk.tokenize import RegexpTokenizer"
   ]
  },
  {
   "cell_type": "code",
   "execution_count": 55,
   "metadata": {},
   "outputs": [],
   "source": [
    "class TextPreprocessor:\n",
    "    def __init__(self):\n",
    "        self.retokenize = RegexpTokenizer(\"[\\w]+\")\n",
    "        self.swords = []\n",
    "        self.tokenizer = {}\n",
    "        self.tagger = Komoran()\n",
    "\n",
    "    def removeDuplicateSpace(self, text):\n",
    "        return re.sub('\\s+', ' ', text)  # 중복 공백, 탭, 개행 제거\n",
    "    \n",
    "    def removeSpecialChar(self, text):\n",
    "        return ' '.join(self.retokenize.tokenize(text))\n",
    "\n",
    "\n",
    "    def loadSwords(self, filename):\n",
    "        self.swords = []\n",
    "        with open(filename, 'r', encoding='utf-8') as f:\n",
    "            self.swords = f.readlines()\n",
    "            self.swords = [sword.replace('\\n','') for sword in self.swords]\n",
    "\n",
    "        self.tokenizer = lambda sent: filter(lambda x:x not in self.swords, sent.split())\n",
    "\n",
    "        return self.swords\n",
    "        \n",
    "    def removeSwords(self, text):\n",
    "        return ' '.join([token for token in list(self.tokenizer(text))])\n",
    "    \n",
    "    def cleanLines(self, lines):\n",
    "        return_val = list(map(lambda line: self.cleanLine(line), lines))\n",
    "        return [line for line in return_val if line is not '']\n",
    "\n",
    "    def cleanLine(self, line):\n",
    "        cleanLine = self.removeDuplicateSpace(line)\n",
    "        rmSpecial = self.removeSpecialChar(cleanLine)\n",
    "        rmSwordLine = self.removeSwords(rmSpecial)\n",
    "                    \n",
    "        return rmSwordLine\n",
    "\n",
    "    def del_personal_info(self, lines, media):\n",
    "        result = []\n",
    "        for line in lines:\n",
    "            rmBracket = re.sub('(\\([^)]*\\)|\\[[^]]*\\])', '', line)  # 괄호 안 내용 제거\n",
    "            rmMedia = re.sub(media, ' ', rmBracket)  # 언론사명 제거\n",
    "            rmReporter = re.sub('[가-힣]{2,5}\\s?기자', ' ', rmMedia) # 기자 이름 제거\n",
    "            rmReporter = re.sub('[가-힣]{2,5}\\s?특파원', ' ', rmReporter) # 기자 이름 제거\n",
    "            rmEmail = re.sub('[0-9a-zA-Z]([-_\\.]?[0-9a-zA-Z])*@[0-9a-zA-Z]([-_\\.]?[0-9a-zA-Z])*\\.[a-zA-Z]{2,3}', ' ', rmReporter) # 이메일 제거\n",
    "            result.append(rmEmail)\n",
    "\n",
    "        return result\n",
    "    "
   ]
  },
  {
   "cell_type": "code",
   "execution_count": null,
   "metadata": {},
   "outputs": [],
   "source": []
  }
 ],
 "metadata": {
  "kernelspec": {
   "display_name": "Python 3",
   "language": "python",
   "name": "python3"
  },
  "language_info": {
   "codemirror_mode": {
    "name": "ipython",
    "version": 3
   },
   "file_extension": ".py",
   "mimetype": "text/x-python",
   "name": "python",
   "nbconvert_exporter": "python",
   "pygments_lexer": "ipython3",
   "version": "3.7.6"
  }
 },
 "nbformat": 4,
 "nbformat_minor": 2
}
