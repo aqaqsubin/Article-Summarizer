{
 "cells": [
  {
   "cell_type": "code",
   "execution_count": 1,
   "metadata": {
    "colab": {
     "base_uri": "https://localhost:8080/"
    },
    "executionInfo": {
     "elapsed": 11031,
     "status": "ok",
     "timestamp": 1610755022118,
     "user": {
      "displayName": "김수빈",
      "photoUrl": "",
      "userId": "17754099482493494628"
     },
     "user_tz": -540
    },
    "id": "X_cwe5iCxSDp",
    "outputId": "ae645a99-4108-4327-fd39-02f261a0ce43"
   },
   "outputs": [
    {
     "name": "stdout",
     "output_type": "stream",
     "text": [
      "importing Jupyter notebook from /data/ksb/TestSampleDir/articleSummary-Jupyter/Text-Preprocessing/CommonModule/Handle_Dir.ipynb\n",
      "importing Jupyter notebook from /data/ksb/TestSampleDir/articleSummary-Jupyter/Text-Preprocessing/CommonModule/ArticleHandler.ipynb\n"
     ]
    }
   ],
   "source": [
    "# _*_ coding: utf-8 _*_\n",
    "import os\n",
    "import math\n",
    "import csv\n",
    "import pandas as pd\n",
    "from glob import iglob\n",
    "from IPython.display import display\n",
    "from functools import reduce\n",
    "import import_ipynb\n",
    "\n",
    "from CommonModule.Handle_Dir import mkdir_p, del_folder\n",
    "from CommonModule.ArticleHandler import Article, ArticleReader"
   ]
  },
  {
   "cell_type": "code",
   "execution_count": 2,
   "metadata": {
    "executionInfo": {
     "elapsed": 30350,
     "status": "ok",
     "timestamp": 1610755041467,
     "user": {
      "displayName": "김수빈",
      "photoUrl": "",
      "userId": "17754099482493494628"
     },
     "user_tz": -540
    },
    "id": "sxJDqNbWxam3"
   },
   "outputs": [],
   "source": [
    "BASE_DIR = \"/data/ksb/TestSampleDir/articles\"\n",
    "ORIGIN_PATH = os.path.join(BASE_DIR,\"Origin-Data\")\n",
    "PREPROCESSED_PATH = os.path.join(BASE_DIR,\"Preprocessed-Data\")\n",
    "PRETTY_PATH = os.path.join(BASE_DIR,\"Pretty-Data\")\n",
    "SWORDS_PATH = os.path.join(BASE_DIR, \"StopWordList.txt\")"
   ]
  },
  {
   "cell_type": "code",
   "execution_count": 3,
   "metadata": {},
   "outputs": [],
   "source": [
    "def get_media_name(filepath):\n",
    "    filename = filepath.split(os.sep)[-1]\n",
    "    return filename.split(\".\")[0]"
   ]
  },
  {
   "cell_type": "code",
   "execution_count": 13,
   "metadata": {
    "colab": {
     "base_uri": "https://localhost:8080/"
    },
    "executionInfo": {
     "elapsed": 16841,
     "status": "ok",
     "timestamp": 1610756325623,
     "user": {
      "displayName": "김수빈",
      "photoUrl": "",
      "userId": "17754099482493494628"
     },
     "user_tz": -540
    },
    "id": "dZXr_0LWxY52",
    "outputId": "1f59102c-9394-43c3-ecb8-8679a4981ef1",
    "scrolled": true
   },
   "outputs": [
    {
     "name": "stdout",
     "output_type": "stream",
     "text": [
      "KBS\n",
      "YTN\n",
      "노컷뉴스\n",
      "뉴스1\n",
      "뉴시스\n",
      "세계일보\n",
      "연합뉴스\n",
      "중앙일보\n"
     ]
    }
   ],
   "source": [
    "get_line_token_count = lambda sent : len(sent.split())\n",
    "get_token_count = lambda sents : reduce(lambda x, y : x + y, map(get_line_token_count, sents))\n",
    "\n",
    "if __name__ == '__main__':\n",
    "    \n",
    "    article_dist = pd.DataFrame(columns=['Title', 'Media', 'Line length', 'Token Number'])\n",
    "    for idx, media_path in enumerate(iglob(os.path.join(ORIGIN_PATH, '**.csv'), recursive=False)):\n",
    "\n",
    "        media_name = get_media_name(media_path)\n",
    "        print(media_name)\n",
    "        \n",
    "        f = open(media_path, 'r', newline=\"\\n\", encoding=\"utf-8\")\n",
    "        rdr = csv.reader(f)\n",
    "        for [title, contents] in rdr:\n",
    "            article = Article(title, media_name, contents.split(\"\\t\"))\n",
    "            if len(article.content) < 3: continue # 본문이 3줄 미만인 경우 제외\n",
    "            \n",
    "            contents = list(article.readContent())\n",
    "            dist= {'Title' : article.title, 'Media' : article.media, 'Line length' : len(contents) , 'Token Number' : get_token_count(contents)}\n",
    "            article_dist = article_dist.append(dist, ignore_index=True)\n",
    "            \n",
    "        f.close()"
   ]
  },
  {
   "cell_type": "code",
   "execution_count": 14,
   "metadata": {},
   "outputs": [
    {
     "data": {
      "text/html": [
       "<div>\n",
       "<style scoped>\n",
       "    .dataframe tbody tr th:only-of-type {\n",
       "        vertical-align: middle;\n",
       "    }\n",
       "\n",
       "    .dataframe tbody tr th {\n",
       "        vertical-align: top;\n",
       "    }\n",
       "\n",
       "    .dataframe thead th {\n",
       "        text-align: right;\n",
       "    }\n",
       "</style>\n",
       "<table border=\"1\" class=\"dataframe\">\n",
       "  <thead>\n",
       "    <tr style=\"text-align: right;\">\n",
       "      <th></th>\n",
       "      <th>Title</th>\n",
       "      <th>Media</th>\n",
       "      <th>Line length</th>\n",
       "      <th>Token Number</th>\n",
       "    </tr>\n",
       "  </thead>\n",
       "  <tbody>\n",
       "    <tr>\n",
       "      <th>0</th>\n",
       "      <td>이태원 클럽발 확진자 계속 증가…각 지자체 추가 행정명령</td>\n",
       "      <td>KBS</td>\n",
       "      <td>20</td>\n",
       "      <td>255</td>\n",
       "    </tr>\n",
       "    <tr>\n",
       "      <th>1</th>\n",
       "      <td>인도 남부서 버스-트럭 충돌로 40여명 사상</td>\n",
       "      <td>KBS</td>\n",
       "      <td>5</td>\n",
       "      <td>67</td>\n",
       "    </tr>\n",
       "    <tr>\n",
       "      <th>2</th>\n",
       "      <td>민경욱 “선관위가 ‘여론 조작’ 시도…개표시연 못 믿어”</td>\n",
       "      <td>KBS</td>\n",
       "      <td>12</td>\n",
       "      <td>231</td>\n",
       "    </tr>\n",
       "    <tr>\n",
       "      <th>3</th>\n",
       "      <td>미 ‘목 누르기’ 체포 금지 요구 확산…샌디에이고 “즉각 중단”</td>\n",
       "      <td>KBS</td>\n",
       "      <td>14</td>\n",
       "      <td>258</td>\n",
       "    </tr>\n",
       "    <tr>\n",
       "      <th>4</th>\n",
       "      <td>‘자가격리 무단 이탈’ 청주 50대 입건</td>\n",
       "      <td>KBS</td>\n",
       "      <td>4</td>\n",
       "      <td>59</td>\n",
       "    </tr>\n",
       "    <tr>\n",
       "      <th>...</th>\n",
       "      <td>...</td>\n",
       "      <td>...</td>\n",
       "      <td>...</td>\n",
       "      <td>...</td>\n",
       "    </tr>\n",
       "    <tr>\n",
       "      <th>38467</th>\n",
       "      <td>\"같이살던 정인이 양외할머니, 학대 몰랐겠나\" 방조혐의 고발</td>\n",
       "      <td>중앙일보</td>\n",
       "      <td>8</td>\n",
       "      <td>173</td>\n",
       "    </tr>\n",
       "    <tr>\n",
       "      <th>38468</th>\n",
       "      <td>아동학대로 한해 30명 넘게 사망 \"범죄를 왜 복지부가 맡나\"</td>\n",
       "      <td>중앙일보</td>\n",
       "      <td>22</td>\n",
       "      <td>350</td>\n",
       "    </tr>\n",
       "    <tr>\n",
       "      <th>38469</th>\n",
       "      <td>유치장서 칫솔 삼킨 남성, 이번엔 3m 담 뛰어내려 허리 부상</td>\n",
       "      <td>중앙일보</td>\n",
       "      <td>7</td>\n",
       "      <td>97</td>\n",
       "    </tr>\n",
       "    <tr>\n",
       "      <th>38470</th>\n",
       "      <td>이언주 측 \"배우자가 선거운동 중 멱살잡이 폭행당했다\" 신고</td>\n",
       "      <td>중앙일보</td>\n",
       "      <td>6</td>\n",
       "      <td>105</td>\n",
       "    </tr>\n",
       "    <tr>\n",
       "      <th>38471</th>\n",
       "      <td>홍콩 \"복면금지법\" 부활…\"집회서 마스크 쓰면 징역 최대 1년\"</td>\n",
       "      <td>중앙일보</td>\n",
       "      <td>18</td>\n",
       "      <td>313</td>\n",
       "    </tr>\n",
       "  </tbody>\n",
       "</table>\n",
       "<p>38472 rows × 4 columns</p>\n",
       "</div>"
      ],
      "text/plain": [
       "                                     Title Media Line length Token Number\n",
       "0          이태원 클럽발 확진자 계속 증가…각 지자체 추가 행정명령   KBS          20          255\n",
       "1                 인도 남부서 버스-트럭 충돌로 40여명 사상   KBS           5           67\n",
       "2          민경욱 “선관위가 ‘여론 조작’ 시도…개표시연 못 믿어”   KBS          12          231\n",
       "3      미 ‘목 누르기’ 체포 금지 요구 확산…샌디에이고 “즉각 중단”   KBS          14          258\n",
       "4                   ‘자가격리 무단 이탈’ 청주 50대 입건   KBS           4           59\n",
       "...                                    ...   ...         ...          ...\n",
       "38467    \"같이살던 정인이 양외할머니, 학대 몰랐겠나\" 방조혐의 고발  중앙일보           8          173\n",
       "38468   아동학대로 한해 30명 넘게 사망 \"범죄를 왜 복지부가 맡나\"  중앙일보          22          350\n",
       "38469   유치장서 칫솔 삼킨 남성, 이번엔 3m 담 뛰어내려 허리 부상  중앙일보           7           97\n",
       "38470    이언주 측 \"배우자가 선거운동 중 멱살잡이 폭행당했다\" 신고  중앙일보           6          105\n",
       "38471  홍콩 \"복면금지법\" 부활…\"집회서 마스크 쓰면 징역 최대 1년\"  중앙일보          18          313\n",
       "\n",
       "[38472 rows x 4 columns]"
      ]
     },
     "metadata": {},
     "output_type": "display_data"
    }
   ],
   "source": [
    "display(pd.DataFrame(article_dist))"
   ]
  },
  {
   "cell_type": "code",
   "execution_count": 15,
   "metadata": {},
   "outputs": [],
   "source": [
    "article_dist['Line length'] = article_dist['Line length'].astype('float64')\n",
    "article_dist['Token Number'] = article_dist['Token Number'].astype('float64')"
   ]
  },
  {
   "cell_type": "markdown",
   "metadata": {},
   "source": [
    "아래는 수집된 기사의 문장 수 분포를 그래프로 나타낸 것이다.  \n",
    "대다수의 기사는 20개 이내의 문장 수를 가지는 것을 확인하였다."
   ]
  },
  {
   "cell_type": "code",
   "execution_count": 18,
   "metadata": {},
   "outputs": [
    {
     "data": {
      "image/png": "[encoded data removed]",
      "text/plain": [
       "<Figure size 1008x288 with 1 Axes>"
      ]
     },
     "metadata": {
      "needs_background": "light"
     },
     "output_type": "display_data"
    }
   ],
   "source": [
    "import seaborn as sns\n",
    "import matplotlib.pyplot as plt\n",
    "import numpy as np\n",
    "\n",
    "line_len_filter = article_dist['Line length'] <= 80\n",
    "\n",
    "line_min = np.min(article_dist[line_len_filter]['Line length'])\n",
    "line_max = np.max(article_dist[line_len_filter]['Line length'])\n",
    "sns.kdeplot(article_dist[line_len_filter]['Line length'])\n",
    "\n",
    "plt.rcParams[\"figure.figsize\"] = (14,4)\n",
    "plt.title(\"Text Line Count Distribution\")\n",
    "plt.xticks(np.arange(line_min, line_max, step=int(line_max // 20)), \\\n",
    "           [\"{}\".format(int(x)) for x in np.arange(line_min, line_max, step=int(line_max // 20))])\n",
    "plt.xlabel('Line Count')\n",
    "plt.show()"
   ]
  },
  {
   "cell_type": "markdown",
   "metadata": {},
   "source": [
    "15개 이하 문장 수를 가지는 기사에 한하여 토큰 개수를 그래프로 나타낸 것이다.  \n",
    "180개 이내의 토큰을 가지는 기사들이 대부분이다."
   ]
  },
  {
   "cell_type": "code",
   "execution_count": 20,
   "metadata": {},
   "outputs": [
    {
     "data": {
      "image/png": "[encoded data removed]",
      "text/plain": [
       "<Figure size 1008x288 with 1 Axes>"
      ]
     },
     "metadata": {
      "needs_background": "light"
     },
     "output_type": "display_data"
    }
   ],
   "source": [
    "line_len_filter = article_dist['Line length'] <= 15\n",
    "\n",
    "token_min = np.min(article_dist[line_len_filter]['Token Number'])\n",
    "token_max = np.max(article_dist[line_len_filter]['Token Number'])\n",
    "\n",
    "sns.kdeplot(article_dist[line_len_filter]['Token Number'])\n",
    "\n",
    "plt.rcParams[\"figure.figsize\"] = (14,4)\n",
    "plt.title(\"Text Line Token Count Distribution\")\n",
    "plt.xticks(np.arange(token_min, token_max, step=int(token_max // 20)), \\\n",
    "           [\"{}\".format(int(x)) for x in np.arange(token_min, token_max, step=int(token_max // 20))])\n",
    "plt.xlabel('Token Count')\n",
    "plt.show()"
   ]
  },
  {
   "cell_type": "markdown",
   "metadata": {},
   "source": [
    "다음은 `MAX_LINE`에 따라 기사 본문을 분할하는 내용이다.  \n",
    "각 기사 본문을 13 문장 이하로 분할하여, 문장 수 분포와 토큰의 개수 분포를 살펴본다."
   ]
  },
  {
   "cell_type": "code",
   "execution_count": 23,
   "metadata": {},
   "outputs": [],
   "source": [
    "MAX_LINE = 13"
   ]
  },
  {
   "cell_type": "code",
   "execution_count": 32,
   "metadata": {},
   "outputs": [],
   "source": [
    "split_by_max_len = lambda sents : [sents[idx*MAX_LINE : idx*MAX_LINE + MAX_LINE] for idx in range(math.ceil(len(sents) / MAX_LINE))]\n",
    "\n",
    "if __name__ == '__main__':\n",
    "    \n",
    "    article_dist = pd.DataFrame(columns=['Title', 'Media', 'Line length', 'Token Number'])\n",
    "    for idx, media_path in enumerate(iglob(os.path.join(ORIGIN_PATH, '**.csv'), recursive=False)):\n",
    "\n",
    "        media_name = get_media_name(media_path)\n",
    "        \n",
    "        f = open(media_path, 'r', newline=\"\\n\", encoding=\"utf-8\")\n",
    "        rdr = csv.reader(f)\n",
    "        for [title, contents] in rdr:\n",
    "            article = Article(title, media_name, contents.split(\"\\t\"))\n",
    "            if len(article.content) < 3: continue # 본문이 3줄 미만인 경우 제외\n",
    "            \n",
    "            contents = list(article.readContent())\n",
    "            for idx, cont in enumerate(split_by_max_len(contents)):\n",
    "                if len(cont) < 3: continue \n",
    "                    \n",
    "                dist= {'Title' : article.title + \"--{}\".format(idx), 'Media' : article.media, \\\n",
    "                       'Line length' : len(cont) , 'Token Number' : get_token_count(cont)}\n",
    "                article_dist = article_dist.append(dist, ignore_index=True)"
   ]
  },
  {
   "cell_type": "code",
   "execution_count": 33,
   "metadata": {},
   "outputs": [],
   "source": [
    "article_dist['Line length'] = article_dist['Line length'].astype('float64')\n",
    "article_dist['Token Number'] = article_dist['Token Number'].astype('float64')"
   ]
  },
  {
   "cell_type": "code",
   "execution_count": 35,
   "metadata": {},
   "outputs": [
    {
     "data": {
      "text/html": [
       "<div>\n",
       "<style scoped>\n",
       "    .dataframe tbody tr th:only-of-type {\n",
       "        vertical-align: middle;\n",
       "    }\n",
       "\n",
       "    .dataframe tbody tr th {\n",
       "        vertical-align: top;\n",
       "    }\n",
       "\n",
       "    .dataframe thead th {\n",
       "        text-align: right;\n",
       "    }\n",
       "</style>\n",
       "<table border=\"1\" class=\"dataframe\">\n",
       "  <thead>\n",
       "    <tr style=\"text-align: right;\">\n",
       "      <th></th>\n",
       "      <th>Title</th>\n",
       "      <th>Media</th>\n",
       "      <th>Line length</th>\n",
       "      <th>Token Number</th>\n",
       "    </tr>\n",
       "  </thead>\n",
       "  <tbody>\n",
       "    <tr>\n",
       "      <th>0</th>\n",
       "      <td>이태원 클럽발 확진자 계속 증가…각 지자체 추가 행정명령--0</td>\n",
       "      <td>KBS</td>\n",
       "      <td>13.0</td>\n",
       "      <td>160.0</td>\n",
       "    </tr>\n",
       "    <tr>\n",
       "      <th>1</th>\n",
       "      <td>이태원 클럽발 확진자 계속 증가…각 지자체 추가 행정명령--1</td>\n",
       "      <td>KBS</td>\n",
       "      <td>7.0</td>\n",
       "      <td>95.0</td>\n",
       "    </tr>\n",
       "    <tr>\n",
       "      <th>2</th>\n",
       "      <td>인도 남부서 버스-트럭 충돌로 40여명 사상--0</td>\n",
       "      <td>KBS</td>\n",
       "      <td>5.0</td>\n",
       "      <td>67.0</td>\n",
       "    </tr>\n",
       "    <tr>\n",
       "      <th>3</th>\n",
       "      <td>민경욱 “선관위가 ‘여론 조작’ 시도…개표시연 못 믿어”--0</td>\n",
       "      <td>KBS</td>\n",
       "      <td>12.0</td>\n",
       "      <td>231.0</td>\n",
       "    </tr>\n",
       "    <tr>\n",
       "      <th>4</th>\n",
       "      <td>미 ‘목 누르기’ 체포 금지 요구 확산…샌디에이고 “즉각 중단”--0</td>\n",
       "      <td>KBS</td>\n",
       "      <td>13.0</td>\n",
       "      <td>233.0</td>\n",
       "    </tr>\n",
       "    <tr>\n",
       "      <th>...</th>\n",
       "      <td>...</td>\n",
       "      <td>...</td>\n",
       "      <td>...</td>\n",
       "      <td>...</td>\n",
       "    </tr>\n",
       "    <tr>\n",
       "      <th>61455</th>\n",
       "      <td>아동학대로 한해 30명 넘게 사망 \"범죄를 왜 복지부가 맡나\"--1</td>\n",
       "      <td>중앙일보</td>\n",
       "      <td>9.0</td>\n",
       "      <td>136.0</td>\n",
       "    </tr>\n",
       "    <tr>\n",
       "      <th>61456</th>\n",
       "      <td>유치장서 칫솔 삼킨 남성, 이번엔 3m 담 뛰어내려 허리 부상--0</td>\n",
       "      <td>중앙일보</td>\n",
       "      <td>7.0</td>\n",
       "      <td>97.0</td>\n",
       "    </tr>\n",
       "    <tr>\n",
       "      <th>61457</th>\n",
       "      <td>이언주 측 \"배우자가 선거운동 중 멱살잡이 폭행당했다\" 신고--0</td>\n",
       "      <td>중앙일보</td>\n",
       "      <td>6.0</td>\n",
       "      <td>105.0</td>\n",
       "    </tr>\n",
       "    <tr>\n",
       "      <th>61458</th>\n",
       "      <td>홍콩 \"복면금지법\" 부활…\"집회서 마스크 쓰면 징역 최대 1년\"--0</td>\n",
       "      <td>중앙일보</td>\n",
       "      <td>13.0</td>\n",
       "      <td>242.0</td>\n",
       "    </tr>\n",
       "    <tr>\n",
       "      <th>61459</th>\n",
       "      <td>홍콩 \"복면금지법\" 부활…\"집회서 마스크 쓰면 징역 최대 1년\"--1</td>\n",
       "      <td>중앙일보</td>\n",
       "      <td>5.0</td>\n",
       "      <td>71.0</td>\n",
       "    </tr>\n",
       "  </tbody>\n",
       "</table>\n",
       "<p>61460 rows × 4 columns</p>\n",
       "</div>"
      ],
      "text/plain": [
       "                                        Title Media  Line length  Token Number\n",
       "0          이태원 클럽발 확진자 계속 증가…각 지자체 추가 행정명령--0   KBS         13.0         160.0\n",
       "1          이태원 클럽발 확진자 계속 증가…각 지자체 추가 행정명령--1   KBS          7.0          95.0\n",
       "2                 인도 남부서 버스-트럭 충돌로 40여명 사상--0   KBS          5.0          67.0\n",
       "3          민경욱 “선관위가 ‘여론 조작’ 시도…개표시연 못 믿어”--0   KBS         12.0         231.0\n",
       "4      미 ‘목 누르기’ 체포 금지 요구 확산…샌디에이고 “즉각 중단”--0   KBS         13.0         233.0\n",
       "...                                       ...   ...          ...           ...\n",
       "61455   아동학대로 한해 30명 넘게 사망 \"범죄를 왜 복지부가 맡나\"--1  중앙일보          9.0         136.0\n",
       "61456   유치장서 칫솔 삼킨 남성, 이번엔 3m 담 뛰어내려 허리 부상--0  중앙일보          7.0          97.0\n",
       "61457    이언주 측 \"배우자가 선거운동 중 멱살잡이 폭행당했다\" 신고--0  중앙일보          6.0         105.0\n",
       "61458  홍콩 \"복면금지법\" 부활…\"집회서 마스크 쓰면 징역 최대 1년\"--0  중앙일보         13.0         242.0\n",
       "61459  홍콩 \"복면금지법\" 부활…\"집회서 마스크 쓰면 징역 최대 1년\"--1  중앙일보          5.0          71.0\n",
       "\n",
       "[61460 rows x 4 columns]"
      ]
     },
     "metadata": {},
     "output_type": "display_data"
    }
   ],
   "source": [
    "display(pd.DataFrame(article_dist))"
   ]
  },
  {
   "cell_type": "code",
   "execution_count": 34,
   "metadata": {},
   "outputs": [
    {
     "name": "stdout",
     "output_type": "stream",
     "text": [
      "Line Count : 3.0 ~ 13.0\n"
     ]
    },
    {
     "data": {
      "image/png": "[encoded data removed]",
      "text/plain": [
       "<Figure size 1008x288 with 1 Axes>"
      ]
     },
     "metadata": {
      "needs_background": "light"
     },
     "output_type": "display_data"
    }
   ],
   "source": [
    "line_min = np.min(article_dist['Line length'])\n",
    "line_max = np.max(article_dist['Line length'])\n",
    "\n",
    "print(\"Line Count : {line_min} ~ {line_max}\".format(line_max=line_max, line_min=line_min))\n",
    "sns.kdeplot(article_dist['Line length'])\n",
    "\n",
    "plt.rcParams[\"figure.figsize\"] = (14,4)\n",
    "plt.title(\"Text Line Count Distribution\")\n",
    "plt.xticks(np.arange(line_min, line_max, step=int(line_max // 13)), \\\n",
    "           [\"{}\".format(int(x)) for x in np.arange(line_min, line_max, step=int(line_max // 13))])\n",
    "plt.xlabel('Line Count')\n",
    "plt.show()"
   ]
  },
  {
   "cell_type": "markdown",
   "metadata": {},
   "source": [
    "대다수의 토큰의 개수가 300개 이내임을 확인할 수 있다.  \n",
    "이 이상의 토큰 수를 가지는 기사를 제외할 것이다."
   ]
  },
  {
   "cell_type": "code",
   "execution_count": 36,
   "metadata": {},
   "outputs": [
    {
     "name": "stdout",
     "output_type": "stream",
     "text": [
      "Token Count : 3.0 ~ 906.0\n"
     ]
    },
    {
     "data": {
      "image/png": "[encoded data removed]",
      "text/plain": [
       "<Figure size 1008x288 with 1 Axes>"
      ]
     },
     "metadata": {
      "needs_background": "light"
     },
     "output_type": "display_data"
    }
   ],
   "source": [
    "token_min = np.min(article_dist['Token Number'])\n",
    "token_max = np.max(article_dist['Token Number'])\n",
    "\n",
    "line_len_filter = article_dist['Line length'] <= 13\n",
    "print(\"Token Count : {token_min} ~ {token_max}\".format(token_min=token_min, token_max=token_max))\n",
    "\n",
    "sns.kdeplot(article_dist[line_len_filter]['Token Number'])\n",
    "\n",
    "plt.rcParams[\"figure.figsize\"] = (14,4)\n",
    "plt.title(\"Text Line Token Count Distribution\")\n",
    "plt.xticks(np.arange(token_min, token_max, step=int(token_max // 20)), \\\n",
    "           [\"{}\".format(int(x)) for x in np.arange(token_min, token_max, step=int(token_max // 20))])\n",
    "plt.xlabel('Token Count')\n",
    "plt.show()"
   ]
  }
 ],
 "metadata": {
  "colab": {
   "authorship_tag": "ABX9TyMnJhI3kxyw2hvIausnF+TX",
   "collapsed_sections": [],
   "name": "Text-preprocessing-python.ipynb",
   "provenance": []
  },
  "kernelspec": {
   "display_name": "Python 3",
   "language": "python",
   "name": "python3"
  },
  "language_info": {
   "codemirror_mode": {
    "name": "ipython",
    "version": 3
   },
   "file_extension": ".py",
   "mimetype": "text/x-python",
   "name": "python",
   "nbconvert_exporter": "python",
   "pygments_lexer": "ipython3",
   "version": "3.6.9"
  }
 },
 "nbformat": 4,
 "nbformat_minor": 1
}
