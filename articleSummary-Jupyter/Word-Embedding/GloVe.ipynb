{
 "cells": [
  {
   "cell_type": "markdown",
   "metadata": {
    "id": "IHwXAgNfJLfu"
   },
   "source": [
    "### **GloVe**  \n",
    "임베딩 벡터의 내적이 말뭉치 전체에서의 동시출현(co-occurrence) 확률 값이 되는 목적 함수를 갖는다.  \n",
    "이를 통해 임베딩 벡터간 유사도 측정을 수월하게 하면서도 말뭉치 전체의 통계 정보를 반영할 수 있다. \n",
    "\n",
    "> **동시 출현 (Co-occurence)** *이란, 한 문장, 문단 또는 텍스트 단위에서 같이 출현한 단어를 가리다. 언어학적 의미에서 의미적 근접성을 가리킨다.*  \n",
    "\n",
    "\n"
   ]
  },
  {
   "cell_type": "code",
   "execution_count": 3,
   "metadata": {
    "id": "fTe0cGZ-Kzk4"
   },
   "outputs": [],
   "source": [
    "import os\n",
    "import re\n",
    "from pathlib import Path"
   ]
  },
  {
   "cell_type": "code",
   "execution_count": 4,
   "metadata": {
    "id": "iUFfM3YiK2de"
   },
   "outputs": [],
   "source": [
    "BASE_DIR = \"/data/ksb/TestDir\"\n",
    "DATA_BASE_DIR = os.path.join(BASE_DIR, \"sample_articles\")\n",
    "\n",
    "ORIGIN_PATH = os.path.join(DATA_BASE_DIR,\"Origin-Data\")\n",
    "PREPROCESSED_PATH = os.path.join(DATA_BASE_DIR,\"Preprocessed-Data\")\n",
    "PRETTY_PATH = os.path.join(DATA_BASE_DIR,\"Pretty-Data\")\n",
    "SWORDS_PATH = os.path.join(DATA_BASE_DIR, \"StopWordList.txt\")\n",
    "MODEL_PATH = os.path.join(os.path.join(Path(os.getcwd()).parent, \"Word-Embedding-Model\"))"
   ]
  },
  {
   "cell_type": "code",
   "execution_count": 5,
   "metadata": {
    "id": "RcYIWysUK32c"
   },
   "outputs": [],
   "source": [
    "class RawTextReader:\n",
    "    def __init__(self, filepath):\n",
    "        self.filepath = filepath\n",
    "        self.rgxSplitter = re.compile(\"/n\")\n",
    "\n",
    "    def __iter__(self):\n",
    "        for line in open(self.filepath, encoding='utf-8'):\n",
    "            ch = self.rgxSplitter.split(line)\n",
    "            for s in ch:\n",
    "                yield s"
   ]
  },
  {
   "cell_type": "code",
   "execution_count": 6,
   "metadata": {},
   "outputs": [],
   "source": [
    "def mkdir_p(path):\n",
    "    import errno\n",
    "    try:\n",
    "        os.makedirs(path)\n",
    "    except OSError as exc:\n",
    "        if exc.errno == errno.EEXIST and os.path.isdir(path):\n",
    "            pass\n",
    "        else:\n",
    "            raise\n"
   ]
  },
  {
   "cell_type": "markdown",
   "metadata": {
    "id": "6IRlk3_1LnBr"
   },
   "source": [
    "기사 본문 내용이 짧기 때문에, 모델을 학습하기에 corpus의 크기가 작다.  \n",
    "아래는 수집한 기사 87건들을 통해 corpus를 구성하고, GloVe 모델을 구축하는 내용이다."
   ]
  },
  {
   "cell_type": "code",
   "execution_count": 8,
   "metadata": {
    "id": "ZkmT9Y7MK5N9"
   },
   "outputs": [],
   "source": [
    "media_list = os.listdir(PREPROCESSED_PATH)\n",
    "\n",
    "result = []\n",
    "forCount = []\n",
    "for media in media_list:\n",
    "    media_path = os.path.join(PREPROCESSED_PATH, media)\n",
    "    article_list= os.listdir(media_path)\n",
    "\n",
    "    for article in article_list:\n",
    "        reader = RawTextReader(os.path.join(media_path, article)) \n",
    "        content = list(filter(None, reader))\n",
    "        forCount += [token for sent in content for token in sent.split()]\n",
    "        result += [sent.split() for sent in content]"
   ]
  },
  {
   "cell_type": "code",
   "execution_count": 9,
   "metadata": {
    "colab": {
     "base_uri": "https://localhost:8080/"
    },
    "id": "c0GVPX1-K6st",
    "outputId": "df1a233b-c33d-44ae-ff5c-7113751d5ea6"
   },
   "outputs": [
    {
     "name": "stdout",
     "output_type": "stream",
     "text": [
      "전체 token의 개수 : 19644153\n",
      "중복되지 않은 token의 개수 : 66456\n"
     ]
    }
   ],
   "source": [
    "print(\"전체 token의 개수 : {len}\".format(len=len(forCount)))\n",
    "print(\"중복되지 않은 token의 개수 : {len}\".format(len=len(list(set(forCount)))))"
   ]
  },
  {
   "cell_type": "code",
   "execution_count": 12,
   "metadata": {},
   "outputs": [],
   "source": [
    "START_TOKEN = ['<SOS>']\n",
    "END_TOKEN = ['<EOS>']"
   ]
  },
  {
   "cell_type": "code",
   "execution_count": 13,
   "metadata": {},
   "outputs": [],
   "source": [
    "result = list(map(lambda content : START_TOKEN + content + END_TOKEN, result))"
   ]
  },
  {
   "cell_type": "code",
   "execution_count": 14,
   "metadata": {
    "id": "UiHk8wgQLC1B"
   },
   "outputs": [],
   "source": [
    "from glove import Corpus, Glove\n",
    "\n",
    "corpus = Corpus() \n",
    "corpus.fit(result, window=5)"
   ]
  },
  {
   "cell_type": "code",
   "execution_count": 15,
   "metadata": {
    "colab": {
     "base_uri": "https://localhost:8080/"
    },
    "id": "zCGBCqkjLWaB",
    "outputId": "30d03628-7e51-447f-967d-0567c5eb11dc"
   },
   "outputs": [
    {
     "name": "stdout",
     "output_type": "stream",
     "text": [
      "Performing 20 training epochs with 4 threads\n",
      "Epoch 0\n",
      "Epoch 1\n",
      "Epoch 2\n",
      "Epoch 3\n",
      "Epoch 4\n",
      "Epoch 5\n",
      "Epoch 6\n",
      "Epoch 7\n",
      "Epoch 8\n",
      "Epoch 9\n",
      "Epoch 10\n",
      "Epoch 11\n",
      "Epoch 12\n",
      "Epoch 13\n",
      "Epoch 14\n",
      "Epoch 15\n",
      "Epoch 16\n",
      "Epoch 17\n",
      "Epoch 18\n",
      "Epoch 19\n"
     ]
    }
   ],
   "source": [
    "glove = Glove(no_components=256, learning_rate=0.05)\n",
    "glove.fit(corpus.matrix, epochs=20, no_threads=4, verbose=True)\n",
    "glove.add_dictionary(corpus.dictionary)"
   ]
  },
  {
   "cell_type": "markdown",
   "metadata": {
    "id": "mKZUT2VOLsmW"
   },
   "source": [
    "경찰서장과 비슷한 의미의 단어를 출력한다."
   ]
  },
  {
   "cell_type": "code",
   "execution_count": 16,
   "metadata": {
    "colab": {
     "base_uri": "https://localhost:8080/"
    },
    "id": "eS0HoE8xLFHR",
    "outputId": "7ad30dce-30ed-41f5-9457-bc51d1cd39fd"
   },
   "outputs": [
    {
     "name": "stdout",
     "output_type": "stream",
     "text": [
      "[('양천', 0.7152219849493041), ('최진태', 0.547380345529357), ('해양', 0.5423396482507843), ('백학', 0.541540346122516)]\n"
     ]
    }
   ],
   "source": [
    "model_result1=glove.most_similar(\"경찰서장\")\n",
    "print(model_result1)"
   ]
  },
  {
   "cell_type": "code",
   "execution_count": 17,
   "metadata": {},
   "outputs": [
    {
     "data": {
      "text/plain": [
       "668"
      ]
     },
     "execution_count": 17,
     "metadata": {},
     "output_type": "execute_result"
    }
   ],
   "source": [
    "corpus.dictionary[\"선거\"]"
   ]
  },
  {
   "cell_type": "code",
   "execution_count": 18,
   "metadata": {},
   "outputs": [
    {
     "data": {
      "text/plain": [
       "array([-5.86857987e-02,  3.04725902e-02, -3.50713933e-01,  1.63890719e-01,\n",
       "        1.18662185e-01, -3.57819899e-01, -4.54589913e-02,  2.49132047e-01,\n",
       "        1.41620210e-01,  4.52376384e-01, -2.02558500e-01, -2.55210691e-01,\n",
       "        6.89365200e-01,  1.91398015e-01, -1.70875454e-01,  2.12077581e-01,\n",
       "       -2.03151912e-01, -4.13377844e-02,  1.96604925e-01, -1.68379841e-01,\n",
       "       -2.58124378e-01, -1.81894005e-01,  3.10510050e-01, -2.53778388e-01,\n",
       "        1.25946503e-01, -1.12744791e-01, -3.08914865e-02,  1.93688787e-01,\n",
       "        1.51799771e-01, -2.41808754e-01, -1.93119695e-01, -1.00111310e-01,\n",
       "       -1.53392780e-01, -1.20103478e-01,  2.54215635e-01,  3.44016066e-01,\n",
       "       -1.76844752e-01,  7.43174397e-02,  1.71243858e-01, -5.69981152e-02,\n",
       "        6.99238785e-02,  1.32170250e-01, -9.71812092e-02, -4.34700657e-02,\n",
       "       -1.33847426e-02, -2.24707559e-01, -8.96834802e-02, -1.49370908e-01,\n",
       "        2.86347221e-01, -3.15668919e-01, -8.34240792e-02, -4.26584337e-01,\n",
       "       -1.48346810e-01,  1.07790786e-01,  2.15762001e-01,  2.58012453e-01,\n",
       "       -2.10801489e-01, -4.01394559e-02,  1.25165769e-01,  2.75130259e-01,\n",
       "       -3.28167694e-01,  1.77222707e-01,  2.84563492e-01, -2.08875125e-01,\n",
       "       -3.54075941e-02,  8.90338146e-02, -2.98169848e-02,  7.01190682e-02,\n",
       "        2.93451200e-01, -3.33616961e-01,  7.81262247e-04,  6.44751411e-02,\n",
       "       -1.43614970e-01, -2.52503995e-01,  1.99102569e-01, -4.38385552e-02,\n",
       "        4.46670745e-02, -1.27471700e-01,  3.53713035e-01, -9.41218805e-02,\n",
       "        3.92790960e-01, -2.48076933e-01, -2.70463458e-01,  1.38796900e-01,\n",
       "        2.49784106e-01, -3.45849586e-01,  1.03342150e-01, -3.22011360e-01,\n",
       "        2.10923117e-02, -1.83108846e-01,  7.34624902e-02, -4.40695663e-01,\n",
       "        3.60076548e-01,  5.68823911e-02,  1.97173465e-02,  3.26103146e-01,\n",
       "       -1.04683132e-01, -1.72850871e-01,  1.57096046e-01, -8.74549052e-02,\n",
       "       -4.01966711e-01, -2.04730057e-01, -3.56612364e-01, -1.76949601e-01,\n",
       "        5.90875188e-02, -2.59055169e-01, -1.98295298e-01,  1.71104379e-01,\n",
       "        3.52176011e-01,  1.89069224e-01, -5.88039995e-02, -1.40233545e-01,\n",
       "       -1.23248059e-01,  1.39246823e-02,  6.85514334e-02,  1.26781287e-01,\n",
       "       -2.19105099e-01, -1.74071416e-01,  1.67971533e-01,  2.87167110e-02,\n",
       "       -1.24823304e-01, -1.66298823e-01, -1.10056977e-01, -2.51690472e-01,\n",
       "        1.35717139e-01,  4.53805379e-01,  1.19804065e-01, -9.91790250e-02,\n",
       "       -8.41266343e-02,  7.27439958e-01,  4.34929954e-02, -1.03582732e-01,\n",
       "        1.84685728e-01, -3.92393473e-01, -1.80904860e-01, -3.60810178e-02,\n",
       "       -1.63518337e-01,  4.83350009e-01, -1.99805367e-01,  1.81557827e-03,\n",
       "        7.17313168e-02, -1.44957589e-01, -4.99747327e-02, -4.57576723e-01,\n",
       "       -2.19842867e-01,  2.10834240e-01, -6.85687681e-02, -2.99183062e-01,\n",
       "       -5.72063677e-01,  5.68611475e-02, -3.14471099e-01,  1.11179895e-01,\n",
       "       -2.90894794e-01,  1.79232509e-01, -4.33502852e-01,  2.60658282e-01,\n",
       "       -1.58590749e-01, -2.30840538e-01, -2.91662852e-01,  2.08864956e-01,\n",
       "       -3.58255384e-02,  2.15648022e-01, -1.47644633e-01, -1.56459600e-01,\n",
       "       -1.80930492e-01, -1.05541115e-03,  2.11878882e-01, -4.23271713e-01,\n",
       "        2.04515658e-01,  7.02743411e-01, -2.07785083e-01,  3.05114736e-02,\n",
       "        2.29379977e-01,  7.05941201e-02, -1.81843558e-01, -2.43011205e-01,\n",
       "       -3.80918483e-01,  2.56691767e-01, -1.89295233e-01,  2.18062428e-01,\n",
       "        1.92121637e-01,  2.42914926e-01, -1.90869893e-01, -1.34599131e-02,\n",
       "       -1.20924516e-01,  3.01834799e-01,  2.51789955e-01, -3.72768030e-01,\n",
       "       -3.49680463e-01, -4.75177449e-01, -1.07658361e-01,  2.77141304e-01,\n",
       "        6.12651357e-02, -2.64384248e-01,  9.95355839e-02,  2.03284016e-01,\n",
       "       -2.37820319e-01, -1.25576277e-01, -1.52561338e-01,  1.23623398e-01,\n",
       "       -2.19730352e-01, -4.06838617e-02,  2.66701386e-01, -9.15740220e-04,\n",
       "       -5.61134833e-02,  1.88180641e-02, -1.49881528e-01, -9.04062588e-02,\n",
       "       -3.55002840e-01,  2.24397059e-01,  3.00891177e-02,  1.56489627e-01,\n",
       "       -8.51284497e-02,  1.67867750e-01,  1.69107895e-02, -1.76766753e-01,\n",
       "       -1.28693704e-01, -1.31469634e-01,  4.52557336e-01,  1.00937798e-03,\n",
       "        9.35461003e-02,  5.76097130e-02,  3.25541871e-02,  1.41348903e-01,\n",
       "       -6.35986556e-01,  2.67405150e-01, -1.38218492e-01,  2.56084602e-02,\n",
       "       -1.32904651e-01,  2.48532155e-01, -2.49251069e-01, -1.27525883e-01,\n",
       "       -2.09420898e-01, -2.67011914e-01, -3.62763158e-01,  3.79811834e-01,\n",
       "        5.15171676e-01, -1.53391694e-01, -1.05696990e-02,  3.06359327e-03,\n",
       "        1.58291469e-01,  2.75448970e-02, -1.24809739e-02, -1.12267317e-01,\n",
       "        2.19047985e-01, -3.52567371e-01, -2.75303757e-02, -1.46411449e-01,\n",
       "       -2.74175051e-01, -2.81000662e-01, -8.05768324e-01, -2.23861088e-01,\n",
       "       -1.58699291e-01,  1.35406117e-01,  2.17376562e-01, -5.83052880e-01])"
      ]
     },
     "execution_count": 18,
     "metadata": {},
     "output_type": "execute_result"
    }
   ],
   "source": [
    "glove.word_vectors[corpus.dictionary[\"선거\"]]"
   ]
  },
  {
   "cell_type": "code",
   "execution_count": 19,
   "metadata": {},
   "outputs": [],
   "source": [
    "mkdir_p(MODEL_PATH)\n",
    "\n",
    "corpus_path = os.path.join(MODEL_PATH, \"corpus-256.model\")\n",
    "model_path = os.path.join(MODEL_PATH, 'glove-256.model')\n",
    "\n",
    "\n",
    "glove.save(model_path)\n",
    "corpus.save(corpus_path)"
   ]
  }
 ],
 "metadata": {
  "colab": {
   "collapsed_sections": [],
   "name": "GloVe.ipynb",
   "provenance": []
  },
  "kernelspec": {
   "display_name": "Python 3",
   "language": "python",
   "name": "python3"
  },
  "language_info": {
   "codemirror_mode": {
    "name": "ipython",
    "version": 3
   },
   "file_extension": ".py",
   "mimetype": "text/x-python",
   "name": "python",
   "nbconvert_exporter": "python",
   "pygments_lexer": "ipython3",
   "version": "3.7.6"
  }
 },
 "nbformat": 4,
 "nbformat_minor": 1
}
