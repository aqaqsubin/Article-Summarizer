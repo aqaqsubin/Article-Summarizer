{
 "cells": [
  {
   "cell_type": "markdown",
   "metadata": {
    "id": "IHwXAgNfJLfu"
   },
   "source": [
    "### **GloVe**  \n",
    "임베딩 벡터의 내적이 말뭉치 전체에서의 동시출현(co-occurrence) 확률 값이 되는 목적 함수를 갖는다.  \n",
    "이를 통해 임베딩 벡터간 유사도 측정을 수월하게 하면서도 말뭉치 전체의 통계 정보를 반영할 수 있다. \n",
    "\n",
    "> **동시 출현 (Co-occurence)** *이란, 한 문장, 문단 또는 텍스트 단위에서 같이 출현한 단어를 가리다. 언어학적 의미에서 의미적 근접성을 가리킨다.*  \n",
    "\n",
    "\n"
   ]
  },
  {
   "cell_type": "code",
   "execution_count": 11,
   "metadata": {},
   "outputs": [
    {
     "name": "stdout",
     "output_type": "stream",
     "text": [
      "Collecting glove_python\n",
      "  Downloading glove_python-0.1.0.tar.gz (263 kB)\n",
      "\u001b[K     |████████████████████████████████| 263 kB 1.2 MB/s eta 0:00:01\n",
      "\u001b[?25hRequirement already satisfied: numpy in /usr/local/lib/python3.6/dist-packages (from glove_python) (1.19.4)\n",
      "Requirement already satisfied: scipy in /usr/local/lib/python3.6/dist-packages (from glove_python) (1.5.4)\n",
      "Building wheels for collected packages: glove-python\n",
      "  Building wheel for glove-python (setup.py) ... \u001b[?25ldone\n",
      "\u001b[?25h  Created wheel for glove-python: filename=glove_python-0.1.0-cp36-cp36m-linux_x86_64.whl size=702684 sha256=876853786a88d51d28caccfc94eb6f4259fd52910ea9b112a5cbdac723b7190f\n",
      "  Stored in directory: /root/.cache/pip/wheels/c2/34/66/a3adc1e41bd5cfe3aa8f75e34b42ca207f8b6e8171b9a4fd61\n",
      "Successfully built glove-python\n",
      "Installing collected packages: glove-python\n",
      "Successfully installed glove-python-0.1.0\n"
     ]
    }
   ],
   "source": [
    "!pip install glove_python"
   ]
  },
  {
   "cell_type": "code",
   "execution_count": 1,
   "metadata": {
    "id": "fTe0cGZ-Kzk4"
   },
   "outputs": [],
   "source": [
    "import os\n",
    "import re"
   ]
  },
  {
   "cell_type": "code",
   "execution_count": 6,
   "metadata": {
    "id": "iUFfM3YiK2de"
   },
   "outputs": [],
   "source": [
    "BASE_DIR = \"/data/TestDir/sample_articles\"\n",
    "ORIGIN_PATH = os.path.join(BASE_DIR,\"Origin-Data\")\n",
    "PREPROCESSED_PATH = os.path.join(BASE_DIR,\"Preprocessed-Data\")\n",
    "PRETTY_PATH = os.path.join(BASE_DIR,\"Pretty-Data\")\n",
    "SWORDS_PATH = os.path.join(BASE_DIR, \"StopWordList.txt\")"
   ]
  },
  {
   "cell_type": "code",
   "execution_count": 7,
   "metadata": {
    "id": "RcYIWysUK32c"
   },
   "outputs": [],
   "source": [
    "class RawTextReader:\n",
    "    def __init__(self, filepath):\n",
    "        self.filepath = filepath\n",
    "        self.rgxSplitter = re.compile(\"/n\")\n",
    "\n",
    "    def __iter__(self):\n",
    "        for line in open(self.filepath, encoding='utf-8'):\n",
    "            ch = self.rgxSplitter.split(line)\n",
    "            for s in ch:\n",
    "                yield s"
   ]
  },
  {
   "cell_type": "markdown",
   "metadata": {
    "id": "6IRlk3_1LnBr"
   },
   "source": [
    "기사 본문 내용이 짧기 때문에, 모델을 학습하기에 corpus의 크기가 작다.  \n",
    "아래는 수집한 기사 87건들을 통해 corpus를 구성하고, GloVe 모델을 구축하는 내용이다."
   ]
  },
  {
   "cell_type": "code",
   "execution_count": 8,
   "metadata": {
    "id": "ZkmT9Y7MK5N9"
   },
   "outputs": [],
   "source": [
    "media_list = os.listdir(ORIGIN_PATH)\n",
    "\n",
    "result = []\n",
    "forCount = []\n",
    "for media in media_list:\n",
    "    media_path = os.path.join(PREPROCESSED_PATH, media)\n",
    "    article_list= os.listdir(media_path)\n",
    "\n",
    "    for article in article_list:\n",
    "        reader = RawTextReader(os.path.join(media_path, article)) \n",
    "        content = list(filter(None, reader))\n",
    "        forCount += [token for sent in content for token in sent.split()]\n",
    "        result += [sent.split() for sent in content]"
   ]
  },
  {
   "cell_type": "code",
   "execution_count": 9,
   "metadata": {
    "colab": {
     "base_uri": "https://localhost:8080/"
    },
    "id": "c0GVPX1-K6st",
    "outputId": "df1a233b-c33d-44ae-ff5c-7113751d5ea6"
   },
   "outputs": [
    {
     "name": "stdout",
     "output_type": "stream",
     "text": [
      "전체 token의 개수 : 19548040\n",
      "중복되지 않은 token의 개수 : 65848\n"
     ]
    }
   ],
   "source": [
    "print(\"전체 token의 개수 : {len}\".format(len=len(forCount)))\n",
    "print(\"중복되지 않은 token의 개수 : {len}\".format(len=len(list(set(forCount)))))"
   ]
  },
  {
   "cell_type": "code",
   "execution_count": 12,
   "metadata": {
    "id": "UiHk8wgQLC1B"
   },
   "outputs": [],
   "source": [
    "from glove import Corpus, Glove\n",
    "\n",
    "corpus = Corpus() \n",
    "corpus.fit(result, window=5)"
   ]
  },
  {
   "cell_type": "code",
   "execution_count": 14,
   "metadata": {
    "colab": {
     "base_uri": "https://localhost:8080/"
    },
    "id": "zCGBCqkjLWaB",
    "outputId": "30d03628-7e51-447f-967d-0567c5eb11dc"
   },
   "outputs": [
    {
     "name": "stdout",
     "output_type": "stream",
     "text": [
      "Performing 20 training epochs with 4 threads\n",
      "Epoch 0\n",
      "Epoch 1\n",
      "Epoch 2\n",
      "Epoch 3\n",
      "Epoch 4\n",
      "Epoch 5\n",
      "Epoch 6\n",
      "Epoch 7\n",
      "Epoch 8\n",
      "Epoch 9\n",
      "Epoch 10\n",
      "Epoch 11\n",
      "Epoch 12\n",
      "Epoch 13\n",
      "Epoch 14\n",
      "Epoch 15\n",
      "Epoch 16\n",
      "Epoch 17\n",
      "Epoch 18\n",
      "Epoch 19\n"
     ]
    }
   ],
   "source": [
    "glove = Glove(no_components=256, learning_rate=0.05)\n",
    "glove.fit(corpus.matrix, epochs=20, no_threads=4, verbose=True)\n",
    "glove.add_dictionary(corpus.dictionary)"
   ]
  },
  {
   "cell_type": "markdown",
   "metadata": {
    "id": "mKZUT2VOLsmW"
   },
   "source": [
    "경찰서장과 비슷한 의미의 단어를 출력한다."
   ]
  },
  {
   "cell_type": "code",
   "execution_count": 15,
   "metadata": {
    "colab": {
     "base_uri": "https://localhost:8080/"
    },
    "id": "eS0HoE8xLFHR",
    "outputId": "7ad30dce-30ed-41f5-9457-bc51d1cd39fd"
   },
   "outputs": [
    {
     "name": "stdout",
     "output_type": "stream",
     "text": [
      "[('양천', 0.6925531446581766), ('대기발령', 0.5270933357081705), ('서장', 0.5150034637360484), ('해양', 0.4759323725838482)]\n"
     ]
    }
   ],
   "source": [
    "model_result1=glove.most_similar(\"경찰서장\")\n",
    "print(model_result1)"
   ]
  },
  {
   "cell_type": "code",
   "execution_count": 16,
   "metadata": {},
   "outputs": [
    {
     "data": {
      "text/plain": [
       "1661"
      ]
     },
     "execution_count": 16,
     "metadata": {},
     "output_type": "execute_result"
    }
   ],
   "source": [
    "corpus.dictionary[\"선거\"]"
   ]
  },
  {
   "cell_type": "code",
   "execution_count": 17,
   "metadata": {},
   "outputs": [
    {
     "data": {
      "text/plain": [
       "array([ 2.70172903e-02,  1.67197564e-01,  1.73049951e-01, -6.23310782e-03,\n",
       "       -6.02483058e-02, -1.84471898e-01,  1.31673083e-01,  1.46047676e-01,\n",
       "        1.49314556e-04, -2.89789628e-01,  3.50302149e-01, -8.34658024e-02,\n",
       "        8.70119231e-02, -1.99333414e-01, -4.77659310e-03,  2.55370037e-01,\n",
       "       -2.72165170e-01, -3.38512198e-01,  1.19463268e-01, -2.79355976e-01,\n",
       "       -3.54784739e-02,  3.75653262e-01,  5.87157234e-02,  2.16822994e-01,\n",
       "        1.62379695e-01,  1.99915507e-01,  3.08079690e-01,  2.34915019e-01,\n",
       "       -1.87148692e-01, -7.28886458e-01,  1.71268852e-01, -9.58869891e-02,\n",
       "        1.26352108e-01, -2.96362534e-01,  1.57702211e-01, -1.03395183e-01,\n",
       "        4.49418497e-01,  6.06407338e-02,  1.21100642e-01,  2.13591248e-01,\n",
       "       -3.57948520e-01,  3.15358655e-02, -6.12248460e-02, -2.22062260e-02,\n",
       "       -2.54632950e-01, -2.05229810e-01,  2.81409816e-01, -5.05663796e-01,\n",
       "       -1.97800634e-01, -7.06107938e-03,  4.84326255e-01, -9.02174402e-02,\n",
       "        2.21760891e-01, -5.11539548e-02,  1.12586456e-01, -4.89414315e-01,\n",
       "        3.49800097e-01, -2.63620110e-01, -6.20749658e-02, -6.86416160e-02,\n",
       "       -4.47009417e-02, -2.55010131e-01,  4.03961573e-01,  1.96875459e-01,\n",
       "        5.12246617e-01, -9.65513745e-02,  7.48525996e-02, -1.49117267e-02,\n",
       "       -1.42062296e-01,  6.01858674e-02,  1.10001968e-01, -2.54559132e-01,\n",
       "        4.84505417e-02, -6.74279847e-02, -2.12736233e-01, -1.58456737e-01,\n",
       "       -3.44528110e-02,  7.04012599e-02,  2.18742482e-01,  2.18938985e-01,\n",
       "       -3.95789006e-01,  5.30015139e-01, -1.15068468e-01, -2.61109815e-01,\n",
       "        6.68479715e-02, -4.36452703e-02,  3.56061897e-01,  1.39689278e-01,\n",
       "        9.62458706e-02,  1.14265745e-01, -3.04967130e-01, -2.25248678e-02,\n",
       "       -2.38950987e-01, -7.00017709e-01, -6.21689255e-02, -1.30560925e-01,\n",
       "       -1.78273457e-01,  5.22564437e-02, -1.72699713e-01,  7.77540499e-02,\n",
       "        2.43498600e-01, -1.14031100e-01, -5.33135324e-02, -9.22798908e-02,\n",
       "        4.38169822e-02,  1.23107153e-01, -1.66678859e-01,  6.71705742e-01,\n",
       "        1.00391160e-01, -1.08888849e-01, -5.73425948e-03,  5.89505871e-01,\n",
       "        2.55005518e-01,  1.98072280e-01,  3.85189609e-01,  3.21105161e-01,\n",
       "       -5.75510443e-02,  2.01438453e-01,  3.07511211e-01,  4.98865847e-02,\n",
       "        4.27285954e-01, -4.33602243e-01, -3.36104935e-02,  2.74072253e-01,\n",
       "        2.02169579e-01, -4.71125523e-01, -2.89682928e-01, -2.02894027e-01,\n",
       "        1.45364206e-01,  1.68158399e-01,  1.16918886e-01,  1.37329409e-01,\n",
       "        1.44860500e-01,  1.67369271e-01,  1.78929413e-01, -2.55228358e-01,\n",
       "       -2.05306099e-01,  1.46684495e-01,  4.22136940e-02, -9.82263113e-02,\n",
       "        3.35931544e-01,  3.56215251e-01,  2.09757843e-01, -1.29382125e-01,\n",
       "        5.40467185e-03,  3.86574723e-02, -1.18905981e-01,  2.35712998e-02,\n",
       "        9.24607627e-02,  2.83197191e-02,  4.73842637e-01, -1.12834075e-01,\n",
       "       -1.58437329e-01,  1.19057424e-01,  2.15847260e-01, -9.59367485e-02,\n",
       "       -1.82002186e-01, -3.11875545e-01,  1.12076546e-01, -9.88469156e-02,\n",
       "       -4.10206635e-01,  2.84485948e-01, -4.83833540e-01, -9.64701723e-03,\n",
       "       -2.42712784e-01, -1.66275818e-01, -7.52828699e-02,  1.07684296e-01,\n",
       "        1.91806356e-01,  3.74664168e-01, -1.58641355e-01,  5.61730011e-02,\n",
       "       -7.61876058e-02,  1.10310964e-01, -5.02607473e-02,  3.75258755e-01,\n",
       "        3.43635080e-01, -2.36088646e-01,  5.94761277e-01,  6.94428174e-01,\n",
       "       -3.28438460e-01,  6.61021200e-02, -4.01488568e-01, -9.89691444e-02,\n",
       "        3.03361062e-01,  9.15853339e-02,  4.46575880e-01,  5.09682966e-02,\n",
       "        1.39263298e-01, -2.49586930e-02,  3.58792772e-01,  3.69719648e-01,\n",
       "        4.99128469e-03, -2.60841194e-01, -2.21597934e-03,  1.17363558e-01,\n",
       "       -1.94469130e-01,  9.56044479e-02, -1.16496807e-02, -3.95161322e-01,\n",
       "       -3.70407820e-01,  1.51182931e-01, -2.60837537e-01, -4.85167165e-01,\n",
       "       -3.13813877e-01,  7.18761371e-02, -8.80537614e-02, -1.37030272e-01,\n",
       "        5.55397337e-01, -2.73193780e-01,  3.72505264e-02, -9.03313259e-02,\n",
       "        4.48441077e-02, -1.51473059e-02, -9.55837908e-02,  4.17457722e-02,\n",
       "        5.36081433e-02, -6.28089489e-02, -5.49586920e-02,  1.44960072e-01,\n",
       "       -2.22484511e-01, -2.25252763e-01, -9.94127711e-02, -8.32910335e-02,\n",
       "       -2.34937416e-01,  2.29093239e-01, -6.94169613e-02,  2.09647414e-01,\n",
       "       -1.00441311e-01,  6.50659167e-02,  1.78880231e-02, -2.12674808e-01,\n",
       "       -1.81070235e-01, -3.45206340e-01, -2.54203197e-01,  2.98685657e-02,\n",
       "       -1.50951163e-01,  1.98257761e-01,  4.61909475e-02,  3.77745631e-01,\n",
       "       -5.55522421e-01, -8.09027072e-02,  1.27185974e-01,  4.23647668e-01,\n",
       "        3.13298448e-01,  3.75209695e-01,  8.55015497e-02, -2.91019581e-01,\n",
       "       -2.48834517e-02, -5.33366413e-01, -1.76957413e-01, -9.98499033e-02,\n",
       "        2.78865598e-01,  1.34527662e-01, -1.47526620e-01, -1.69614944e-01])"
      ]
     },
     "execution_count": 17,
     "metadata": {},
     "output_type": "execute_result"
    }
   ],
   "source": [
    "glove.word_vectors[corpus.dictionary[\"선거\"]]"
   ]
  },
  {
   "cell_type": "code",
   "execution_count": 19,
   "metadata": {},
   "outputs": [],
   "source": [
    "glove.save('glove-256.model')\n",
    "corpus.save('corpus-256.model')"
   ]
  }
 ],
 "metadata": {
  "colab": {
   "collapsed_sections": [],
   "name": "GloVe.ipynb",
   "provenance": []
  },
  "kernelspec": {
   "display_name": "Python 3",
   "language": "python",
   "name": "python3"
  },
  "language_info": {
   "codemirror_mode": {
    "name": "ipython",
    "version": 3
   },
   "file_extension": ".py",
   "mimetype": "text/x-python",
   "name": "python",
   "nbconvert_exporter": "python",
   "pygments_lexer": "ipython3",
   "version": "3.6.9"
  }
 },
 "nbformat": 4,
 "nbformat_minor": 1
}
