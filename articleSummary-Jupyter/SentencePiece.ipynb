{
 "cells": [
  {
   "cell_type": "code",
   "execution_count": null,
   "metadata": {
    "id": "b1YFB2s2sBBN"
   },
   "outputs": [],
   "source": [
    "import os\n",
    "import re\n",
    "import csv\n",
    "from glob import iglob\n",
    "from pathlib import Path\n",
    "import numpy as np"
   ]
  },
  {
   "cell_type": "code",
   "execution_count": null,
   "metadata": {
    "id": "8tB4In3YsLDv"
   },
   "outputs": [],
   "source": [
    "BASE_DIR = \"/docker/data/ksb/TestDir/\"\n",
    "DATA_BASE_DIR = os.path.join(BASE_DIR, \"articles\")\n",
    "\n",
    "ORIGIN_PATH = os.path.join(DATA_BASE_DIR,\"Origin-Data\")\n",
    "PREPROCESSED_PATH = os.path.join(DATA_BASE_DIR,\"Preprocessed-Data\")\n",
    "PRETTY_PATH = os.path.join(DATA_BASE_DIR,\"Pretty-Data\")\n",
    "SUMMARY_PREPROCESSED_PATH = os.path.join(DATA_BASE_DIR,\"Summary-Preprocessed-Data\")\n",
    "SWORDS_PATH = os.path.join(DATA_BASE_DIR, \"StopWordList.txt\")\n",
    "MODEL_PATH = os.path.join(BASE_DIR, \"Word-Embedding-Model\")"
   ]
  },
  {
   "cell_type": "code",
   "execution_count": null,
   "metadata": {
    "id": "vgNasGwPsQ02"
   },
   "outputs": [],
   "source": [
    "def mkdir_p(path):\n",
    "    import errno\n",
    "    try:\n",
    "        os.makedirs(path)\n",
    "    except OSError as exc:\n",
    "        if exc.errno == errno.EEXIST and os.path.isdir(path):\n",
    "            pass\n",
    "        else:\n",
    "            raise\n"
   ]
  },
  {
   "cell_type": "code",
   "execution_count": null,
   "metadata": {
    "id": "_t1EbCU_sQ3H"
   },
   "outputs": [],
   "source": [
    "file_name = \"SentencePiece_train.txt\"\n",
    "result = []\n",
    "\n",
    "for idx, proc_article_path in enumerate(iglob(os.path.join(PREPROCESSED_PATH, '**.csv'), recursive=False)):\n",
    "    \n",
    "    f_proc= open(proc_article_path, 'r', newline=\"\\n\", encoding=\"utf-8\")\n",
    "    for [idx, title, contents] in csv.reader(f_proc):\n",
    "        if contents is '': continue\n",
    "\n",
    "        cont_list = contents.split(\"\\t\")\n",
    "        result.append('\\n'.join(cont_list))\n",
    "    f_proc.close()\n",
    "\n",
    "with open(file_name, 'w', encoding='utf-8') as f:\n",
    "    f.write('\\n'.join(result))"
   ]
  },
  {
   "cell_type": "code",
   "execution_count": null,
   "metadata": {
    "id": "GLrzCKgjsQ88"
   },
   "outputs": [],
   "source": [
    "templates= '--input={} \\\n",
    "--pad_id={} \\\n",
    "--bos_id={} \\\n",
    "--eos_id={} \\\n",
    "--unk_id={} \\\n",
    "--model_prefix={} \\\n",
    "--vocab_size={} \\\n",
    "--character_coverage={} \\\n",
    "--model_type={}'"
   ]
  },
  {
   "cell_type": "code",
   "execution_count": null,
   "metadata": {
    "id": "LTzu0QI3sRCQ"
   },
   "outputs": [],
   "source": [
    "pad_id=0  \n",
    "vocab_size = 70000 \n",
    "model_num = len(list(iglob('**.vocab', recursive=False)))\n",
    "prefix = 'spm-{}'.format(model_num) \n",
    "bos_id=1\n",
    "eos_id=2\n",
    "unk_id=3\n",
    "character_coverage = 1.0\n",
    "model_type ='word' "
   ]
  },
  {
   "cell_type": "code",
   "execution_count": null,
   "metadata": {
    "colab": {
     "base_uri": "https://localhost:8080/",
     "height": 35
    },
    "id": "kdnRANEysRE8",
    "outputId": "bb2ce258-2d93-47ff-fd6c-2bfbc45adac2"
   },
   "outputs": [
    {
     "data": {
      "application/vnd.google.colaboratory.intrinsic+json": {
       "type": "string"
      },
      "text/plain": [
       "'--input=SentencePiece_train.txt --pad_id=0 --bos_id=1 --eos_id=2 --unk_id=3 --model_prefix=spm-2 --vocab_size=70000 --character_coverage=1.0 --model_type=word'"
      ]
     },
     "execution_count": 28,
     "metadata": {
      "tags": []
     },
     "output_type": "execute_result"
    }
   ],
   "source": [
    "cmd = templates.format(file_name,\n",
    "                pad_id,\n",
    "                bos_id,\n",
    "                eos_id,\n",
    "                unk_id,\n",
    "                prefix,\n",
    "                vocab_size,\n",
    "                character_coverage,\n",
    "                model_type)\n",
    "cmd"
   ]
  },
  {
   "cell_type": "code",
   "execution_count": null,
   "metadata": {
    "id": "1fycvGvktw2D"
   },
   "outputs": [],
   "source": [
    "import sentencepiece as spm\n",
    "spm.SentencePieceTrainer.Train(cmd)"
   ]
  }
 ],
 "metadata": {
  "colab": {
   "name": "SentencePiece.ipynb의 사본",
   "provenance": []
  },
  "kernelspec": {
   "display_name": "Python 3",
   "language": "python",
   "name": "python3"
  },
  "language_info": {
   "codemirror_mode": {
    "name": "ipython",
    "version": 3
   },
   "file_extension": ".py",
   "mimetype": "text/x-python",
   "name": "python",
   "nbconvert_exporter": "python",
   "pygments_lexer": "ipython3",
   "version": "3.7.6"
  }
 },
 "nbformat": 4,
 "nbformat_minor": 1
}
