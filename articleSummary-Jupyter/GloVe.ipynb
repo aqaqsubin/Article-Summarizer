{
  "nbformat": 4,
  "nbformat_minor": 0,
  "metadata": {
    "colab": {
      "name": "GloVe.ipynb",
      "provenance": [],
      "collapsed_sections": []
    },
    "kernelspec": {
      "name": "python3",
      "display_name": "Python 3"
    }
  },
  "cells": [
    {
      "cell_type": "markdown",
      "metadata": {
        "id": "IHwXAgNfJLfu"
      },
      "source": [
        "### **GloVe**  \n",
        "임베딩 벡터의 내적이 말뭉치 전체에서의 동시출현(co-occurrence) 확률 값이 되는 목적 함수를 갖는다.  \n",
        "이를 통해 임베딩 벡터간 유사도 측정을 수월하게 하면서도 말뭉치 전체의 통계 정보를 반영할 수 있다. \n",
        "\n",
        "> **동시 출현 (Co-occurence)** *이란, 한 문장, 문단 또는 텍스트 단위에서 같이 출현한 단어를 가리다. 언어학적 의미에서 의미적 근접성을 가리킨다.*  \n",
        "\n",
        "\n"
      ]
    },
    {
      "cell_type": "code",
      "metadata": {
        "colab": {
          "base_uri": "https://localhost:8080/"
        },
        "id": "qNHIOhT2I9Gs",
        "outputId": "aade8e1d-d764-4db5-d937-80878a58ffe2"
      },
      "source": [
        "!pip install glove_python"
      ],
      "execution_count": 1,
      "outputs": [
        {
          "output_type": "stream",
          "text": [
            "Collecting glove_python\n",
            "\u001b[?25l  Downloading https://files.pythonhosted.org/packages/3e/79/7e7e548dd9dcb741935d031117f4bed133276c2a047aadad42f1552d1771/glove_python-0.1.0.tar.gz (263kB)\n",
            "\r\u001b[K     |█▎                              | 10kB 6.8MB/s eta 0:00:01\r\u001b[K     |██▌                             | 20kB 9.3MB/s eta 0:00:01\r\u001b[K     |███▊                            | 30kB 6.1MB/s eta 0:00:01\r\u001b[K     |█████                           | 40kB 3.0MB/s eta 0:00:01\r\u001b[K     |██████▎                         | 51kB 3.7MB/s eta 0:00:01\r\u001b[K     |███████▌                        | 61kB 4.0MB/s eta 0:00:01\r\u001b[K     |████████▊                       | 71kB 4.3MB/s eta 0:00:01\r\u001b[K     |██████████                      | 81kB 4.5MB/s eta 0:00:01\r\u001b[K     |███████████▏                    | 92kB 4.7MB/s eta 0:00:01\r\u001b[K     |████████████▌                   | 102kB 5.0MB/s eta 0:00:01\r\u001b[K     |█████████████▊                  | 112kB 5.0MB/s eta 0:00:01\r\u001b[K     |███████████████                 | 122kB 5.0MB/s eta 0:00:01\r\u001b[K     |████████████████▏               | 133kB 5.0MB/s eta 0:00:01\r\u001b[K     |█████████████████▍              | 143kB 5.0MB/s eta 0:00:01\r\u001b[K     |██████████████████▊             | 153kB 5.0MB/s eta 0:00:01\r\u001b[K     |████████████████████            | 163kB 5.0MB/s eta 0:00:01\r\u001b[K     |█████████████████████▏          | 174kB 5.0MB/s eta 0:00:01\r\u001b[K     |██████████████████████▍         | 184kB 5.0MB/s eta 0:00:01\r\u001b[K     |███████████████████████▋        | 194kB 5.0MB/s eta 0:00:01\r\u001b[K     |█████████████████████████       | 204kB 5.0MB/s eta 0:00:01\r\u001b[K     |██████████████████████████▏     | 215kB 5.0MB/s eta 0:00:01\r\u001b[K     |███████████████████████████▍    | 225kB 5.0MB/s eta 0:00:01\r\u001b[K     |████████████████████████████▋   | 235kB 5.0MB/s eta 0:00:01\r\u001b[K     |█████████████████████████████▉  | 245kB 5.0MB/s eta 0:00:01\r\u001b[K     |███████████████████████████████▏| 256kB 5.0MB/s eta 0:00:01\r\u001b[K     |████████████████████████████████| 266kB 5.0MB/s \n",
            "\u001b[?25hRequirement already satisfied: numpy in /usr/local/lib/python3.6/dist-packages (from glove_python) (1.19.5)\n",
            "Requirement already satisfied: scipy in /usr/local/lib/python3.6/dist-packages (from glove_python) (1.4.1)\n",
            "Building wheels for collected packages: glove-python\n",
            "  Building wheel for glove-python (setup.py) ... \u001b[?25l\u001b[?25hdone\n",
            "  Created wheel for glove-python: filename=glove_python-0.1.0-cp36-cp36m-linux_x86_64.whl size=700271 sha256=38af035eb4b1990f512b5b024ea5c700069a772fe97fbe49022a2fdfc4a4be7e\n",
            "  Stored in directory: /root/.cache/pip/wheels/88/4b/6d/10c0d2ad32c9d9d68beec9694a6f0b6e83ab1662a90a089a4b\n",
            "Successfully built glove-python\n",
            "Installing collected packages: glove-python\n",
            "Successfully installed glove-python-0.1.0\n"
          ],
          "name": "stdout"
        }
      ]
    },
    {
      "cell_type": "code",
      "metadata": {
        "id": "fTe0cGZ-Kzk4"
      },
      "source": [
        "import os\n",
        "import re"
      ],
      "execution_count": 2,
      "outputs": []
    },
    {
      "cell_type": "code",
      "metadata": {
        "colab": {
          "base_uri": "https://localhost:8080/"
        },
        "id": "OCc74-RtK1LY",
        "outputId": "fb17ebf8-19d4-425e-e985-0c999b9d5699"
      },
      "source": [
        "from google.colab import drive\n",
        "drive.mount('/content/gdrive')"
      ],
      "execution_count": 3,
      "outputs": [
        {
          "output_type": "stream",
          "text": [
            "Mounted at /content/gdrive\n"
          ],
          "name": "stdout"
        }
      ]
    },
    {
      "cell_type": "code",
      "metadata": {
        "id": "iUFfM3YiK2de"
      },
      "source": [
        "BASE_DIR = \"/content/gdrive/My Drive/Colab Notebooks/ETRI_Article_Summarizer/Text-preprocessing-Data/articles\"\n",
        "ORIGIN_PATH = os.path.join(BASE_DIR,\"Origin-Data\")\n",
        "PREPROCESSED_PATH = os.path.join(BASE_DIR,\"Preprocessed-Data\")\n",
        "PRETTY_PATH = os.path.join(BASE_DIR,\"Pretty-Data\")\n",
        "SWORDS_PATH = os.path.join(BASE_DIR, \"StopWordList.txt\")"
      ],
      "execution_count": 4,
      "outputs": []
    },
    {
      "cell_type": "code",
      "metadata": {
        "id": "RcYIWysUK32c"
      },
      "source": [
        "class RawTextReader:\n",
        "    def __init__(self, filepath):\n",
        "        self.filepath = filepath\n",
        "        self.rgxSplitter = re.compile(\"/n\")\n",
        "\n",
        "    def __iter__(self):\n",
        "        for line in open(self.filepath, encoding='utf-8'):\n",
        "            ch = self.rgxSplitter.split(line)\n",
        "            for s in ch:\n",
        "                yield s"
      ],
      "execution_count": 5,
      "outputs": []
    },
    {
      "cell_type": "markdown",
      "metadata": {
        "id": "6IRlk3_1LnBr"
      },
      "source": [
        "기사 본문 내용이 짧기 때문에, 모델을 학습하기에 corpus의 크기가 작다.  \n",
        "아래는 수집한 기사 87건들을 통해 corpus를 구성하고, GloVe 모델을 구축하는 내용이다."
      ]
    },
    {
      "cell_type": "code",
      "metadata": {
        "id": "ZkmT9Y7MK5N9"
      },
      "source": [
        "media_list = os.listdir(ORIGIN_PATH)\n",
        "\n",
        "result = []\n",
        "forCount = []\n",
        "for media in media_list:\n",
        "    media_path = os.path.join(PREPROCESSED_PATH, media)\n",
        "    article_list= os.listdir(media_path)\n",
        "\n",
        "    for article in article_list:\n",
        "        reader = RawTextReader(os.path.join(media_path, article)) \n",
        "        content = list(filter(None, reader))\n",
        "        forCount += [token for sent in content for token in sent.split()]\n",
        "        result += [sent.split() for sent in content]"
      ],
      "execution_count": 6,
      "outputs": []
    },
    {
      "cell_type": "code",
      "metadata": {
        "colab": {
          "base_uri": "https://localhost:8080/"
        },
        "id": "c0GVPX1-K6st",
        "outputId": "df1a233b-c33d-44ae-ff5c-7113751d5ea6"
      },
      "source": [
        "print(\"전체 token의 개수 : {len}\".format(len=len(forCount)))\n",
        "print(\"중복되지 않은 token의 개수 : {len}\".format(len=len(list(set(forCount)))))"
      ],
      "execution_count": 7,
      "outputs": [
        {
          "output_type": "stream",
          "text": [
            "전체 token의 개수 : 15668\n",
            "중복되지 않은 token의 개수 : 2877\n"
          ],
          "name": "stdout"
        }
      ]
    },
    {
      "cell_type": "code",
      "metadata": {
        "id": "UiHk8wgQLC1B"
      },
      "source": [
        "from glove import Corpus, Glove\n",
        "\n",
        "corpus = Corpus() \n",
        "corpus.fit(result, window=5)"
      ],
      "execution_count": 8,
      "outputs": []
    },
    {
      "cell_type": "code",
      "metadata": {
        "colab": {
          "base_uri": "https://localhost:8080/"
        },
        "id": "zCGBCqkjLWaB",
        "outputId": "30d03628-7e51-447f-967d-0567c5eb11dc"
      },
      "source": [
        "glove = Glove(no_components=100, learning_rate=0.05)\n",
        "glove.fit(corpus.matrix, epochs=20, no_threads=4, verbose=True)\n",
        "glove.add_dictionary(corpus.dictionary)"
      ],
      "execution_count": 10,
      "outputs": [
        {
          "output_type": "stream",
          "text": [
            "Performing 20 training epochs with 4 threads\n",
            "Epoch 0\n",
            "Epoch 1\n",
            "Epoch 2\n",
            "Epoch 3\n",
            "Epoch 4\n",
            "Epoch 5\n",
            "Epoch 6\n",
            "Epoch 7\n",
            "Epoch 8\n",
            "Epoch 9\n",
            "Epoch 10\n",
            "Epoch 11\n",
            "Epoch 12\n",
            "Epoch 13\n",
            "Epoch 14\n",
            "Epoch 15\n",
            "Epoch 16\n",
            "Epoch 17\n",
            "Epoch 18\n",
            "Epoch 19\n"
          ],
          "name": "stdout"
        }
      ]
    },
    {
      "cell_type": "markdown",
      "metadata": {
        "id": "mKZUT2VOLsmW"
      },
      "source": [
        "경찰서장과 비슷한 의미의 단어를 출력한다."
      ]
    },
    {
      "cell_type": "code",
      "metadata": {
        "colab": {
          "base_uri": "https://localhost:8080/"
        },
        "id": "eS0HoE8xLFHR",
        "outputId": "7ad30dce-30ed-41f5-9457-bc51d1cd39fd"
      },
      "source": [
        "model_result1=glove.most_similar(\"경찰서장\")\n",
        "print(model_result1)"
      ],
      "execution_count": 13,
      "outputs": [
        {
          "output_type": "stream",
          "text": [
            "[('서장', 0.866163212925113), ('보고', 0.8591953308235412), ('병력', 0.8552500263463577), ('8월', 0.8545198920836846)]\n"
          ],
          "name": "stdout"
        }
      ]
    }
  ]
}