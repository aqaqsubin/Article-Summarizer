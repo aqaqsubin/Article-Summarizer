{
 "cells": [
  {
   "cell_type": "markdown",
   "metadata": {
    "id": "IHwXAgNfJLfu"
   },
   "source": [
    "### **GloVe**  \n",
    "임베딩 벡터의 내적이 말뭉치 전체에서의 동시출현(co-occurrence) 확률 값이 되는 목적 함수를 갖는다.  \n",
    "이를 통해 임베딩 벡터간 유사도 측정을 수월하게 하면서도 말뭉치 전체의 통계 정보를 반영할 수 있다. \n",
    "\n",
    "> **동시 출현 (Co-occurence)** *이란, 한 문장, 문단 또는 텍스트 단위에서 같이 출현한 단어를 가리다. 언어학적 의미에서 의미적 근접성을 가리킨다.*  \n",
    "\n",
    "\n"
   ]
  },
  {
   "cell_type": "code",
   "execution_count": 8,
   "metadata": {},
   "outputs": [
    {
     "name": "stdout",
     "output_type": "stream",
     "text": [
      "Collecting glove_python\n",
      "\u001b[?25l  Downloading https://files.pythonhosted.org/packages/3e/79/7e7e548dd9dcb741935d031117f4bed133276c2a047aadad42f1552d1771/glove_python-0.1.0.tar.gz (263kB)\n",
      "\u001b[K    100% |################################| 266kB 639kB/s ta 0:00:01\n",
      "\u001b[?25hRequirement already satisfied: numpy in /usr/local/lib/python3.6/dist-packages (from glove_python) (1.14.3)\n",
      "Requirement already satisfied: scipy in /usr/local/lib/python3.6/dist-packages (from glove_python) (1.0.1)\n",
      "Building wheels for collected packages: glove-python\n",
      "  Running setup.py bdist_wheel for glove-python ... \u001b[?25ldone\n",
      "\u001b[?25h  Stored in directory: /root/.cache/pip/wheels/88/4b/6d/10c0d2ad32c9d9d68beec9694a6f0b6e83ab1662a90a089a4b\n",
      "Successfully built glove-python\n",
      "Installing collected packages: glove-python\n",
      "Successfully installed glove-python-0.1.0\n",
      "\u001b[33mYou are using pip version 10.0.1, however version 20.3.3 is available.\n",
      "You should consider upgrading via the 'pip install --upgrade pip' command.\u001b[0m\n"
     ]
    }
   ],
   "source": [
    "!pip install glove_python"
   ]
  },
  {
   "cell_type": "code",
   "execution_count": 1,
   "metadata": {
    "id": "fTe0cGZ-Kzk4"
   },
   "outputs": [],
   "source": [
    "import os\n",
    "import re"
   ]
  },
  {
   "cell_type": "code",
   "execution_count": 2,
   "metadata": {
    "id": "iUFfM3YiK2de"
   },
   "outputs": [],
   "source": [
    "BASE_DIR = \"/data/TestDir/sample_articles\"\n",
    "ORIGIN_PATH = os.path.join(BASE_DIR,\"Origin-Data\")\n",
    "PREPROCESSED_PATH = os.path.join(BASE_DIR,\"Preprocessed-Train-Data\")\n",
    "PRETTY_PATH = os.path.join(BASE_DIR,\"Pretty-Data\")\n",
    "SWORDS_PATH = os.path.join(BASE_DIR, \"StopWordList.txt\")"
   ]
  },
  {
   "cell_type": "code",
   "execution_count": 3,
   "metadata": {
    "id": "RcYIWysUK32c"
   },
   "outputs": [],
   "source": [
    "class RawTextReader:\n",
    "    def __init__(self, filepath):\n",
    "        self.filepath = filepath\n",
    "        self.rgxSplitter = re.compile(\"/n\")\n",
    "\n",
    "    def __iter__(self):\n",
    "        for line in open(self.filepath, encoding='utf-8'):\n",
    "            ch = self.rgxSplitter.split(line)\n",
    "            for s in ch:\n",
    "                yield s"
   ]
  },
  {
   "cell_type": "markdown",
   "metadata": {
    "id": "6IRlk3_1LnBr"
   },
   "source": [
    "기사 본문 내용이 짧기 때문에, 모델을 학습하기에 corpus의 크기가 작다.  \n",
    "아래는 수집한 기사 87건들을 통해 corpus를 구성하고, GloVe 모델을 구축하는 내용이다."
   ]
  },
  {
   "cell_type": "code",
   "execution_count": 4,
   "metadata": {
    "id": "ZkmT9Y7MK5N9"
   },
   "outputs": [],
   "source": [
    "media_list = os.listdir(ORIGIN_PATH)\n",
    "\n",
    "result = []\n",
    "forCount = []\n",
    "for media in media_list:\n",
    "    media_path = os.path.join(PREPROCESSED_PATH, media)\n",
    "    article_list= os.listdir(media_path)\n",
    "\n",
    "    for article in article_list:\n",
    "        reader = RawTextReader(os.path.join(media_path, article)) \n",
    "        content = list(filter(None, reader))\n",
    "        forCount += [token for sent in content for token in sent.split()]\n",
    "        result += [sent.split() for sent in content]"
   ]
  },
  {
   "cell_type": "code",
   "execution_count": 5,
   "metadata": {
    "colab": {
     "base_uri": "https://localhost:8080/"
    },
    "id": "c0GVPX1-K6st",
    "outputId": "df1a233b-c33d-44ae-ff5c-7113751d5ea6"
   },
   "outputs": [
    {
     "name": "stdout",
     "output_type": "stream",
     "text": [
      "전체 token의 개수 : 22341223\n",
      "중복되지 않은 token의 개수 : 1107954\n"
     ]
    }
   ],
   "source": [
    "print(\"전체 token의 개수 : {len}\".format(len=len(forCount)))\n",
    "print(\"중복되지 않은 token의 개수 : {len}\".format(len=len(list(set(forCount)))))"
   ]
  },
  {
   "cell_type": "code",
   "execution_count": 6,
   "metadata": {
    "id": "UiHk8wgQLC1B"
   },
   "outputs": [],
   "source": [
    "from glove import Corpus, Glove\n",
    "\n",
    "corpus = Corpus() \n",
    "corpus.fit(result, window=5)"
   ]
  },
  {
   "cell_type": "code",
   "execution_count": 7,
   "metadata": {
    "colab": {
     "base_uri": "https://localhost:8080/"
    },
    "id": "zCGBCqkjLWaB",
    "outputId": "30d03628-7e51-447f-967d-0567c5eb11dc"
   },
   "outputs": [
    {
     "name": "stdout",
     "output_type": "stream",
     "text": [
      "Performing 20 training epochs with 4 threads\n",
      "Epoch 0\n",
      "Epoch 1\n",
      "Epoch 2\n",
      "Epoch 3\n",
      "Epoch 4\n",
      "Epoch 5\n",
      "Epoch 6\n",
      "Epoch 7\n",
      "Epoch 8\n",
      "Epoch 9\n",
      "Epoch 10\n",
      "Epoch 11\n",
      "Epoch 12\n",
      "Epoch 13\n",
      "Epoch 14\n",
      "Epoch 15\n",
      "Epoch 16\n",
      "Epoch 17\n",
      "Epoch 18\n",
      "Epoch 19\n"
     ]
    }
   ],
   "source": [
    "glove = Glove(no_components=200, learning_rate=0.05)\n",
    "glove.fit(corpus.matrix, epochs=20, no_threads=4, verbose=True)\n",
    "glove.add_dictionary(corpus.dictionary)"
   ]
  },
  {
   "cell_type": "markdown",
   "metadata": {
    "id": "mKZUT2VOLsmW"
   },
   "source": [
    "경찰서장과 비슷한 의미의 단어를 출력한다."
   ]
  },
  {
   "cell_type": "code",
   "execution_count": 8,
   "metadata": {
    "colab": {
     "base_uri": "https://localhost:8080/"
    },
    "id": "eS0HoE8xLFHR",
    "outputId": "7ad30dce-30ed-41f5-9457-bc51d1cd39fd"
   },
   "outputs": [
    {
     "name": "stdout",
     "output_type": "stream",
     "text": [
      "[('수사부서', 0.6236909482840811), ('기독교연합회와', 0.6033180549165632), ('수상구조요원인', 0.5983877412963312), ('기초의회', 0.5959063945199705)]\n"
     ]
    }
   ],
   "source": [
    "model_result1=glove.most_similar(\"경찰서장\")\n",
    "print(model_result1)"
   ]
  },
  {
   "cell_type": "code",
   "execution_count": 9,
   "metadata": {},
   "outputs": [
    {
     "data": {
      "text/plain": [
       "3072"
      ]
     },
     "execution_count": 9,
     "metadata": {},
     "output_type": "execute_result"
    }
   ],
   "source": [
    "corpus.dictionary[\"선거\"]"
   ]
  },
  {
   "cell_type": "code",
   "execution_count": 10,
   "metadata": {},
   "outputs": [
    {
     "data": {
      "text/plain": [
       "array([ 0.06303776,  0.05700019,  0.04617693,  0.17130899,  0.06943382,\n",
       "       -0.20363614,  0.15986702, -0.23750177,  0.28243793, -0.1126716 ,\n",
       "        0.0886102 , -0.51966616,  0.21145841,  0.04030291,  0.17507126,\n",
       "        0.15365178, -0.15072383, -0.03902845, -0.11481738,  0.19849852,\n",
       "       -0.04235334,  0.39487534,  0.12554683, -0.06884584, -0.21005472,\n",
       "       -0.19213453, -0.11654341,  0.33835562,  0.11690027, -0.2564735 ,\n",
       "       -0.29624159, -0.18076293, -0.04449766, -0.34280119, -0.08787836,\n",
       "       -0.12624342, -0.58436858,  0.23907736,  0.046183  , -0.29745364,\n",
       "        0.04234594, -0.04546714,  0.18953674,  0.37055585, -0.1232256 ,\n",
       "       -0.18789383, -0.0531504 , -0.27529275,  0.04858228,  0.12225939,\n",
       "        0.19713014, -0.25655382,  0.35489026, -0.21235655,  0.19887241,\n",
       "        0.05397323, -0.15157383,  0.00448871,  0.22226837, -0.03100519,\n",
       "        0.25063835, -0.12600123, -0.28626565,  0.25301813,  0.17118094,\n",
       "        0.13162828, -0.32282249,  0.43611876,  0.3084216 ,  0.07222734,\n",
       "       -0.00479907, -0.07969074, -0.03583574, -0.18273302,  0.18511823,\n",
       "        0.08744612,  0.15158255, -0.33308811, -0.08289912, -0.21626624,\n",
       "        0.28464857, -0.05174566, -0.31339947,  0.22188685, -0.13987885,\n",
       "       -0.13365141,  0.39022243,  0.28156018,  0.0584896 ,  0.05156348,\n",
       "        0.21870676, -0.04287328, -0.28609104,  0.22041847,  0.03323923,\n",
       "        0.2857326 ,  0.05352413, -0.02554429,  0.1295897 , -0.17374978,\n",
       "       -0.11334136,  0.11152249,  0.12098785,  0.16828238, -0.07390729,\n",
       "        0.1657461 , -0.28527323,  0.43235432,  0.04877694, -0.17876269,\n",
       "       -0.11541708,  0.2331653 ,  0.03705752, -0.2823594 ,  0.38607502,\n",
       "        0.2725702 , -0.38047191, -0.32008462,  0.2474834 ,  0.23718426,\n",
       "       -0.24691181, -0.20462478,  0.01180372,  0.20869761,  0.30953763,\n",
       "        0.52994754,  0.07719218,  0.04312095,  0.30737063,  0.24489241,\n",
       "       -0.14080713,  0.10844842, -0.42115006, -0.04240606,  0.3193191 ,\n",
       "       -0.32570225,  0.01004046, -0.44259186,  0.16910387, -0.27206547,\n",
       "        0.25361505, -0.00992476,  0.0198399 ,  0.02512527, -0.23126997,\n",
       "        0.44519622, -0.2358399 ,  0.03033749,  0.18721921, -0.1453836 ,\n",
       "       -0.1759017 ,  0.29113234, -0.22995482, -0.19126613, -0.30334168,\n",
       "       -0.00428976,  0.05498154, -0.24647605, -0.18019377, -0.4615664 ,\n",
       "       -0.54380675,  0.33695406,  0.16348324, -0.11113721,  0.00124662,\n",
       "        0.25767294,  0.14583867,  0.00799001, -0.31960139, -0.11795315,\n",
       "       -0.19624368, -0.16317576,  0.24480627,  0.23049478, -0.06108255,\n",
       "        0.28491636,  0.2057384 , -0.40607413, -0.21641355, -0.13393821,\n",
       "        0.26867333,  0.05405558, -0.3076611 ,  0.22329923, -0.07614314,\n",
       "        0.09646577,  0.36980268,  0.23794284, -0.1151893 ,  0.40065384,\n",
       "       -0.28683033, -0.05149452,  0.20357492,  0.2887731 , -0.16033955,\n",
       "        0.01273529,  0.46138526,  0.19634443,  0.12515019, -0.00286696])"
      ]
     },
     "execution_count": 10,
     "metadata": {},
     "output_type": "execute_result"
    }
   ],
   "source": [
    "glove.word_vectors[corpus.dictionary[\"선거\"]]"
   ]
  },
  {
   "cell_type": "code",
   "execution_count": 11,
   "metadata": {},
   "outputs": [],
   "source": [
    "glove.save('glove.model')"
   ]
  }
 ],
 "metadata": {
  "colab": {
   "collapsed_sections": [],
   "name": "GloVe.ipynb",
   "provenance": []
  },
  "kernelspec": {
   "display_name": "Python 3",
   "language": "python",
   "name": "python3"
  },
  "language_info": {
   "codemirror_mode": {
    "name": "ipython",
    "version": 3
   },
   "file_extension": ".py",
   "mimetype": "text/x-python",
   "name": "python",
   "nbconvert_exporter": "python",
   "pygments_lexer": "ipython3",
   "version": "3.6.3"
  }
 },
 "nbformat": 4,
 "nbformat_minor": 1
}
