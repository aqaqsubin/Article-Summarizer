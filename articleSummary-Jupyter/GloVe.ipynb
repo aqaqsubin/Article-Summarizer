{
 "cells": [
  {
   "cell_type": "markdown",
   "metadata": {
    "id": "IHwXAgNfJLfu"
   },
   "source": [
    "### **GloVe**  \n",
    "임베딩 벡터의 내적이 말뭉치 전체에서의 동시출현(co-occurrence) 확률 값이 되는 목적 함수를 갖는다.  \n",
    "이를 통해 임베딩 벡터간 유사도 측정을 수월하게 하면서도 말뭉치 전체의 통계 정보를 반영할 수 있다. \n",
    "\n",
    "> **동시 출현 (Co-occurence)** *이란, 한 문장, 문단 또는 텍스트 단위에서 같이 출현한 단어를 가리다. 언어학적 의미에서 의미적 근접성을 가리킨다.*  \n",
    "\n",
    "\n"
   ]
  },
  {
   "cell_type": "code",
   "execution_count": 8,
   "metadata": {},
   "outputs": [
    {
     "name": "stdout",
     "output_type": "stream",
     "text": [
      "Collecting glove_python\n",
      "\u001b[?25l  Downloading https://files.pythonhosted.org/packages/3e/79/7e7e548dd9dcb741935d031117f4bed133276c2a047aadad42f1552d1771/glove_python-0.1.0.tar.gz (263kB)\n",
      "\u001b[K    100% |################################| 266kB 639kB/s ta 0:00:01\n",
      "\u001b[?25hRequirement already satisfied: numpy in /usr/local/lib/python3.6/dist-packages (from glove_python) (1.14.3)\n",
      "Requirement already satisfied: scipy in /usr/local/lib/python3.6/dist-packages (from glove_python) (1.0.1)\n",
      "Building wheels for collected packages: glove-python\n",
      "  Running setup.py bdist_wheel for glove-python ... \u001b[?25ldone\n",
      "\u001b[?25h  Stored in directory: /root/.cache/pip/wheels/88/4b/6d/10c0d2ad32c9d9d68beec9694a6f0b6e83ab1662a90a089a4b\n",
      "Successfully built glove-python\n",
      "Installing collected packages: glove-python\n",
      "Successfully installed glove-python-0.1.0\n",
      "\u001b[33mYou are using pip version 10.0.1, however version 20.3.3 is available.\n",
      "You should consider upgrading via the 'pip install --upgrade pip' command.\u001b[0m\n"
     ]
    }
   ],
   "source": [
    "!pip install glove_python"
   ]
  },
  {
   "cell_type": "code",
   "execution_count": 1,
   "metadata": {
    "id": "fTe0cGZ-Kzk4"
   },
   "outputs": [],
   "source": [
    "import os\n",
    "import re"
   ]
  },
  {
   "cell_type": "code",
   "execution_count": 3,
   "metadata": {
    "id": "iUFfM3YiK2de"
   },
   "outputs": [],
   "source": [
    "BASE_DIR = \"/data/TestDir/sample_articles\"\n",
    "ORIGIN_PATH = os.path.join(BASE_DIR,\"Origin-Data\")\n",
    "PREPROCESSED_PATH = os.path.join(BASE_DIR,\"Preprocessed-Train-Data\")\n",
    "PRETTY_PATH = os.path.join(BASE_DIR,\"Pretty-Data\")\n",
    "SWORDS_PATH = os.path.join(BASE_DIR, \"StopWordList.txt\")"
   ]
  },
  {
   "cell_type": "code",
   "execution_count": 4,
   "metadata": {
    "id": "RcYIWysUK32c"
   },
   "outputs": [],
   "source": [
    "class RawTextReader:\n",
    "    def __init__(self, filepath):\n",
    "        self.filepath = filepath\n",
    "        self.rgxSplitter = re.compile(\"/n\")\n",
    "\n",
    "    def __iter__(self):\n",
    "        for line in open(self.filepath, encoding='utf-8'):\n",
    "            ch = self.rgxSplitter.split(line)\n",
    "            for s in ch:\n",
    "                yield s"
   ]
  },
  {
   "cell_type": "markdown",
   "metadata": {
    "id": "6IRlk3_1LnBr"
   },
   "source": [
    "기사 본문 내용이 짧기 때문에, 모델을 학습하기에 corpus의 크기가 작다.  \n",
    "아래는 수집한 기사 87건들을 통해 corpus를 구성하고, GloVe 모델을 구축하는 내용이다."
   ]
  },
  {
   "cell_type": "code",
   "execution_count": 5,
   "metadata": {
    "id": "ZkmT9Y7MK5N9"
   },
   "outputs": [],
   "source": [
    "media_list = os.listdir(ORIGIN_PATH)\n",
    "\n",
    "result = []\n",
    "forCount = []\n",
    "for media in media_list:\n",
    "    media_path = os.path.join(PREPROCESSED_PATH, media)\n",
    "    article_list= os.listdir(media_path)\n",
    "\n",
    "    for article in article_list:\n",
    "        reader = RawTextReader(os.path.join(media_path, article)) \n",
    "        content = list(filter(None, reader))\n",
    "        forCount += [token for sent in content for token in sent.split()]\n",
    "        result += [sent.split() for sent in content]"
   ]
  },
  {
   "cell_type": "code",
   "execution_count": 6,
   "metadata": {
    "colab": {
     "base_uri": "https://localhost:8080/"
    },
    "id": "c0GVPX1-K6st",
    "outputId": "df1a233b-c33d-44ae-ff5c-7113751d5ea6"
   },
   "outputs": [
    {
     "name": "stdout",
     "output_type": "stream",
     "text": [
      "전체 token의 개수 : 22341223\n",
      "중복되지 않은 token의 개수 : 1107954\n"
     ]
    }
   ],
   "source": [
    "print(\"전체 token의 개수 : {len}\".format(len=len(forCount)))\n",
    "print(\"중복되지 않은 token의 개수 : {len}\".format(len=len(list(set(forCount)))))"
   ]
  },
  {
   "cell_type": "code",
   "execution_count": 9,
   "metadata": {
    "id": "UiHk8wgQLC1B"
   },
   "outputs": [],
   "source": [
    "from glove import Corpus, Glove\n",
    "\n",
    "corpus = Corpus() \n",
    "corpus.fit(result, window=5)"
   ]
  },
  {
   "cell_type": "code",
   "execution_count": 31,
   "metadata": {
    "colab": {
     "base_uri": "https://localhost:8080/"
    },
    "id": "zCGBCqkjLWaB",
    "outputId": "30d03628-7e51-447f-967d-0567c5eb11dc"
   },
   "outputs": [
    {
     "name": "stdout",
     "output_type": "stream",
     "text": [
      "Performing 20 training epochs with 4 threads\n",
      "Epoch 0\n",
      "Epoch 1\n",
      "Epoch 2\n",
      "Epoch 3\n",
      "Epoch 4\n",
      "Epoch 5\n",
      "Epoch 6\n",
      "Epoch 7\n",
      "Epoch 8\n",
      "Epoch 9\n",
      "Epoch 10\n",
      "Epoch 11\n",
      "Epoch 12\n",
      "Epoch 13\n",
      "Epoch 14\n",
      "Epoch 15\n",
      "Epoch 16\n",
      "Epoch 17\n",
      "Epoch 18\n",
      "Epoch 19\n"
     ]
    }
   ],
   "source": [
    "glove = Glove(no_components=200, learning_rate=0.05)\n",
    "glove.fit(corpus.matrix, epochs=20, no_threads=4, verbose=True)\n",
    "glove.add_dictionary(corpus.dictionary)"
   ]
  },
  {
   "cell_type": "markdown",
   "metadata": {
    "id": "mKZUT2VOLsmW"
   },
   "source": [
    "경찰서장과 비슷한 의미의 단어를 출력한다."
   ]
  },
  {
   "cell_type": "code",
   "execution_count": 32,
   "metadata": {
    "colab": {
     "base_uri": "https://localhost:8080/"
    },
    "id": "eS0HoE8xLFHR",
    "outputId": "7ad30dce-30ed-41f5-9457-bc51d1cd39fd"
   },
   "outputs": [
    {
     "name": "stdout",
     "output_type": "stream",
     "text": [
      "[('수사부서', 0.6000459667401196), ('계장', 0.5670894009342707), ('부원장', 0.5620538739767841), ('중령이', 0.5575559552979485)]\n"
     ]
    }
   ],
   "source": [
    "model_result1=glove.most_similar(\"경찰서장\")\n",
    "print(model_result1)"
   ]
  },
  {
   "cell_type": "code",
   "execution_count": 33,
   "metadata": {},
   "outputs": [
    {
     "data": {
      "text/plain": [
       "2790"
      ]
     },
     "execution_count": 33,
     "metadata": {},
     "output_type": "execute_result"
    }
   ],
   "source": [
    "corpus.dictionary[\"선거\"]"
   ]
  },
  {
   "cell_type": "code",
   "execution_count": 34,
   "metadata": {},
   "outputs": [
    {
     "data": {
      "text/plain": [
       "array([ 2.35866183e-01,  1.29712384e-01,  3.29394465e-01, -1.44185758e-01,\n",
       "        1.24354859e-01,  2.66980849e-01,  1.25057514e-01,  2.17945139e-01,\n",
       "       -4.43377839e-01,  9.14323195e-02, -1.36738079e-01, -2.77354896e-01,\n",
       "       -1.63237091e-01,  8.24703749e-02,  1.62116119e-01, -6.83846029e-02,\n",
       "       -7.41504491e-02, -3.18320115e-01,  3.51119372e-02,  4.31970699e-02,\n",
       "        3.06854109e-02, -2.84492419e-01, -3.37902653e-01, -6.47966352e-02,\n",
       "        6.20843964e-02,  1.39528122e-01,  3.95503334e-01, -3.66851647e-01,\n",
       "       -2.00317395e-01, -1.09803831e-01,  4.80785626e-01, -3.05283638e-01,\n",
       "       -8.64006855e-02, -2.35446412e-01,  1.75167583e-01,  2.34687398e-01,\n",
       "       -3.02714207e-01,  2.47157541e-01, -1.42394903e-01, -4.14685428e-01,\n",
       "        3.09231411e-01,  1.61565244e-01, -9.40552937e-02, -4.41783892e-01,\n",
       "       -3.47915534e-01, -2.19232035e-02, -1.45352877e-01, -9.85079537e-02,\n",
       "       -3.49616633e-02, -2.00855834e-01, -2.23091231e-01, -8.68195803e-02,\n",
       "        4.38984666e-01,  2.62678993e-01,  1.11520767e-02,  3.26525340e-01,\n",
       "        2.38403238e-01,  2.46549652e-01, -3.83498730e-01,  1.67616042e-01,\n",
       "       -1.55010866e-01,  3.32441011e-01,  2.35677737e-02, -3.11759384e-01,\n",
       "       -2.92983893e-02,  2.29226167e-01, -2.20460754e-01,  1.92607371e-01,\n",
       "        9.92128522e-02, -3.19270157e-01, -1.08845260e-01,  1.90030257e-04,\n",
       "       -1.56656756e-02,  2.94955467e-01,  1.02326381e-03, -2.70660681e-01,\n",
       "        1.55568695e-01,  3.15100924e-01,  3.27736407e-02,  9.99048785e-02,\n",
       "        2.51250560e-01, -2.86068083e-01, -1.17561477e-01,  1.07875900e-01,\n",
       "        2.28045269e-02,  1.68154238e-01,  1.16106989e-02, -2.88881732e-02,\n",
       "       -2.60280404e-01,  4.99112592e-01, -1.81360748e-01, -1.08186383e-01,\n",
       "       -2.50363078e-01, -1.71466669e-02, -2.77938112e-01,  1.83123814e-01,\n",
       "        2.72636616e-01, -3.20048087e-01,  6.92744861e-02,  9.38490679e-02,\n",
       "       -3.25739022e-01,  1.23860229e-02,  3.98235703e-02, -2.17754519e-01,\n",
       "        6.07162478e-01,  1.62149140e-01,  3.05807318e-01,  1.37783552e-01,\n",
       "        8.12820850e-02, -1.25719875e-01, -1.73203542e-01, -4.76694094e-02,\n",
       "        3.24394936e-01,  1.61154250e-01, -4.15640024e-01, -3.29269267e-02,\n",
       "        3.22026550e-01, -1.03790274e-01,  7.30018419e-02,  2.25270598e-01,\n",
       "        6.15791786e-01, -3.92838870e-01, -2.04663247e-01, -5.22761999e-02,\n",
       "        2.59384485e-01,  7.25274549e-02,  3.12089963e-01, -9.62815157e-02,\n",
       "        1.77332324e-01,  1.02168196e-02, -1.31488879e-03,  7.02130426e-02,\n",
       "        1.41561482e-01,  8.54329881e-02,  1.64878359e-02, -2.65661545e-01,\n",
       "        2.17853004e-01, -1.33992749e-01,  4.74293170e-01, -5.97267511e-02,\n",
       "        3.54533505e-03, -8.93748258e-02, -2.92807323e-01,  2.50494134e-01,\n",
       "       -2.40361247e-01, -9.67438154e-02,  5.83471745e-03, -3.98289313e-03,\n",
       "       -2.30375436e-01,  2.29970495e-01, -2.76992045e-01, -1.41826587e-01,\n",
       "       -7.96848633e-02,  2.54267473e-01,  2.08395084e-01,  2.30448187e-01,\n",
       "       -3.20692225e-01, -1.02954030e-01,  1.90092835e-01,  6.95794256e-02,\n",
       "        3.14982679e-01, -2.15217826e-01, -2.28860268e-01,  6.69494889e-02,\n",
       "        4.21122249e-02,  1.84632069e-01, -3.22382656e-01, -3.19604019e-01,\n",
       "        2.35414197e-01,  1.11133989e-02,  1.72606341e-01, -1.60776951e-01,\n",
       "       -1.28327289e-01,  3.57165602e-01,  2.99370717e-01,  1.70157290e-01,\n",
       "        1.74235059e-01, -2.13722110e-01,  1.34113952e-01,  1.95141843e-01,\n",
       "       -3.70308611e-01, -1.50124539e-01, -1.31506935e-02,  4.85284514e-02,\n",
       "       -3.98165571e-02, -2.24039153e-02,  2.87276630e-01, -2.18434122e-01,\n",
       "        1.97773231e-01, -3.78676492e-01, -2.46826761e-01,  1.44012622e-01,\n",
       "        4.89429049e-02, -1.23928735e-01,  1.68840676e-01, -2.06661470e-01,\n",
       "        2.56347783e-01, -1.50282529e-02, -5.09915793e-02,  1.03086319e-01])"
      ]
     },
     "execution_count": 34,
     "metadata": {},
     "output_type": "execute_result"
    }
   ],
   "source": [
    "glove.word_vectors[corpus.dictionary[\"선거\"]]"
   ]
  }
 ],
 "metadata": {
  "colab": {
   "collapsed_sections": [],
   "name": "GloVe.ipynb",
   "provenance": []
  },
  "kernelspec": {
   "display_name": "Python 3",
   "language": "python",
   "name": "python3"
  },
  "language_info": {
   "codemirror_mode": {
    "name": "ipython",
    "version": 3
   },
   "file_extension": ".py",
   "mimetype": "text/x-python",
   "name": "python",
   "nbconvert_exporter": "python",
   "pygments_lexer": "ipython3",
   "version": "3.6.3"
  }
 },
 "nbformat": 4,
 "nbformat_minor": 1
}
