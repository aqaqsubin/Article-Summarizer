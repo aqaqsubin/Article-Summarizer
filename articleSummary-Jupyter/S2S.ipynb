{
 "cells": [
  {
   "cell_type": "code",
   "execution_count": 3,
   "metadata": {
    "id": "lZajwNuSy6CL"
   },
   "outputs": [],
   "source": [
    "from tensorflow.keras.layers import Input, LSTM, Embedding, Dense\n",
    "from tensorflow.keras.models import Model\n",
    "import tensorflow as tf"
   ]
  },
  {
   "cell_type": "code",
   "execution_count": 5,
   "metadata": {
    "id": "91z-PsKgbcA6"
   },
   "outputs": [],
   "source": [
    "def encoder(vocab_size, units, embedding_size, regularizer=None, name=\"encoder\"):\n",
    "    enc_inputs = tf.keras.layers.Input(shape=(None,), name=\"encoder inputs\")\n",
    "        \n",
    "    embeddings = tf.keras.layers.Embedding(vocab_size, embedding_size,\n",
    "                    embeddings_regularizer=regularizer, mask_zero=True,\n",
    "                    name='{}-embedding'.format(name))(enc_inputs)\n",
    "    embeddings *= tf.math.sqrt(tf.cast(embedding_size, tf.float32))\n",
    "\n",
    "\n",
    "    encoder_outputs, state_h, state_c = tf.keras.layers.LSTM(units=units, return_state=True,\n",
    "            kernel_regularizer=regularizer, recurrent_regularizer=regularizer, input_shape=(None, embedding_size),\n",
    "            name='{}-lstm'.format(name))(embeddings)\n",
    "    # inputs = Dropout(dropout,name='dropout_%d'%(i+1))(lstm)\n",
    "\n",
    "    return tf.keras.Model(\n",
    "      inputs=[enc_inputs], outputs=[state_h, state_c], name=name)"
   ]
  },
  {
   "cell_type": "code",
   "execution_count": 6,
   "metadata": {
    "id": "Vfw6UuN4ffQ7"
   },
   "outputs": [],
   "source": [
    "def decoder(vocab_size, units, embedding_size, regularizer=None, name=\"decoder\"):\n",
    "    dec_inputs = tf.keras.layers.Input(shape=(None,), name=\"decoder inputs\")\n",
    "    enc_state_h = tf.keras.layers.Input(shape=( units), name=\"encoder hidden state\")\n",
    "    enc_state_c = tf.keras.layers.Input(shape=( units), name=\"encoder context state\")\n",
    "\n",
    "    embeddings = tf.keras.layers.Embedding(vocab_size, embedding_size,\n",
    "                    embeddings_regularizer=regularizer,mask_zero=True,\n",
    "                    name='{}-embedding'.format(name))(dec_inputs)\n",
    "    embeddings *= tf.math.sqrt(tf.cast(embedding_size, tf.float32))\n",
    "    # model.add(embeddings)\n",
    "\n",
    "    decoder_outputs, _, _ = tf.keras.layers.LSTM(units=units, return_sequences=True, return_state=True)(embeddings, initial_state=[enc_state_h, enc_state_c])\n",
    "        \n",
    "    return tf.keras.Model(\n",
    "      inputs=[dec_inputs, enc_state_h, enc_state_c], outputs=decoder_outputs, name=name)"
   ]
  },
  {
   "cell_type": "code",
   "execution_count": 7,
   "metadata": {
    "id": "S1EPFyosmpx_"
   },
   "outputs": [],
   "source": [
    "def seq2seq(src_vocab_size, tar_vocab_size, embedding_size, units=256, regularizer=None):\n",
    "\n",
    "    enc_inputs = tf.keras.layers.Input(shape=(None, ), name=\"encoder inputs\")\n",
    "    dec_inputs = tf.keras.layers.Input(shape=(None, ), name=\"decoder inputs\")\n",
    "\n",
    "    enc_outputs = encoder(src_vocab_size, units, embedding_size= embedding_size, regularizer=regularizer, name=\"encoder\")(inputs=[enc_inputs])\n",
    "\n",
    "    enc_state_h = enc_outputs[0]\n",
    "    enc_state_c = enc_outputs[1]\n",
    "\n",
    "    dec_outputs = decoder(tar_vocab_size, units, embedding_size=embedding_size, regularizer=regularizer, name=\"decoder\")(inputs=[dec_inputs, enc_state_h, enc_state_c])\n",
    "\n",
    "    s2s_outputs = Dense(tar_vocab_size, activation='softmax',name=\"outputs\")(dec_outputs)\n",
    "\n",
    "    return tf.keras.Model(\n",
    "      inputs=[enc_inputs, dec_inputs], outputs=s2s_outputs, name=\"sequence-to-sequence\")\n"
   ]
  }
 ],
 "metadata": {
  "accelerator": "GPU",
  "colab": {
   "collapsed_sections": [],
   "name": "Base-S2S",
   "provenance": []
  },
  "kernelspec": {
   "display_name": "Python 3",
   "language": "python",
   "name": "python3"
  },
  "language_info": {
   "codemirror_mode": {
    "name": "ipython",
    "version": 3
   },
   "file_extension": ".py",
   "mimetype": "text/x-python",
   "name": "python",
   "nbconvert_exporter": "python",
   "pygments_lexer": "ipython3",
   "version": "3.7.6"
  }
 },
 "nbformat": 4,
 "nbformat_minor": 1
}
